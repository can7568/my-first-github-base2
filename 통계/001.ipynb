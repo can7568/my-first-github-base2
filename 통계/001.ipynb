{
 "cells": [
  {
   "cell_type": "code",
   "execution_count": 2,
   "metadata": {},
   "outputs": [
    {
     "name": "stdout",
     "output_type": "stream",
     "text": [
      "hello\n"
     ]
    }
   ],
   "source": [
    "print(\"hello\")"
   ]
  },
  {
   "cell_type": "code",
   "execution_count": 5,
   "metadata": {},
   "outputs": [],
   "source": [
    "import random "
   ]
  },
  {
   "cell_type": "code",
   "execution_count": 16,
   "metadata": {},
   "outputs": [
    {
     "data": {
      "text/plain": [
       "[10, 12, 15, 15, 18, 54, 63, 68, 95, 96]"
      ]
     },
     "execution_count": 16,
     "metadata": {},
     "output_type": "execute_result"
    }
   ],
   "source": [
    "#선택정렬\n",
    "a=[]\n",
    "for i in range(10):\n",
    "    a.append(random.randrange(1, 100)) \n",
    "\n",
    "for i in range(len(a)):\n",
    "    min = i\n",
    "    for j in range(i,len(a)):\n",
    "        if a[min] > a[j]:\n",
    "            min = j\n",
    "    a[i],a[min] = a[min], a[i]\n",
    "    \n",
    "\n",
    "a"
   ]
  },
  {
   "cell_type": "code",
   "execution_count": 19,
   "metadata": {},
   "outputs": [
    {
     "data": {
      "text/plain": [
       "[2, 5, 6, 10, 13, 46, 63, 69, 86, 96]"
      ]
     },
     "execution_count": 19,
     "metadata": {},
     "output_type": "execute_result"
    }
   ],
   "source": [
    "#버블정렬\n",
    "a=[]\n",
    "for i in range(10):\n",
    "    a.append(random.randrange(1, 100)) \n",
    "\n",
    "for i in range(len(a)):\n",
    "    for j in range(len(a)-i-1):\n",
    "        if (a[j] > a[j+1]):\n",
    "            a[j],a[j+1] = a[j+1],a[j]\n",
    "            \n",
    "a  \n",
    "        \n",
    "    \n",
    "        \n",
    "         "
   ]
  },
  {
   "cell_type": "code",
   "execution_count": null,
   "metadata": {},
   "outputs": [],
   "source": [
    "#삽입정렬\n",
    "a=[]\n",
    "for i in range(10):\n",
    "    a.append(random.randrange(1, 100)) \n",
    "    \n",
    "    \n",
    "for i in range(len(a)):\n",
    "    "
   ]
  }
 ],
 "metadata": {
  "interpreter": {
   "hash": "aecd030d4c8316a52bf122072e28f84bcc79844c2684e041fef2e3f1d9f59078"
  },
  "kernelspec": {
   "display_name": "Python 3.10.2 64-bit",
   "language": "python",
   "name": "python3"
  },
  "language_info": {
   "codemirror_mode": {
    "name": "ipython",
    "version": 3
   },
   "file_extension": ".py",
   "mimetype": "text/x-python",
   "name": "python",
   "nbconvert_exporter": "python",
   "pygments_lexer": "ipython3",
   "version": "3.9.7"
  },
  "orig_nbformat": 4
 },
 "nbformat": 4,
 "nbformat_minor": 2
}
