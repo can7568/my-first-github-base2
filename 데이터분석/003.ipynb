{
 "cells": [
  {
   "cell_type": "code",
   "execution_count": null,
   "metadata": {},
   "outputs": [],
   "source": [
    "! pip install pyreadstat"
   ]
  },
  {
   "cell_type": "code",
   "execution_count": null,
   "metadata": {},
   "outputs": [],
   "source": [
    "import pandas as pd"
   ]
  },
  {
   "cell_type": "code",
   "execution_count": null,
   "metadata": {},
   "outputs": [],
   "source": [
    "\n",
    "df_spss_h = pd.read_spss(\"Koweps_h15_2020_beta1.sav\")\n",
    "df_spss_h.head()"
   ]
  },
  {
   "cell_type": "code",
   "execution_count": null,
   "metadata": {},
   "outputs": [],
   "source": [
    "df_spss_p = pd.read_spss(\"Koweps_p15_2020_beta1.sav\")\n",
    "df_spss_p.head()"
   ]
  },
  {
   "cell_type": "code",
   "execution_count": null,
   "metadata": {},
   "outputs": [],
   "source": [
    "df_h = df_spss_h.copy()\n",
    "df_p = df_spss_p.copy()"
   ]
  },
  {
   "cell_type": "code",
   "execution_count": null,
   "metadata": {},
   "outputs": [],
   "source": [
    "sexs = ['h1501_4','h1501_16', 'h1501_28', 'h1501_40','h1501_52', 'h1501_64', 'h1501_76','h1501_88','h1501_100']\n",
    "birth_years = ['h1501_5','h1501_17', 'h1501_29', 'h1501_41', 'h1501_53', 'h1501_65', 'h1501_77','h1501_89','h1501_101']\n",
    "marrieds = ['h1501_11','h1501_23','h1501_35', 'h1501_47', 'h1501_59', 'h1501_71', 'h1501_83','h1501_95','h1501_107']\n",
    "job_types = ['h1503_8', 'h1503_18', 'h1503_28', 'h1503_38', 'h1503_48', 'h1503_58', 'h1503_68','h1503_78','h1503_88']"
   ]
  },
  {
   "cell_type": "code",
   "execution_count": null,
   "metadata": {},
   "outputs": [],
   "source": [
    "#가구용 데이터 구조 확인\n",
    "print(type(df_h), \"\\n\")\n",
    "print(df_h.shape, \"\\n\")\n",
    "print(df_h.info(), \"\\n\")"
   ]
  },
  {
   "cell_type": "code",
   "execution_count": null,
   "metadata": {},
   "outputs": [],
   "source": [
    "#가구원용 데이터 구조 확인\n",
    "print(type(df_p), \"\\n\")\n",
    "print(df_p.shape, \"\\n\")\n",
    "print(df_p.info(), \"\\n\")"
   ]
  },
  {
   "cell_type": "code",
   "execution_count": null,
   "metadata": {},
   "outputs": [],
   "source": [
    "df_h[sexs].head()\n",
    "df_h[birth_years].head()\n",
    "df_h[marrieds].head()\n",
    "df_h[job_types].head()\n"
   ]
  },
  {
   "cell_type": "code",
   "execution_count": null,
   "metadata": {},
   "outputs": [],
   "source": [
    "sexs_data = df_h[sexs]\n",
    "birth_years_data = df_h[birth_years]\n",
    "marrieds_data = df_h[marrieds]\n",
    "job_types_data = df_h[job_types]"
   ]
  },
  {
   "cell_type": "code",
   "execution_count": null,
   "metadata": {},
   "outputs": [],
   "source": [
    "df_h_job = df_h[job_types]\n",
    "type(df_h_job)\n",
    "df_h_job"
   ]
  },
  {
   "cell_type": "code",
   "execution_count": null,
   "metadata": {},
   "outputs": [],
   "source": [
    "#개인 패널 ID\n",
    "h15_pid = [\"h15_pid1\",]\n",
    "h15_pid= [\"h15_pid\"+str(i) for i in range(1,10)]\n",
    "h15_pid\n",
    "df_h[h15_pid]"
   ]
  },
  {
   "cell_type": "code",
   "execution_count": null,
   "metadata": {},
   "outputs": [],
   "source": [
    "#성별ID\n",
    "h15_pid=[\"h15_pid1\",]\n",
    "h15_pid=[\"h15_pid\"+str(i) for i in range(1,10)]\n",
    "h15_pid\n",
    "pannel_ids = df_h[h15_pid]\n",
    "pannel_ids[h15_pid[1]]\n",
    "\n",
    "for aa in pannel_ids[h15_pid[1]]:\n",
    "    print(aa)"
   ]
  },
  {
   "cell_type": "code",
   "execution_count": 35,
   "metadata": {},
   "outputs": [
    {
     "name": "stdout",
     "output_type": "stream",
     "text": [
      "54261\n"
     ]
    }
   ],
   "source": [
    "cnt = len(h15_pid)\n",
    "pannels = []\n",
    "for i in range(cnt):\n",
    "    for pid in pannel_ids[h15_pid[i]]:\n",
    "        pannels.append(pid)\n",
    "        \n",
    "        \n",
    "print(len(pannels))"
   ]
  },
  {
   "cell_type": "code",
   "execution_count": 40,
   "metadata": {},
   "outputs": [
    {
     "name": "stdout",
     "output_type": "stream",
     "text": [
      "pannels_list:  54261\n",
      "sexs list :  54261\n",
      "birth_years_lists:  54261\n",
      "marrieds_list:  54261\n",
      "job_type_lists:  54261\n"
     ]
    }
   ],
   "source": [
    "cnt = len(h15_pid)\n",
    "pannels_list = []\n",
    "sexs_lists = []\n",
    "birth_years_lists = []\n",
    "marrieds_lists = []\n",
    "job_types_lists = []\n",
    "\n",
    "for i in range(cnt):\n",
    "    for data in pannel_ids[h15_pid[i]]:\n",
    "        pannels_list.append(data)\n",
    "        \n",
    "    for data in sexs_data[sexs[i]]:\n",
    "        sexs_lists.append(data)\n",
    "        \n",
    "    for data in birth_years_data[birth_years[i]]:\n",
    "        birth_years_lists.append(data)\n",
    "        \n",
    "    for data in marrieds_data[marrieds[i]]:\n",
    "        marrieds_lists.append(data)\n",
    "        \n",
    "    for data in job_types_data[job_types[i]]:\n",
    "        job_types_lists.append(data)\n",
    "        \n",
    "print(\"pannels_list: \",len(pannels_list))\n",
    "print(\"sexs list : \",len(sexs_lists))\n",
    "print(\"birth_years_lists: \",len(birth_years_lists))\n",
    "print(\"marrieds_list: \",len(marrieds_lists))\n",
    "print(\"job_type_lists: \",len(job_types_lists))\n"
   ]
  },
  {
   "cell_type": "code",
   "execution_count": 43,
   "metadata": {},
   "outputs": [
    {
     "data": {
      "text/html": [
       "<div>\n",
       "<style scoped>\n",
       "    .dataframe tbody tr th:only-of-type {\n",
       "        vertical-align: middle;\n",
       "    }\n",
       "\n",
       "    .dataframe tbody tr th {\n",
       "        vertical-align: top;\n",
       "    }\n",
       "\n",
       "    .dataframe thead th {\n",
       "        text-align: right;\n",
       "    }\n",
       "</style>\n",
       "<table border=\"1\" class=\"dataframe\">\n",
       "  <thead>\n",
       "    <tr style=\"text-align: right;\">\n",
       "      <th></th>\n",
       "      <th>pannel_id</th>\n",
       "      <th>sex</th>\n",
       "      <th>birth_years</th>\n",
       "      <th>married</th>\n",
       "      <th>job_type</th>\n",
       "    </tr>\n",
       "  </thead>\n",
       "  <tbody>\n",
       "    <tr>\n",
       "      <th>0</th>\n",
       "      <td>201.0</td>\n",
       "      <td>2.0</td>\n",
       "      <td>1945.0</td>\n",
       "      <td>2.0</td>\n",
       "      <td>NaN</td>\n",
       "    </tr>\n",
       "    <tr>\n",
       "      <th>1</th>\n",
       "      <td>301.0</td>\n",
       "      <td>1.0</td>\n",
       "      <td>1948.0</td>\n",
       "      <td>2.0</td>\n",
       "      <td>942.0</td>\n",
       "    </tr>\n",
       "    <tr>\n",
       "      <th>2</th>\n",
       "      <td>401.0</td>\n",
       "      <td>1.0</td>\n",
       "      <td>1942.0</td>\n",
       "      <td>3.0</td>\n",
       "      <td>762.0</td>\n",
       "    </tr>\n",
       "    <tr>\n",
       "      <th>3</th>\n",
       "      <td>601.0</td>\n",
       "      <td>1.0</td>\n",
       "      <td>1962.0</td>\n",
       "      <td>1.0</td>\n",
       "      <td>532.0</td>\n",
       "    </tr>\n",
       "    <tr>\n",
       "      <th>4</th>\n",
       "      <td>801.0</td>\n",
       "      <td>2.0</td>\n",
       "      <td>1940.0</td>\n",
       "      <td>2.0</td>\n",
       "      <td>999.0</td>\n",
       "    </tr>\n",
       "    <tr>\n",
       "      <th>...</th>\n",
       "      <td>...</td>\n",
       "      <td>...</td>\n",
       "      <td>...</td>\n",
       "      <td>...</td>\n",
       "      <td>...</td>\n",
       "    </tr>\n",
       "    <tr>\n",
       "      <th>54256</th>\n",
       "      <td>NaN</td>\n",
       "      <td>NaN</td>\n",
       "      <td>NaN</td>\n",
       "      <td>NaN</td>\n",
       "      <td>NaN</td>\n",
       "    </tr>\n",
       "    <tr>\n",
       "      <th>54257</th>\n",
       "      <td>NaN</td>\n",
       "      <td>NaN</td>\n",
       "      <td>NaN</td>\n",
       "      <td>NaN</td>\n",
       "      <td>NaN</td>\n",
       "    </tr>\n",
       "    <tr>\n",
       "      <th>54258</th>\n",
       "      <td>NaN</td>\n",
       "      <td>NaN</td>\n",
       "      <td>NaN</td>\n",
       "      <td>NaN</td>\n",
       "      <td>NaN</td>\n",
       "    </tr>\n",
       "    <tr>\n",
       "      <th>54259</th>\n",
       "      <td>NaN</td>\n",
       "      <td>NaN</td>\n",
       "      <td>NaN</td>\n",
       "      <td>NaN</td>\n",
       "      <td>NaN</td>\n",
       "    </tr>\n",
       "    <tr>\n",
       "      <th>54260</th>\n",
       "      <td>NaN</td>\n",
       "      <td>NaN</td>\n",
       "      <td>NaN</td>\n",
       "      <td>NaN</td>\n",
       "      <td>NaN</td>\n",
       "    </tr>\n",
       "  </tbody>\n",
       "</table>\n",
       "<p>54261 rows × 5 columns</p>\n",
       "</div>"
      ],
      "text/plain": [
       "       pannel_id  sex  birth_years  married  job_type\n",
       "0          201.0  2.0       1945.0      2.0       NaN\n",
       "1          301.0  1.0       1948.0      2.0     942.0\n",
       "2          401.0  1.0       1942.0      3.0     762.0\n",
       "3          601.0  1.0       1962.0      1.0     532.0\n",
       "4          801.0  2.0       1940.0      2.0     999.0\n",
       "...          ...  ...          ...      ...       ...\n",
       "54256        NaN  NaN          NaN      NaN       NaN\n",
       "54257        NaN  NaN          NaN      NaN       NaN\n",
       "54258        NaN  NaN          NaN      NaN       NaN\n",
       "54259        NaN  NaN          NaN      NaN       NaN\n",
       "54260        NaN  NaN          NaN      NaN       NaN\n",
       "\n",
       "[54261 rows x 5 columns]"
      ]
     },
     "execution_count": 43,
     "metadata": {},
     "output_type": "execute_result"
    }
   ],
   "source": [
    "#데이터 프레임 생성\n",
    "raw_data = {'pannel_id':pannels_list,'sex':sexs_lists,'birth_years':birth_years_lists,'married':marrieds_lists,'job_type':job_types_lists}\n",
    "df = pd.DataFrame(raw_data)\n",
    "df"
   ]
  },
  {
   "cell_type": "code",
   "execution_count": 48,
   "metadata": {},
   "outputs": [
    {
     "data": {
      "text/html": [
       "<div>\n",
       "<style scoped>\n",
       "    .dataframe tbody tr th:only-of-type {\n",
       "        vertical-align: middle;\n",
       "    }\n",
       "\n",
       "    .dataframe tbody tr th {\n",
       "        vertical-align: top;\n",
       "    }\n",
       "\n",
       "    .dataframe thead th {\n",
       "        text-align: right;\n",
       "    }\n",
       "</style>\n",
       "<table border=\"1\" class=\"dataframe\">\n",
       "  <thead>\n",
       "    <tr style=\"text-align: right;\">\n",
       "      <th></th>\n",
       "      <th>pannel_id</th>\n",
       "      <th>salary</th>\n",
       "      <th>major</th>\n",
       "      <th>donation</th>\n",
       "      <th>drink_qty</th>\n",
       "      <th>drink_freq</th>\n",
       "    </tr>\n",
       "  </thead>\n",
       "  <tbody>\n",
       "    <tr>\n",
       "      <th>0</th>\n",
       "      <td>201.0</td>\n",
       "      <td>NaN</td>\n",
       "      <td>NaN</td>\n",
       "      <td>NaN</td>\n",
       "      <td>5.0</td>\n",
       "      <td>NaN</td>\n",
       "    </tr>\n",
       "    <tr>\n",
       "      <th>1</th>\n",
       "      <td>301.0</td>\n",
       "      <td>167.0</td>\n",
       "      <td>NaN</td>\n",
       "      <td>NaN</td>\n",
       "      <td>5.0</td>\n",
       "      <td>NaN</td>\n",
       "    </tr>\n",
       "    <tr>\n",
       "      <th>2</th>\n",
       "      <td>401.0</td>\n",
       "      <td>78.0</td>\n",
       "      <td>NaN</td>\n",
       "      <td>NaN</td>\n",
       "      <td>5.0</td>\n",
       "      <td>NaN</td>\n",
       "    </tr>\n",
       "    <tr>\n",
       "      <th>3</th>\n",
       "      <td>601.0</td>\n",
       "      <td>NaN</td>\n",
       "      <td>NaN</td>\n",
       "      <td>NaN</td>\n",
       "      <td>5.0</td>\n",
       "      <td>NaN</td>\n",
       "    </tr>\n",
       "    <tr>\n",
       "      <th>4</th>\n",
       "      <td>602.0</td>\n",
       "      <td>NaN</td>\n",
       "      <td>NaN</td>\n",
       "      <td>12.0</td>\n",
       "      <td>5.0</td>\n",
       "      <td>NaN</td>\n",
       "    </tr>\n",
       "    <tr>\n",
       "      <th>...</th>\n",
       "      <td>...</td>\n",
       "      <td>...</td>\n",
       "      <td>...</td>\n",
       "      <td>...</td>\n",
       "      <td>...</td>\n",
       "      <td>...</td>\n",
       "    </tr>\n",
       "    <tr>\n",
       "      <th>11452</th>\n",
       "      <td>980002.0</td>\n",
       "      <td>NaN</td>\n",
       "      <td>NaN</td>\n",
       "      <td>NaN</td>\n",
       "      <td>5.0</td>\n",
       "      <td>NaN</td>\n",
       "    </tr>\n",
       "    <tr>\n",
       "      <th>11453</th>\n",
       "      <td>980003.0</td>\n",
       "      <td>NaN</td>\n",
       "      <td>NaN</td>\n",
       "      <td>NaN</td>\n",
       "      <td>5.0</td>\n",
       "      <td>NaN</td>\n",
       "    </tr>\n",
       "    <tr>\n",
       "      <th>11454</th>\n",
       "      <td>980004.0</td>\n",
       "      <td>89.0</td>\n",
       "      <td>NaN</td>\n",
       "      <td>NaN</td>\n",
       "      <td>5.0</td>\n",
       "      <td>NaN</td>\n",
       "    </tr>\n",
       "    <tr>\n",
       "      <th>11455</th>\n",
       "      <td>980005.0</td>\n",
       "      <td>184.0</td>\n",
       "      <td>NaN</td>\n",
       "      <td>NaN</td>\n",
       "      <td>5.0</td>\n",
       "      <td>NaN</td>\n",
       "    </tr>\n",
       "    <tr>\n",
       "      <th>11456</th>\n",
       "      <td>980006.0</td>\n",
       "      <td>85.0</td>\n",
       "      <td>NaN</td>\n",
       "      <td>NaN</td>\n",
       "      <td>5.0</td>\n",
       "      <td>NaN</td>\n",
       "    </tr>\n",
       "  </tbody>\n",
       "</table>\n",
       "<p>11457 rows × 6 columns</p>\n",
       "</div>"
      ],
      "text/plain": [
       "       pannel_id  salary  major  donation  drink_qty  drink_freq\n",
       "0          201.0     NaN    NaN       NaN        5.0         NaN\n",
       "1          301.0   167.0    NaN       NaN        5.0         NaN\n",
       "2          401.0    78.0    NaN       NaN        5.0         NaN\n",
       "3          601.0     NaN    NaN       NaN        5.0         NaN\n",
       "4          602.0     NaN    NaN      12.0        5.0         NaN\n",
       "...          ...     ...    ...       ...        ...         ...\n",
       "11452   980002.0     NaN    NaN       NaN        5.0         NaN\n",
       "11453   980003.0     NaN    NaN       NaN        5.0         NaN\n",
       "11454   980004.0    89.0    NaN       NaN        5.0         NaN\n",
       "11455   980005.0   184.0    NaN       NaN        5.0         NaN\n",
       "11456   980006.0    85.0    NaN       NaN        5.0         NaN\n",
       "\n",
       "[11457 rows x 6 columns]"
      ]
     },
     "execution_count": 48,
     "metadata": {},
     "output_type": "execute_result"
    }
   ],
   "source": [
    "col = ['h15_pid', 'p1502_8aq1', 'p1507_3aq5', 'p1504_5', 'p1505_2', 'p1505_3']\n",
    "df_p_sel = df_p[col]\n",
    "#컬럼명 변경\n",
    "df_p_sel.rename(columns = {'h15_pid' : 'pannel_id',\n",
    "'p1502_8aq1' : 'salary',\n",
    "'p1507_3aq5' : 'major',\n",
    "'p1504_5' : 'donation',\n",
    "'p1505_2' : 'drink_qty',\n",
    "'p1505_3' : 'drink_freq'\n",
    "}, inplace=True)\n",
    "df_p_sel"
   ]
  },
  {
   "cell_type": "code",
   "execution_count": 53,
   "metadata": {},
   "outputs": [
    {
     "data": {
      "text/html": [
       "<div>\n",
       "<style scoped>\n",
       "    .dataframe tbody tr th:only-of-type {\n",
       "        vertical-align: middle;\n",
       "    }\n",
       "\n",
       "    .dataframe tbody tr th {\n",
       "        vertical-align: top;\n",
       "    }\n",
       "\n",
       "    .dataframe thead th {\n",
       "        text-align: right;\n",
       "    }\n",
       "</style>\n",
       "<table border=\"1\" class=\"dataframe\">\n",
       "  <thead>\n",
       "    <tr style=\"text-align: right;\">\n",
       "      <th></th>\n",
       "      <th>sex</th>\n",
       "      <th>birth_years</th>\n",
       "      <th>married</th>\n",
       "      <th>job_type</th>\n",
       "    </tr>\n",
       "    <tr>\n",
       "      <th>pannel_id</th>\n",
       "      <th></th>\n",
       "      <th></th>\n",
       "      <th></th>\n",
       "      <th></th>\n",
       "    </tr>\n",
       "  </thead>\n",
       "  <tbody>\n",
       "    <tr>\n",
       "      <th>201.0</th>\n",
       "      <td>2.0</td>\n",
       "      <td>1945.0</td>\n",
       "      <td>2.0</td>\n",
       "      <td>NaN</td>\n",
       "    </tr>\n",
       "    <tr>\n",
       "      <th>301.0</th>\n",
       "      <td>1.0</td>\n",
       "      <td>1948.0</td>\n",
       "      <td>2.0</td>\n",
       "      <td>942.0</td>\n",
       "    </tr>\n",
       "    <tr>\n",
       "      <th>401.0</th>\n",
       "      <td>1.0</td>\n",
       "      <td>1942.0</td>\n",
       "      <td>3.0</td>\n",
       "      <td>762.0</td>\n",
       "    </tr>\n",
       "    <tr>\n",
       "      <th>601.0</th>\n",
       "      <td>1.0</td>\n",
       "      <td>1962.0</td>\n",
       "      <td>1.0</td>\n",
       "      <td>532.0</td>\n",
       "    </tr>\n",
       "    <tr>\n",
       "      <th>602.0</th>\n",
       "      <td>2.0</td>\n",
       "      <td>1963.0</td>\n",
       "      <td>1.0</td>\n",
       "      <td>NaN</td>\n",
       "    </tr>\n",
       "    <tr>\n",
       "      <th>...</th>\n",
       "      <td>...</td>\n",
       "      <td>...</td>\n",
       "      <td>...</td>\n",
       "      <td>...</td>\n",
       "    </tr>\n",
       "    <tr>\n",
       "      <th>NaN</th>\n",
       "      <td>NaN</td>\n",
       "      <td>NaN</td>\n",
       "      <td>NaN</td>\n",
       "      <td>NaN</td>\n",
       "    </tr>\n",
       "    <tr>\n",
       "      <th>NaN</th>\n",
       "      <td>NaN</td>\n",
       "      <td>NaN</td>\n",
       "      <td>NaN</td>\n",
       "      <td>NaN</td>\n",
       "    </tr>\n",
       "    <tr>\n",
       "      <th>NaN</th>\n",
       "      <td>NaN</td>\n",
       "      <td>NaN</td>\n",
       "      <td>NaN</td>\n",
       "      <td>NaN</td>\n",
       "    </tr>\n",
       "    <tr>\n",
       "      <th>NaN</th>\n",
       "      <td>NaN</td>\n",
       "      <td>NaN</td>\n",
       "      <td>NaN</td>\n",
       "      <td>NaN</td>\n",
       "    </tr>\n",
       "    <tr>\n",
       "      <th>NaN</th>\n",
       "      <td>NaN</td>\n",
       "      <td>NaN</td>\n",
       "      <td>NaN</td>\n",
       "      <td>NaN</td>\n",
       "    </tr>\n",
       "  </tbody>\n",
       "</table>\n",
       "<p>54261 rows × 4 columns</p>\n",
       "</div>"
      ],
      "text/plain": [
       "           sex  birth_years  married  job_type\n",
       "pannel_id                                     \n",
       "201.0      2.0       1945.0      2.0       NaN\n",
       "301.0      1.0       1948.0      2.0     942.0\n",
       "401.0      1.0       1942.0      3.0     762.0\n",
       "601.0      1.0       1962.0      1.0     532.0\n",
       "602.0      2.0       1963.0      1.0       NaN\n",
       "...        ...          ...      ...       ...\n",
       "NaN        NaN          NaN      NaN       NaN\n",
       "NaN        NaN          NaN      NaN       NaN\n",
       "NaN        NaN          NaN      NaN       NaN\n",
       "NaN        NaN          NaN      NaN       NaN\n",
       "NaN        NaN          NaN      NaN       NaN\n",
       "\n",
       "[54261 rows x 4 columns]"
      ]
     },
     "execution_count": 53,
     "metadata": {},
     "output_type": "execute_result"
    }
   ],
   "source": [
    "#가구용과 가구원용 합치기\n",
    "df = df.sort_values(\"pannel_id\")\n",
    "#pannel_id를 인덱스로 둠\n",
    "df1 = df.set_index(\"pannel_id\")\n",
    "df1\n"
   ]
  },
  {
   "cell_type": "code",
   "execution_count": 54,
   "metadata": {},
   "outputs": [
    {
     "data": {
      "text/html": [
       "<div>\n",
       "<style scoped>\n",
       "    .dataframe tbody tr th:only-of-type {\n",
       "        vertical-align: middle;\n",
       "    }\n",
       "\n",
       "    .dataframe tbody tr th {\n",
       "        vertical-align: top;\n",
       "    }\n",
       "\n",
       "    .dataframe thead th {\n",
       "        text-align: right;\n",
       "    }\n",
       "</style>\n",
       "<table border=\"1\" class=\"dataframe\">\n",
       "  <thead>\n",
       "    <tr style=\"text-align: right;\">\n",
       "      <th></th>\n",
       "      <th>salary</th>\n",
       "      <th>major</th>\n",
       "      <th>donation</th>\n",
       "      <th>drink_qty</th>\n",
       "      <th>drink_freq</th>\n",
       "    </tr>\n",
       "    <tr>\n",
       "      <th>pannel_id</th>\n",
       "      <th></th>\n",
       "      <th></th>\n",
       "      <th></th>\n",
       "      <th></th>\n",
       "      <th></th>\n",
       "    </tr>\n",
       "  </thead>\n",
       "  <tbody>\n",
       "    <tr>\n",
       "      <th>201.0</th>\n",
       "      <td>NaN</td>\n",
       "      <td>NaN</td>\n",
       "      <td>NaN</td>\n",
       "      <td>5.0</td>\n",
       "      <td>NaN</td>\n",
       "    </tr>\n",
       "    <tr>\n",
       "      <th>301.0</th>\n",
       "      <td>167.0</td>\n",
       "      <td>NaN</td>\n",
       "      <td>NaN</td>\n",
       "      <td>5.0</td>\n",
       "      <td>NaN</td>\n",
       "    </tr>\n",
       "    <tr>\n",
       "      <th>401.0</th>\n",
       "      <td>78.0</td>\n",
       "      <td>NaN</td>\n",
       "      <td>NaN</td>\n",
       "      <td>5.0</td>\n",
       "      <td>NaN</td>\n",
       "    </tr>\n",
       "    <tr>\n",
       "      <th>601.0</th>\n",
       "      <td>NaN</td>\n",
       "      <td>NaN</td>\n",
       "      <td>NaN</td>\n",
       "      <td>5.0</td>\n",
       "      <td>NaN</td>\n",
       "    </tr>\n",
       "    <tr>\n",
       "      <th>602.0</th>\n",
       "      <td>NaN</td>\n",
       "      <td>NaN</td>\n",
       "      <td>12.0</td>\n",
       "      <td>5.0</td>\n",
       "      <td>NaN</td>\n",
       "    </tr>\n",
       "    <tr>\n",
       "      <th>...</th>\n",
       "      <td>...</td>\n",
       "      <td>...</td>\n",
       "      <td>...</td>\n",
       "      <td>...</td>\n",
       "      <td>...</td>\n",
       "    </tr>\n",
       "    <tr>\n",
       "      <th>980002.0</th>\n",
       "      <td>NaN</td>\n",
       "      <td>NaN</td>\n",
       "      <td>NaN</td>\n",
       "      <td>5.0</td>\n",
       "      <td>NaN</td>\n",
       "    </tr>\n",
       "    <tr>\n",
       "      <th>980003.0</th>\n",
       "      <td>NaN</td>\n",
       "      <td>NaN</td>\n",
       "      <td>NaN</td>\n",
       "      <td>5.0</td>\n",
       "      <td>NaN</td>\n",
       "    </tr>\n",
       "    <tr>\n",
       "      <th>980004.0</th>\n",
       "      <td>89.0</td>\n",
       "      <td>NaN</td>\n",
       "      <td>NaN</td>\n",
       "      <td>5.0</td>\n",
       "      <td>NaN</td>\n",
       "    </tr>\n",
       "    <tr>\n",
       "      <th>980005.0</th>\n",
       "      <td>184.0</td>\n",
       "      <td>NaN</td>\n",
       "      <td>NaN</td>\n",
       "      <td>5.0</td>\n",
       "      <td>NaN</td>\n",
       "    </tr>\n",
       "    <tr>\n",
       "      <th>980006.0</th>\n",
       "      <td>85.0</td>\n",
       "      <td>NaN</td>\n",
       "      <td>NaN</td>\n",
       "      <td>5.0</td>\n",
       "      <td>NaN</td>\n",
       "    </tr>\n",
       "  </tbody>\n",
       "</table>\n",
       "<p>11457 rows × 5 columns</p>\n",
       "</div>"
      ],
      "text/plain": [
       "           salary  major  donation  drink_qty  drink_freq\n",
       "pannel_id                                                \n",
       "201.0         NaN    NaN       NaN        5.0         NaN\n",
       "301.0       167.0    NaN       NaN        5.0         NaN\n",
       "401.0        78.0    NaN       NaN        5.0         NaN\n",
       "601.0         NaN    NaN       NaN        5.0         NaN\n",
       "602.0         NaN    NaN      12.0        5.0         NaN\n",
       "...           ...    ...       ...        ...         ...\n",
       "980002.0      NaN    NaN       NaN        5.0         NaN\n",
       "980003.0      NaN    NaN       NaN        5.0         NaN\n",
       "980004.0     89.0    NaN       NaN        5.0         NaN\n",
       "980005.0    184.0    NaN       NaN        5.0         NaN\n",
       "980006.0     85.0    NaN       NaN        5.0         NaN\n",
       "\n",
       "[11457 rows x 5 columns]"
      ]
     },
     "execution_count": 54,
     "metadata": {},
     "output_type": "execute_result"
    }
   ],
   "source": [
    "df_p_sel = df_p_sel.sort_values(\"pannel_id\")\n",
    "df2 = df_p_sel.set_index(\"pannel_id\")\n",
    "df2"
   ]
  },
  {
   "cell_type": "code",
   "execution_count": 55,
   "metadata": {},
   "outputs": [
    {
     "data": {
      "text/plain": [
       "(       pannel_id  sex  birth_years  married  job_type\n",
       " 0          201.0  2.0       1945.0      2.0       NaN\n",
       " 1          301.0  1.0       1948.0      2.0     942.0\n",
       " 2          401.0  1.0       1942.0      3.0     762.0\n",
       " 3          601.0  1.0       1962.0      1.0     532.0\n",
       " 6032       602.0  2.0       1963.0      1.0       NaN\n",
       " 12061      603.0  2.0       2003.0      0.0       NaN\n",
       " 18090      604.0  1.0       1927.0      1.0       NaN\n",
       " 24119      605.0  2.0       1934.0      1.0     941.0\n",
       " 4          801.0  2.0       1940.0      2.0     999.0\n",
       " 5         1001.0  2.0       1970.0      3.0       NaN,\n",
       " '------',\n",
       "    pannel_id  salary  major  donation  drink_qty  drink_freq\n",
       " 0      201.0     NaN    NaN       NaN        5.0         NaN\n",
       " 1      301.0   167.0    NaN       NaN        5.0         NaN\n",
       " 2      401.0    78.0    NaN       NaN        5.0         NaN\n",
       " 3      601.0     NaN    NaN       NaN        5.0         NaN\n",
       " 4      602.0     NaN    NaN      12.0        5.0         NaN\n",
       " 5      604.0     NaN    NaN       NaN        5.0         NaN\n",
       " 6      605.0    27.0    NaN       NaN        5.0         NaN\n",
       " 7      801.0    27.0    NaN       NaN        5.0         NaN\n",
       " 8     1001.0     NaN    NaN       NaN        5.0         NaN\n",
       " 9     1002.0     NaN    NaN       NaN        5.0         NaN)"
      ]
     },
     "execution_count": 55,
     "metadata": {},
     "output_type": "execute_result"
    }
   ],
   "source": [
    "df.head(10), \"------\",df_p_sel.head(10)"
   ]
  },
  {
   "cell_type": "code",
   "execution_count": 57,
   "metadata": {},
   "outputs": [
    {
     "data": {
      "text/html": [
       "<div>\n",
       "<style scoped>\n",
       "    .dataframe tbody tr th:only-of-type {\n",
       "        vertical-align: middle;\n",
       "    }\n",
       "\n",
       "    .dataframe tbody tr th {\n",
       "        vertical-align: top;\n",
       "    }\n",
       "\n",
       "    .dataframe thead th {\n",
       "        text-align: right;\n",
       "    }\n",
       "</style>\n",
       "<table border=\"1\" class=\"dataframe\">\n",
       "  <thead>\n",
       "    <tr style=\"text-align: right;\">\n",
       "      <th></th>\n",
       "      <th>sex</th>\n",
       "      <th>birth_years</th>\n",
       "      <th>married</th>\n",
       "      <th>job_type</th>\n",
       "      <th>salary</th>\n",
       "      <th>major</th>\n",
       "      <th>donation</th>\n",
       "      <th>drink_qty</th>\n",
       "      <th>drink_freq</th>\n",
       "    </tr>\n",
       "    <tr>\n",
       "      <th>pannel_id</th>\n",
       "      <th></th>\n",
       "      <th></th>\n",
       "      <th></th>\n",
       "      <th></th>\n",
       "      <th></th>\n",
       "      <th></th>\n",
       "      <th></th>\n",
       "      <th></th>\n",
       "      <th></th>\n",
       "    </tr>\n",
       "  </thead>\n",
       "  <tbody>\n",
       "    <tr>\n",
       "      <th>201.0</th>\n",
       "      <td>2.0</td>\n",
       "      <td>1945.0</td>\n",
       "      <td>2.0</td>\n",
       "      <td>NaN</td>\n",
       "      <td>NaN</td>\n",
       "      <td>NaN</td>\n",
       "      <td>NaN</td>\n",
       "      <td>5.0</td>\n",
       "      <td>NaN</td>\n",
       "    </tr>\n",
       "    <tr>\n",
       "      <th>301.0</th>\n",
       "      <td>1.0</td>\n",
       "      <td>1948.0</td>\n",
       "      <td>2.0</td>\n",
       "      <td>942.0</td>\n",
       "      <td>167.0</td>\n",
       "      <td>NaN</td>\n",
       "      <td>NaN</td>\n",
       "      <td>5.0</td>\n",
       "      <td>NaN</td>\n",
       "    </tr>\n",
       "    <tr>\n",
       "      <th>401.0</th>\n",
       "      <td>1.0</td>\n",
       "      <td>1942.0</td>\n",
       "      <td>3.0</td>\n",
       "      <td>762.0</td>\n",
       "      <td>78.0</td>\n",
       "      <td>NaN</td>\n",
       "      <td>NaN</td>\n",
       "      <td>5.0</td>\n",
       "      <td>NaN</td>\n",
       "    </tr>\n",
       "    <tr>\n",
       "      <th>601.0</th>\n",
       "      <td>1.0</td>\n",
       "      <td>1962.0</td>\n",
       "      <td>1.0</td>\n",
       "      <td>532.0</td>\n",
       "      <td>NaN</td>\n",
       "      <td>NaN</td>\n",
       "      <td>NaN</td>\n",
       "      <td>5.0</td>\n",
       "      <td>NaN</td>\n",
       "    </tr>\n",
       "    <tr>\n",
       "      <th>602.0</th>\n",
       "      <td>2.0</td>\n",
       "      <td>1963.0</td>\n",
       "      <td>1.0</td>\n",
       "      <td>NaN</td>\n",
       "      <td>NaN</td>\n",
       "      <td>NaN</td>\n",
       "      <td>12.0</td>\n",
       "      <td>5.0</td>\n",
       "      <td>NaN</td>\n",
       "    </tr>\n",
       "    <tr>\n",
       "      <th>603.0</th>\n",
       "      <td>2.0</td>\n",
       "      <td>2003.0</td>\n",
       "      <td>0.0</td>\n",
       "      <td>NaN</td>\n",
       "      <td>NaN</td>\n",
       "      <td>NaN</td>\n",
       "      <td>NaN</td>\n",
       "      <td>NaN</td>\n",
       "      <td>NaN</td>\n",
       "    </tr>\n",
       "    <tr>\n",
       "      <th>604.0</th>\n",
       "      <td>1.0</td>\n",
       "      <td>1927.0</td>\n",
       "      <td>1.0</td>\n",
       "      <td>NaN</td>\n",
       "      <td>NaN</td>\n",
       "      <td>NaN</td>\n",
       "      <td>NaN</td>\n",
       "      <td>5.0</td>\n",
       "      <td>NaN</td>\n",
       "    </tr>\n",
       "    <tr>\n",
       "      <th>605.0</th>\n",
       "      <td>2.0</td>\n",
       "      <td>1934.0</td>\n",
       "      <td>1.0</td>\n",
       "      <td>941.0</td>\n",
       "      <td>27.0</td>\n",
       "      <td>NaN</td>\n",
       "      <td>NaN</td>\n",
       "      <td>5.0</td>\n",
       "      <td>NaN</td>\n",
       "    </tr>\n",
       "    <tr>\n",
       "      <th>801.0</th>\n",
       "      <td>2.0</td>\n",
       "      <td>1940.0</td>\n",
       "      <td>2.0</td>\n",
       "      <td>999.0</td>\n",
       "      <td>27.0</td>\n",
       "      <td>NaN</td>\n",
       "      <td>NaN</td>\n",
       "      <td>5.0</td>\n",
       "      <td>NaN</td>\n",
       "    </tr>\n",
       "    <tr>\n",
       "      <th>1001.0</th>\n",
       "      <td>2.0</td>\n",
       "      <td>1970.0</td>\n",
       "      <td>3.0</td>\n",
       "      <td>NaN</td>\n",
       "      <td>NaN</td>\n",
       "      <td>NaN</td>\n",
       "      <td>NaN</td>\n",
       "      <td>5.0</td>\n",
       "      <td>NaN</td>\n",
       "    </tr>\n",
       "  </tbody>\n",
       "</table>\n",
       "</div>"
      ],
      "text/plain": [
       "           sex  birth_years  married  job_type  salary  major  donation  \\\n",
       "pannel_id                                                                 \n",
       "201.0      2.0       1945.0      2.0       NaN     NaN    NaN       NaN   \n",
       "301.0      1.0       1948.0      2.0     942.0   167.0    NaN       NaN   \n",
       "401.0      1.0       1942.0      3.0     762.0    78.0    NaN       NaN   \n",
       "601.0      1.0       1962.0      1.0     532.0     NaN    NaN       NaN   \n",
       "602.0      2.0       1963.0      1.0       NaN     NaN    NaN      12.0   \n",
       "603.0      2.0       2003.0      0.0       NaN     NaN    NaN       NaN   \n",
       "604.0      1.0       1927.0      1.0       NaN     NaN    NaN       NaN   \n",
       "605.0      2.0       1934.0      1.0     941.0    27.0    NaN       NaN   \n",
       "801.0      2.0       1940.0      2.0     999.0    27.0    NaN       NaN   \n",
       "1001.0     2.0       1970.0      3.0       NaN     NaN    NaN       NaN   \n",
       "\n",
       "           drink_qty  drink_freq  \n",
       "pannel_id                         \n",
       "201.0            5.0         NaN  \n",
       "301.0            5.0         NaN  \n",
       "401.0            5.0         NaN  \n",
       "601.0            5.0         NaN  \n",
       "602.0            5.0         NaN  \n",
       "603.0            NaN         NaN  \n",
       "604.0            5.0         NaN  \n",
       "605.0            5.0         NaN  \n",
       "801.0            5.0         NaN  \n",
       "1001.0           5.0         NaN  "
      ]
     },
     "execution_count": 57,
     "metadata": {},
     "output_type": "execute_result"
    }
   ],
   "source": [
    "#합치기\n",
    "df = []\n",
    "df\n",
    "df = pd.concat([df1,df2],axis = 1)\n",
    "df.head(10)"
   ]
  },
  {
   "cell_type": "code",
   "execution_count": 58,
   "metadata": {},
   "outputs": [],
   "source": [
    "df.to_excel('survey15.xlsx')"
   ]
  },
  {
   "cell_type": "code",
   "execution_count": 68,
   "metadata": {},
   "outputs": [
    {
     "data": {
      "text/html": [
       "<div>\n",
       "<style scoped>\n",
       "    .dataframe tbody tr th:only-of-type {\n",
       "        vertical-align: middle;\n",
       "    }\n",
       "\n",
       "    .dataframe tbody tr th {\n",
       "        vertical-align: top;\n",
       "    }\n",
       "\n",
       "    .dataframe thead th {\n",
       "        text-align: right;\n",
       "    }\n",
       "</style>\n",
       "<table border=\"1\" class=\"dataframe\">\n",
       "  <thead>\n",
       "    <tr style=\"text-align: right;\">\n",
       "      <th></th>\n",
       "      <th>pannel_id</th>\n",
       "      <th>sex</th>\n",
       "      <th>birth_years</th>\n",
       "      <th>married</th>\n",
       "      <th>job_type</th>\n",
       "      <th>salary</th>\n",
       "      <th>major</th>\n",
       "      <th>donation</th>\n",
       "      <th>drink_qty</th>\n",
       "      <th>drink_freq</th>\n",
       "    </tr>\n",
       "  </thead>\n",
       "  <tbody>\n",
       "    <tr>\n",
       "      <th>0</th>\n",
       "      <td>201</td>\n",
       "      <td>2</td>\n",
       "      <td>1945</td>\n",
       "      <td>2</td>\n",
       "      <td>NaN</td>\n",
       "      <td>NaN</td>\n",
       "      <td>NaN</td>\n",
       "      <td>NaN</td>\n",
       "      <td>5.0</td>\n",
       "      <td>NaN</td>\n",
       "    </tr>\n",
       "    <tr>\n",
       "      <th>1</th>\n",
       "      <td>301</td>\n",
       "      <td>1</td>\n",
       "      <td>1948</td>\n",
       "      <td>2</td>\n",
       "      <td>942.0</td>\n",
       "      <td>167.0</td>\n",
       "      <td>NaN</td>\n",
       "      <td>NaN</td>\n",
       "      <td>5.0</td>\n",
       "      <td>NaN</td>\n",
       "    </tr>\n",
       "    <tr>\n",
       "      <th>2</th>\n",
       "      <td>401</td>\n",
       "      <td>1</td>\n",
       "      <td>1942</td>\n",
       "      <td>3</td>\n",
       "      <td>762.0</td>\n",
       "      <td>78.0</td>\n",
       "      <td>NaN</td>\n",
       "      <td>NaN</td>\n",
       "      <td>5.0</td>\n",
       "      <td>NaN</td>\n",
       "    </tr>\n",
       "    <tr>\n",
       "      <th>3</th>\n",
       "      <td>601</td>\n",
       "      <td>1</td>\n",
       "      <td>1962</td>\n",
       "      <td>1</td>\n",
       "      <td>532.0</td>\n",
       "      <td>NaN</td>\n",
       "      <td>NaN</td>\n",
       "      <td>NaN</td>\n",
       "      <td>5.0</td>\n",
       "      <td>NaN</td>\n",
       "    </tr>\n",
       "    <tr>\n",
       "      <th>4</th>\n",
       "      <td>602</td>\n",
       "      <td>2</td>\n",
       "      <td>1963</td>\n",
       "      <td>1</td>\n",
       "      <td>NaN</td>\n",
       "      <td>NaN</td>\n",
       "      <td>NaN</td>\n",
       "      <td>12.0</td>\n",
       "      <td>5.0</td>\n",
       "      <td>NaN</td>\n",
       "    </tr>\n",
       "  </tbody>\n",
       "</table>\n",
       "</div>"
      ],
      "text/plain": [
       "   pannel_id  sex  birth_years  married  job_type  salary  major  donation  \\\n",
       "0        201    2         1945        2       NaN     NaN    NaN       NaN   \n",
       "1        301    1         1948        2     942.0   167.0    NaN       NaN   \n",
       "2        401    1         1942        3     762.0    78.0    NaN       NaN   \n",
       "3        601    1         1962        1     532.0     NaN    NaN       NaN   \n",
       "4        602    2         1963        1       NaN     NaN    NaN      12.0   \n",
       "\n",
       "   drink_qty  drink_freq  \n",
       "0        5.0         NaN  \n",
       "1        5.0         NaN  \n",
       "2        5.0         NaN  \n",
       "3        5.0         NaN  \n",
       "4        5.0         NaN  "
      ]
     },
     "execution_count": 68,
     "metadata": {},
     "output_type": "execute_result"
    }
   ],
   "source": [
    "#남녀 월급 차이 있을까?\n",
    "df = pd.read_excel('survey15.xlsx')\n",
    "df.head()"
   ]
  },
  {
   "cell_type": "code",
   "execution_count": 69,
   "metadata": {},
   "outputs": [
    {
     "data": {
      "text/plain": [
       "2    7383\n",
       "1    6077\n",
       "Name: sex, dtype: int64"
      ]
     },
     "execution_count": 69,
     "metadata": {},
     "output_type": "execute_result"
    }
   ],
   "source": [
    "#성별 변수 검토\n",
    "df['sex'].values\n",
    "df['sex'].value_counts()"
   ]
  },
  {
   "cell_type": "code",
   "execution_count": 70,
   "metadata": {},
   "outputs": [
    {
     "data": {
      "text/plain": [
       "(13460, 0)"
      ]
     },
     "execution_count": 70,
     "metadata": {},
     "output_type": "execute_result"
    }
   ],
   "source": [
    "len(df['sex']),df['sex'].isnull().sum()"
   ]
  },
  {
   "cell_type": "code",
   "execution_count": 71,
   "metadata": {},
   "outputs": [
    {
     "data": {
      "text/html": [
       "<div>\n",
       "<style scoped>\n",
       "    .dataframe tbody tr th:only-of-type {\n",
       "        vertical-align: middle;\n",
       "    }\n",
       "\n",
       "    .dataframe tbody tr th {\n",
       "        vertical-align: top;\n",
       "    }\n",
       "\n",
       "    .dataframe thead th {\n",
       "        text-align: right;\n",
       "    }\n",
       "</style>\n",
       "<table border=\"1\" class=\"dataframe\">\n",
       "  <thead>\n",
       "    <tr style=\"text-align: right;\">\n",
       "      <th></th>\n",
       "      <th>pannel_id</th>\n",
       "      <th>sex</th>\n",
       "      <th>birth_years</th>\n",
       "      <th>married</th>\n",
       "      <th>job_type</th>\n",
       "      <th>salary</th>\n",
       "      <th>major</th>\n",
       "      <th>donation</th>\n",
       "      <th>drink_qty</th>\n",
       "      <th>drink_freq</th>\n",
       "    </tr>\n",
       "  </thead>\n",
       "  <tbody>\n",
       "    <tr>\n",
       "      <th>0</th>\n",
       "      <td>201</td>\n",
       "      <td>여자</td>\n",
       "      <td>1945</td>\n",
       "      <td>2</td>\n",
       "      <td>NaN</td>\n",
       "      <td>NaN</td>\n",
       "      <td>NaN</td>\n",
       "      <td>NaN</td>\n",
       "      <td>5.0</td>\n",
       "      <td>NaN</td>\n",
       "    </tr>\n",
       "    <tr>\n",
       "      <th>1</th>\n",
       "      <td>301</td>\n",
       "      <td>남자</td>\n",
       "      <td>1948</td>\n",
       "      <td>2</td>\n",
       "      <td>942.0</td>\n",
       "      <td>167.0</td>\n",
       "      <td>NaN</td>\n",
       "      <td>NaN</td>\n",
       "      <td>5.0</td>\n",
       "      <td>NaN</td>\n",
       "    </tr>\n",
       "    <tr>\n",
       "      <th>2</th>\n",
       "      <td>401</td>\n",
       "      <td>남자</td>\n",
       "      <td>1942</td>\n",
       "      <td>3</td>\n",
       "      <td>762.0</td>\n",
       "      <td>78.0</td>\n",
       "      <td>NaN</td>\n",
       "      <td>NaN</td>\n",
       "      <td>5.0</td>\n",
       "      <td>NaN</td>\n",
       "    </tr>\n",
       "    <tr>\n",
       "      <th>3</th>\n",
       "      <td>601</td>\n",
       "      <td>남자</td>\n",
       "      <td>1962</td>\n",
       "      <td>1</td>\n",
       "      <td>532.0</td>\n",
       "      <td>NaN</td>\n",
       "      <td>NaN</td>\n",
       "      <td>NaN</td>\n",
       "      <td>5.0</td>\n",
       "      <td>NaN</td>\n",
       "    </tr>\n",
       "    <tr>\n",
       "      <th>4</th>\n",
       "      <td>602</td>\n",
       "      <td>여자</td>\n",
       "      <td>1963</td>\n",
       "      <td>1</td>\n",
       "      <td>NaN</td>\n",
       "      <td>NaN</td>\n",
       "      <td>NaN</td>\n",
       "      <td>12.0</td>\n",
       "      <td>5.0</td>\n",
       "      <td>NaN</td>\n",
       "    </tr>\n",
       "  </tbody>\n",
       "</table>\n",
       "</div>"
      ],
      "text/plain": [
       "   pannel_id sex  birth_years  married  job_type  salary  major  donation  \\\n",
       "0        201  여자         1945        2       NaN     NaN    NaN       NaN   \n",
       "1        301  남자         1948        2     942.0   167.0    NaN       NaN   \n",
       "2        401  남자         1942        3     762.0    78.0    NaN       NaN   \n",
       "3        601  남자         1962        1     532.0     NaN    NaN       NaN   \n",
       "4        602  여자         1963        1       NaN     NaN    NaN      12.0   \n",
       "\n",
       "   drink_qty  drink_freq  \n",
       "0        5.0         NaN  \n",
       "1        5.0         NaN  \n",
       "2        5.0         NaN  \n",
       "3        5.0         NaN  \n",
       "4        5.0         NaN  "
      ]
     },
     "execution_count": 71,
     "metadata": {},
     "output_type": "execute_result"
    }
   ],
   "source": [
    "df['sex']=df['sex'].map({1:'남자',2:'여자'},na_action=None)\n",
    "df.head()"
   ]
  },
  {
   "cell_type": "code",
   "execution_count": 72,
   "metadata": {},
   "outputs": [
    {
     "data": {
      "text/plain": [
       "count    4487.000000\n",
       "mean      271.556274\n",
       "std       200.484282\n",
       "min         0.000000\n",
       "25%       150.000000\n",
       "50%       230.000000\n",
       "75%       350.000000\n",
       "max      2167.000000\n",
       "Name: salary, dtype: float64"
      ]
     },
     "execution_count": 72,
     "metadata": {},
     "output_type": "execute_result"
    }
   ],
   "source": [
    "df['salary'].describe()\n"
   ]
  },
  {
   "cell_type": "code",
   "execution_count": 73,
   "metadata": {},
   "outputs": [
    {
     "data": {
      "text/plain": [
       "8973"
      ]
     },
     "execution_count": 73,
     "metadata": {},
     "output_type": "execute_result"
    }
   ],
   "source": [
    "df['salary'].isnull().sum()"
   ]
  },
  {
   "cell_type": "code",
   "execution_count": 77,
   "metadata": {},
   "outputs": [],
   "source": [
    "import matplotlib.pyplot as plt\n",
    "import seaborn as sns\n",
    "from matplotlib import font_manager, rc\n",
    "font_path = \"C:/Windows/Fonts/NGULIM.TTF\"\n",
    "font_name = font_manager.FontProperties(fname=font_path).get_name()\n",
    "rc('font', family=font_name)"
   ]
  },
  {
   "cell_type": "code",
   "execution_count": 78,
   "metadata": {},
   "outputs": [
    {
     "data": {
      "text/plain": [
       "Text(0.5, 1.0, '월급')"
      ]
     },
     "execution_count": 78,
     "metadata": {},
     "output_type": "execute_result"
    },
    {
     "data": {
      "image/png": "[encoded data removed]",
      "text/plain": [
       "<Figure size 432x288 with 1 Axes>"
      ]
     },
     "metadata": {
      "needs_background": "light"
     },
     "output_type": "display_data"
    }
   ],
   "source": [
    "ax = plt.subplots()\n",
    "ax = sns.countplot(x=\"salary\", data=df)\n",
    "plt.title(\"월급\")\n",
    "plt.show()"
   ]
  },
  {
   "cell_type": "code",
   "execution_count": 79,
   "metadata": {},
   "outputs": [
    {
     "data": {
      "text/plain": [
       "count    4487.000000\n",
       "mean      271.556274\n",
       "std       200.484282\n",
       "min         0.000000\n",
       "25%       150.000000\n",
       "50%       230.000000\n",
       "75%       350.000000\n",
       "max      2167.000000\n",
       "Name: salary, dtype: float64"
      ]
     },
     "execution_count": 79,
     "metadata": {},
     "output_type": "execute_result"
    }
   ],
   "source": [
    "df['salary'].describe()"
   ]
  },
  {
   "cell_type": "code",
   "execution_count": 80,
   "metadata": {},
   "outputs": [
    {
     "data": {
      "text/plain": [
       "[0,\n",
       " 100,\n",
       " 200,\n",
       " 300,\n",
       " 400,\n",
       " 500,\n",
       " 600,\n",
       " 700,\n",
       " 800,\n",
       " 900,\n",
       " 1000,\n",
       " 1100,\n",
       " 1200,\n",
       " 1300,\n",
       " 1400,\n",
       " 1500,\n",
       " 1600,\n",
       " 1700,\n",
       " 1800,\n",
       " 1900,\n",
       " 2000,\n",
       " 2100,\n",
       " 2200]"
      ]
     },
     "execution_count": 80,
     "metadata": {},
     "output_type": "execute_result"
    }
   ],
   "source": [
    "bins = list(range(0,2201,100))\n",
    "bins"
   ]
  },
  {
   "cell_type": "code",
   "execution_count": 86,
   "metadata": {},
   "outputs": [
    {
     "data": {
      "text/plain": [
       "23"
      ]
     },
     "execution_count": 86,
     "metadata": {},
     "output_type": "execute_result"
    }
   ],
   "source": [
    "len(bins)"
   ]
  },
  {
   "cell_type": "code",
   "execution_count": 81,
   "metadata": {},
   "outputs": [
    {
     "data": {
      "text/plain": [
       "['100미만',\n",
       " '200미만',\n",
       " '300미만',\n",
       " '400미만',\n",
       " '500미만',\n",
       " '600미만',\n",
       " '700미만',\n",
       " '800미만',\n",
       " '900미만',\n",
       " '1000미만',\n",
       " '1100미만',\n",
       " '1200미만',\n",
       " '1300미만',\n",
       " '1400미만',\n",
       " '1500미만',\n",
       " '1600미만',\n",
       " '1700미만',\n",
       " '1800미만',\n",
       " '1900미만',\n",
       " '2000미만',\n",
       " '2100미만',\n",
       " '2200미만']"
      ]
     },
     "execution_count": 81,
     "metadata": {},
     "output_type": "execute_result"
    }
   ],
   "source": [
    "bins_labels = [str(x)+\"미만\" for x in bins[1:]]\n",
    "bins_labels"
   ]
  },
  {
   "cell_type": "code",
   "execution_count": 83,
   "metadata": {},
   "outputs": [
    {
     "data": {
      "text/html": [
       "<div>\n",
       "<style scoped>\n",
       "    .dataframe tbody tr th:only-of-type {\n",
       "        vertical-align: middle;\n",
       "    }\n",
       "\n",
       "    .dataframe tbody tr th {\n",
       "        vertical-align: top;\n",
       "    }\n",
       "\n",
       "    .dataframe thead th {\n",
       "        text-align: right;\n",
       "    }\n",
       "</style>\n",
       "<table border=\"1\" class=\"dataframe\">\n",
       "  <thead>\n",
       "    <tr style=\"text-align: right;\">\n",
       "      <th></th>\n",
       "      <th>pannel_id</th>\n",
       "      <th>sex</th>\n",
       "      <th>birth_years</th>\n",
       "      <th>married</th>\n",
       "      <th>job_type</th>\n",
       "      <th>salary</th>\n",
       "      <th>major</th>\n",
       "      <th>donation</th>\n",
       "      <th>drink_qty</th>\n",
       "      <th>drink_freq</th>\n",
       "      <th>salary_bin</th>\n",
       "    </tr>\n",
       "  </thead>\n",
       "  <tbody>\n",
       "    <tr>\n",
       "      <th>0</th>\n",
       "      <td>201</td>\n",
       "      <td>여자</td>\n",
       "      <td>1945</td>\n",
       "      <td>2</td>\n",
       "      <td>NaN</td>\n",
       "      <td>NaN</td>\n",
       "      <td>NaN</td>\n",
       "      <td>NaN</td>\n",
       "      <td>5.0</td>\n",
       "      <td>NaN</td>\n",
       "      <td>NaN</td>\n",
       "    </tr>\n",
       "    <tr>\n",
       "      <th>1</th>\n",
       "      <td>301</td>\n",
       "      <td>남자</td>\n",
       "      <td>1948</td>\n",
       "      <td>2</td>\n",
       "      <td>942.0</td>\n",
       "      <td>167.0</td>\n",
       "      <td>NaN</td>\n",
       "      <td>NaN</td>\n",
       "      <td>5.0</td>\n",
       "      <td>NaN</td>\n",
       "      <td>200미만</td>\n",
       "    </tr>\n",
       "    <tr>\n",
       "      <th>2</th>\n",
       "      <td>401</td>\n",
       "      <td>남자</td>\n",
       "      <td>1942</td>\n",
       "      <td>3</td>\n",
       "      <td>762.0</td>\n",
       "      <td>78.0</td>\n",
       "      <td>NaN</td>\n",
       "      <td>NaN</td>\n",
       "      <td>5.0</td>\n",
       "      <td>NaN</td>\n",
       "      <td>100미만</td>\n",
       "    </tr>\n",
       "    <tr>\n",
       "      <th>3</th>\n",
       "      <td>601</td>\n",
       "      <td>남자</td>\n",
       "      <td>1962</td>\n",
       "      <td>1</td>\n",
       "      <td>532.0</td>\n",
       "      <td>NaN</td>\n",
       "      <td>NaN</td>\n",
       "      <td>NaN</td>\n",
       "      <td>5.0</td>\n",
       "      <td>NaN</td>\n",
       "      <td>NaN</td>\n",
       "    </tr>\n",
       "    <tr>\n",
       "      <th>4</th>\n",
       "      <td>602</td>\n",
       "      <td>여자</td>\n",
       "      <td>1963</td>\n",
       "      <td>1</td>\n",
       "      <td>NaN</td>\n",
       "      <td>NaN</td>\n",
       "      <td>NaN</td>\n",
       "      <td>12.0</td>\n",
       "      <td>5.0</td>\n",
       "      <td>NaN</td>\n",
       "      <td>NaN</td>\n",
       "    </tr>\n",
       "    <tr>\n",
       "      <th>...</th>\n",
       "      <td>...</td>\n",
       "      <td>...</td>\n",
       "      <td>...</td>\n",
       "      <td>...</td>\n",
       "      <td>...</td>\n",
       "      <td>...</td>\n",
       "      <td>...</td>\n",
       "      <td>...</td>\n",
       "      <td>...</td>\n",
       "      <td>...</td>\n",
       "      <td>...</td>\n",
       "    </tr>\n",
       "    <tr>\n",
       "      <th>13455</th>\n",
       "      <td>980002</td>\n",
       "      <td>여자</td>\n",
       "      <td>1967</td>\n",
       "      <td>1</td>\n",
       "      <td>NaN</td>\n",
       "      <td>NaN</td>\n",
       "      <td>NaN</td>\n",
       "      <td>NaN</td>\n",
       "      <td>5.0</td>\n",
       "      <td>NaN</td>\n",
       "      <td>NaN</td>\n",
       "    </tr>\n",
       "    <tr>\n",
       "      <th>13456</th>\n",
       "      <td>980003</td>\n",
       "      <td>여자</td>\n",
       "      <td>1992</td>\n",
       "      <td>5</td>\n",
       "      <td>NaN</td>\n",
       "      <td>NaN</td>\n",
       "      <td>NaN</td>\n",
       "      <td>NaN</td>\n",
       "      <td>5.0</td>\n",
       "      <td>NaN</td>\n",
       "      <td>NaN</td>\n",
       "    </tr>\n",
       "    <tr>\n",
       "      <th>13457</th>\n",
       "      <td>980004</td>\n",
       "      <td>남자</td>\n",
       "      <td>1995</td>\n",
       "      <td>5</td>\n",
       "      <td>999.0</td>\n",
       "      <td>89.0</td>\n",
       "      <td>NaN</td>\n",
       "      <td>NaN</td>\n",
       "      <td>5.0</td>\n",
       "      <td>NaN</td>\n",
       "      <td>100미만</td>\n",
       "    </tr>\n",
       "    <tr>\n",
       "      <th>13458</th>\n",
       "      <td>980005</td>\n",
       "      <td>여자</td>\n",
       "      <td>1998</td>\n",
       "      <td>5</td>\n",
       "      <td>246.0</td>\n",
       "      <td>184.0</td>\n",
       "      <td>NaN</td>\n",
       "      <td>NaN</td>\n",
       "      <td>5.0</td>\n",
       "      <td>NaN</td>\n",
       "      <td>200미만</td>\n",
       "    </tr>\n",
       "    <tr>\n",
       "      <th>13459</th>\n",
       "      <td>980006</td>\n",
       "      <td>남자</td>\n",
       "      <td>2001</td>\n",
       "      <td>5</td>\n",
       "      <td>222.0</td>\n",
       "      <td>85.0</td>\n",
       "      <td>NaN</td>\n",
       "      <td>NaN</td>\n",
       "      <td>5.0</td>\n",
       "      <td>NaN</td>\n",
       "      <td>100미만</td>\n",
       "    </tr>\n",
       "  </tbody>\n",
       "</table>\n",
       "<p>13460 rows × 11 columns</p>\n",
       "</div>"
      ],
      "text/plain": [
       "       pannel_id sex  birth_years  married  job_type  salary  major  donation  \\\n",
       "0            201  여자         1945        2       NaN     NaN    NaN       NaN   \n",
       "1            301  남자         1948        2     942.0   167.0    NaN       NaN   \n",
       "2            401  남자         1942        3     762.0    78.0    NaN       NaN   \n",
       "3            601  남자         1962        1     532.0     NaN    NaN       NaN   \n",
       "4            602  여자         1963        1       NaN     NaN    NaN      12.0   \n",
       "...          ...  ..          ...      ...       ...     ...    ...       ...   \n",
       "13455     980002  여자         1967        1       NaN     NaN    NaN       NaN   \n",
       "13456     980003  여자         1992        5       NaN     NaN    NaN       NaN   \n",
       "13457     980004  남자         1995        5     999.0    89.0    NaN       NaN   \n",
       "13458     980005  여자         1998        5     246.0   184.0    NaN       NaN   \n",
       "13459     980006  남자         2001        5     222.0    85.0    NaN       NaN   \n",
       "\n",
       "       drink_qty  drink_freq salary_bin  \n",
       "0            5.0         NaN        NaN  \n",
       "1            5.0         NaN      200미만  \n",
       "2            5.0         NaN      100미만  \n",
       "3            5.0         NaN        NaN  \n",
       "4            5.0         NaN        NaN  \n",
       "...          ...         ...        ...  \n",
       "13455        5.0         NaN        NaN  \n",
       "13456        5.0         NaN        NaN  \n",
       "13457        5.0         NaN      100미만  \n",
       "13458        5.0         NaN      200미만  \n",
       "13459        5.0         NaN      100미만  \n",
       "\n",
       "[13460 rows x 11 columns]"
      ]
     },
     "execution_count": 83,
     "metadata": {},
     "output_type": "execute_result"
    }
   ],
   "source": [
    "df['salary_bin'] = pd.cut(df['salary'],bins,right=False,labels=bins_labels[:])\n",
    "df"
   ]
  },
  {
   "cell_type": "code",
   "execution_count": 84,
   "metadata": {},
   "outputs": [
    {
     "data": {
      "text/html": [
       "<div>\n",
       "<style scoped>\n",
       "    .dataframe tbody tr th:only-of-type {\n",
       "        vertical-align: middle;\n",
       "    }\n",
       "\n",
       "    .dataframe tbody tr th {\n",
       "        vertical-align: top;\n",
       "    }\n",
       "\n",
       "    .dataframe thead th {\n",
       "        text-align: right;\n",
       "    }\n",
       "</style>\n",
       "<table border=\"1\" class=\"dataframe\">\n",
       "  <thead>\n",
       "    <tr style=\"text-align: right;\">\n",
       "      <th></th>\n",
       "      <th>salary</th>\n",
       "      <th>salary_bin</th>\n",
       "    </tr>\n",
       "  </thead>\n",
       "  <tbody>\n",
       "    <tr>\n",
       "      <th>0</th>\n",
       "      <td>NaN</td>\n",
       "      <td>NaN</td>\n",
       "    </tr>\n",
       "    <tr>\n",
       "      <th>1</th>\n",
       "      <td>167.0</td>\n",
       "      <td>200미만</td>\n",
       "    </tr>\n",
       "    <tr>\n",
       "      <th>2</th>\n",
       "      <td>78.0</td>\n",
       "      <td>100미만</td>\n",
       "    </tr>\n",
       "    <tr>\n",
       "      <th>3</th>\n",
       "      <td>NaN</td>\n",
       "      <td>NaN</td>\n",
       "    </tr>\n",
       "    <tr>\n",
       "      <th>4</th>\n",
       "      <td>NaN</td>\n",
       "      <td>NaN</td>\n",
       "    </tr>\n",
       "    <tr>\n",
       "      <th>...</th>\n",
       "      <td>...</td>\n",
       "      <td>...</td>\n",
       "    </tr>\n",
       "    <tr>\n",
       "      <th>13455</th>\n",
       "      <td>NaN</td>\n",
       "      <td>NaN</td>\n",
       "    </tr>\n",
       "    <tr>\n",
       "      <th>13456</th>\n",
       "      <td>NaN</td>\n",
       "      <td>NaN</td>\n",
       "    </tr>\n",
       "    <tr>\n",
       "      <th>13457</th>\n",
       "      <td>89.0</td>\n",
       "      <td>100미만</td>\n",
       "    </tr>\n",
       "    <tr>\n",
       "      <th>13458</th>\n",
       "      <td>184.0</td>\n",
       "      <td>200미만</td>\n",
       "    </tr>\n",
       "    <tr>\n",
       "      <th>13459</th>\n",
       "      <td>85.0</td>\n",
       "      <td>100미만</td>\n",
       "    </tr>\n",
       "  </tbody>\n",
       "</table>\n",
       "<p>13460 rows × 2 columns</p>\n",
       "</div>"
      ],
      "text/plain": [
       "       salary salary_bin\n",
       "0         NaN        NaN\n",
       "1       167.0      200미만\n",
       "2        78.0      100미만\n",
       "3         NaN        NaN\n",
       "4         NaN        NaN\n",
       "...       ...        ...\n",
       "13455     NaN        NaN\n",
       "13456     NaN        NaN\n",
       "13457    89.0      100미만\n",
       "13458   184.0      200미만\n",
       "13459    85.0      100미만\n",
       "\n",
       "[13460 rows x 2 columns]"
      ]
     },
     "execution_count": 84,
     "metadata": {},
     "output_type": "execute_result"
    }
   ],
   "source": [
    "df[['salary','salary_bin']]"
   ]
  },
  {
   "cell_type": "code",
   "execution_count": 87,
   "metadata": {},
   "outputs": [
    {
     "data": {
      "image/png": "[encoded data removed]",
      "text/plain": [
       "<Figure size 432x288 with 1 Axes>"
      ]
     },
     "metadata": {
      "needs_background": "light"
     },
     "output_type": "display_data"
    }
   ],
   "source": [
    "ax = plt.subplots()\n",
    "ax = sns.countplot(x=\"salary_bin\", data=df)\n",
    "plt.title(\"salary\")\n",
    "# plt.ylim(0,600)\n",
    "plt.xlim(0,9)\n",
    "plt.show()"
   ]
  },
  {
   "cell_type": "code",
   "execution_count": 89,
   "metadata": {},
   "outputs": [
    {
     "name": "stdout",
     "output_type": "stream",
     "text": [
      "없음\n"
     ]
    }
   ],
   "source": [
    "df['salary'].isin([9999]) # 유무 True, False 결과\n",
    "if (df['salary'] == 9999).any():\n",
    "    print(\"있음\")\n",
    "else:\n",
    "    print(\"없음\")"
   ]
  },
  {
   "cell_type": "code",
   "execution_count": 90,
   "metadata": {},
   "outputs": [
    {
     "data": {
      "text/html": [
       "<div>\n",
       "<style scoped>\n",
       "    .dataframe tbody tr th:only-of-type {\n",
       "        vertical-align: middle;\n",
       "    }\n",
       "\n",
       "    .dataframe tbody tr th {\n",
       "        vertical-align: top;\n",
       "    }\n",
       "\n",
       "    .dataframe thead th {\n",
       "        text-align: right;\n",
       "    }\n",
       "</style>\n",
       "<table border=\"1\" class=\"dataframe\">\n",
       "  <thead>\n",
       "    <tr style=\"text-align: right;\">\n",
       "      <th></th>\n",
       "      <th>sex</th>\n",
       "      <th>salary_mean</th>\n",
       "      <th>salary_median</th>\n",
       "    </tr>\n",
       "  </thead>\n",
       "  <tbody>\n",
       "    <tr>\n",
       "      <th>0</th>\n",
       "      <td>남자</td>\n",
       "      <td>352.257965</td>\n",
       "      <td>310.0</td>\n",
       "    </tr>\n",
       "    <tr>\n",
       "      <th>1</th>\n",
       "      <td>여자</td>\n",
       "      <td>189.658734</td>\n",
       "      <td>188.0</td>\n",
       "    </tr>\n",
       "  </tbody>\n",
       "</table>\n",
       "</div>"
      ],
      "text/plain": [
       "  sex  salary_mean  salary_median\n",
       "0  남자   352.257965          310.0\n",
       "1  여자   189.658734          188.0"
      ]
     },
     "execution_count": 90,
     "metadata": {},
     "output_type": "execute_result"
    }
   ],
   "source": [
    "sex_salary= df.groupby('sex')['salary'].agg(**{'salary_mean':'mean','salary_median':'median'}).reset_index()\n",
    "sex_salary"
   ]
  },
  {
   "cell_type": "code",
   "execution_count": 96,
   "metadata": {},
   "outputs": [
    {
     "data": {
      "text/plain": [
       "1.86"
      ]
     },
     "execution_count": 96,
     "metadata": {},
     "output_type": "execute_result"
    }
   ],
   "source": [
    "#남자의 평균월급 / 여자의 평균월급\n",
    "round(sex_salary.loc[0,\"salary_mean\"]/sex_salary.loc[1,\"salary_mean\"],2)"
   ]
  },
  {
   "cell_type": "code",
   "execution_count": 97,
   "metadata": {},
   "outputs": [
    {
     "data": {
      "image/png": "[encoded data removed]",
      "text/plain": [
       "<Figure size 432x288 with 1 Axes>"
      ]
     },
     "metadata": {
      "needs_background": "light"
     },
     "output_type": "display_data"
    }
   ],
   "source": [
    "df = df.sort_values(by='sex')\n",
    "sns.barplot(data= df,x=\"sex\",y=\"salary\")\n",
    "plt.show()"
   ]
  },
  {
   "cell_type": "code",
   "execution_count": 118,
   "metadata": {},
   "outputs": [],
   "source": [
    "from matplotlib import font_manager, rc\n",
    "# font_path = \"./한글폰트.ttf\" # 폰트 파일 위치\n",
    "font_path = \"C:/Windows/Fonts/NGULIM.TTF\"\n",
    "font_name = font_manager.FontProperties(fname=font_path).get_name()\n",
    "rc('font', family=font_name)\n"
   ]
  },
  {
   "cell_type": "code",
   "execution_count": 119,
   "metadata": {},
   "outputs": [
    {
     "name": "stderr",
     "output_type": "stream",
     "text": [
      "C:\\Users\\User\\anaconda3\\lib\\site-packages\\matplotlib\\backends\\backend_agg.py:240: RuntimeWarning: Glyph 45224 missing from current font.\n",
      "  font.set_text(s, 0.0, flags=flags)\n",
      "C:\\Users\\User\\anaconda3\\lib\\site-packages\\matplotlib\\backends\\backend_agg.py:240: RuntimeWarning: Glyph 51088 missing from current font.\n",
      "  font.set_text(s, 0.0, flags=flags)\n",
      "C:\\Users\\User\\anaconda3\\lib\\site-packages\\matplotlib\\backends\\backend_agg.py:240: RuntimeWarning: Glyph 50668 missing from current font.\n",
      "  font.set_text(s, 0.0, flags=flags)\n",
      "C:\\Users\\User\\anaconda3\\lib\\site-packages\\matplotlib\\backends\\backend_agg.py:203: RuntimeWarning: Glyph 45224 missing from current font.\n",
      "  font.set_text(s, 0, flags=flags)\n",
      "C:\\Users\\User\\anaconda3\\lib\\site-packages\\matplotlib\\backends\\backend_agg.py:203: RuntimeWarning: Glyph 51088 missing from current font.\n",
      "  font.set_text(s, 0, flags=flags)\n",
      "C:\\Users\\User\\anaconda3\\lib\\site-packages\\matplotlib\\backends\\backend_agg.py:203: RuntimeWarning: Glyph 50668 missing from current font.\n",
      "  font.set_text(s, 0, flags=flags)\n"
     ]
    },
    {
     "data": {
      "image/png": "[encoded data removed]",
      "text/plain": [
       "<Figure size 1080x360 with 2 Axes>"
      ]
     },
     "metadata": {},
     "output_type": "display_data"
    }
   ],
   "source": [
    "df = df.sort_values(by='sex')\n",
    "sns.set_style('darkgrid')\n",
    "fig = plt.figure(figsize=(15,5))\n",
    "a1 = fig.add_subplot(1,2,1)\n",
    "a2 = fig.add_subplot(1,2,2)\n",
    "sns.barplot(data = sex_salary,x=\"sex\",y= \"salary_mean\",ax = a1)\n",
    "sns.barplot(data = sex_salary, x = \"sex\",y = \"salary_median\",ax = a2)\n",
    "plt.show()"
   ]
  },
  {
   "cell_type": "code",
   "execution_count": 108,
   "metadata": {},
   "outputs": [
    {
     "data": {
      "text/plain": [
       "count    13460.000000\n",
       "mean      1969.469316\n",
       "std         24.393833\n",
       "min       1907.000000\n",
       "25%       1948.000000\n",
       "50%       1967.000000\n",
       "75%       1990.000000\n",
       "max       2019.000000\n",
       "Name: birth_years, dtype: float64"
      ]
     },
     "execution_count": 108,
     "metadata": {},
     "output_type": "execute_result"
    }
   ],
   "source": [
    "df['birth_years'].values\n",
    "df['birth_years'].value_counts()\n",
    "df['birth_years'].describe()"
   ]
  },
  {
   "cell_type": "code",
   "execution_count": 109,
   "metadata": {},
   "outputs": [
    {
     "data": {
      "text/plain": [
       "(13460, 0)"
      ]
     },
     "execution_count": 109,
     "metadata": {},
     "output_type": "execute_result"
    }
   ],
   "source": [
    "#데이터 개수 및 null값 확인\n",
    "len(df['birth_years']),df['birth_years'].isnull().sum()"
   ]
  },
  {
   "cell_type": "code",
   "execution_count": 110,
   "metadata": {},
   "outputs": [],
   "source": [
    "#연도로 나이 계산\n",
    "df['old'] = [2021-y+1 for y in df['birth_years']]\n"
   ]
  },
  {
   "cell_type": "code",
   "execution_count": 111,
   "metadata": {},
   "outputs": [
    {
     "data": {
      "text/html": [
       "<div>\n",
       "<style scoped>\n",
       "    .dataframe tbody tr th:only-of-type {\n",
       "        vertical-align: middle;\n",
       "    }\n",
       "\n",
       "    .dataframe tbody tr th {\n",
       "        vertical-align: top;\n",
       "    }\n",
       "\n",
       "    .dataframe thead th {\n",
       "        text-align: right;\n",
       "    }\n",
       "</style>\n",
       "<table border=\"1\" class=\"dataframe\">\n",
       "  <thead>\n",
       "    <tr style=\"text-align: right;\">\n",
       "      <th></th>\n",
       "      <th>birth_years</th>\n",
       "      <th>old</th>\n",
       "    </tr>\n",
       "  </thead>\n",
       "  <tbody>\n",
       "    <tr>\n",
       "      <th>6729</th>\n",
       "      <td>1938</td>\n",
       "      <td>84</td>\n",
       "    </tr>\n",
       "    <tr>\n",
       "      <th>11202</th>\n",
       "      <td>2000</td>\n",
       "      <td>22</td>\n",
       "    </tr>\n",
       "    <tr>\n",
       "      <th>12836</th>\n",
       "      <td>1931</td>\n",
       "      <td>91</td>\n",
       "    </tr>\n",
       "    <tr>\n",
       "      <th>7132</th>\n",
       "      <td>1979</td>\n",
       "      <td>43</td>\n",
       "    </tr>\n",
       "    <tr>\n",
       "      <th>7130</th>\n",
       "      <td>1946</td>\n",
       "      <td>76</td>\n",
       "    </tr>\n",
       "    <tr>\n",
       "      <th>...</th>\n",
       "      <td>...</td>\n",
       "      <td>...</td>\n",
       "    </tr>\n",
       "    <tr>\n",
       "      <th>2528</th>\n",
       "      <td>1963</td>\n",
       "      <td>59</td>\n",
       "    </tr>\n",
       "    <tr>\n",
       "      <th>7659</th>\n",
       "      <td>1994</td>\n",
       "      <td>28</td>\n",
       "    </tr>\n",
       "    <tr>\n",
       "      <th>7658</th>\n",
       "      <td>1966</td>\n",
       "      <td>56</td>\n",
       "    </tr>\n",
       "    <tr>\n",
       "      <th>2511</th>\n",
       "      <td>1978</td>\n",
       "      <td>44</td>\n",
       "    </tr>\n",
       "    <tr>\n",
       "      <th>0</th>\n",
       "      <td>1945</td>\n",
       "      <td>77</td>\n",
       "    </tr>\n",
       "  </tbody>\n",
       "</table>\n",
       "<p>13460 rows × 2 columns</p>\n",
       "</div>"
      ],
      "text/plain": [
       "       birth_years  old\n",
       "6729          1938   84\n",
       "11202         2000   22\n",
       "12836         1931   91\n",
       "7132          1979   43\n",
       "7130          1946   76\n",
       "...            ...  ...\n",
       "2528          1963   59\n",
       "7659          1994   28\n",
       "7658          1966   56\n",
       "2511          1978   44\n",
       "0             1945   77\n",
       "\n",
       "[13460 rows x 2 columns]"
      ]
     },
     "execution_count": 111,
     "metadata": {},
     "output_type": "execute_result"
    }
   ],
   "source": [
    "df[['birth_years','old']]"
   ]
  },
  {
   "cell_type": "code",
   "execution_count": 112,
   "metadata": {},
   "outputs": [
    {
     "data": {
      "text/plain": [
       "count    4487.000000\n",
       "mean      271.556274\n",
       "std       200.484282\n",
       "min         0.000000\n",
       "25%       150.000000\n",
       "50%       230.000000\n",
       "75%       350.000000\n",
       "max      2167.000000\n",
       "Name: salary, dtype: float64"
      ]
     },
     "execution_count": 112,
     "metadata": {},
     "output_type": "execute_result"
    }
   ],
   "source": [
    "df['salary'].describe()"
   ]
  },
  {
   "cell_type": "code",
   "execution_count": 113,
   "metadata": {},
   "outputs": [
    {
     "data": {
      "text/plain": [
       "8973"
      ]
     },
     "execution_count": 113,
     "metadata": {},
     "output_type": "execute_result"
    }
   ],
   "source": [
    "df['salary'].isnull().sum()"
   ]
  },
  {
   "cell_type": "code",
   "execution_count": 120,
   "metadata": {},
   "outputs": [
    {
     "name": "stderr",
     "output_type": "stream",
     "text": [
      "C:\\Users\\User\\anaconda3\\lib\\site-packages\\matplotlib\\backends\\backend_agg.py:240: RuntimeWarning: Glyph 50900 missing from current font.\n",
      "  font.set_text(s, 0.0, flags=flags)\n",
      "C:\\Users\\User\\anaconda3\\lib\\site-packages\\matplotlib\\backends\\backend_agg.py:240: RuntimeWarning: Glyph 44553 missing from current font.\n",
      "  font.set_text(s, 0.0, flags=flags)\n",
      "C:\\Users\\User\\anaconda3\\lib\\site-packages\\matplotlib\\backends\\backend_agg.py:203: RuntimeWarning: Glyph 50900 missing from current font.\n",
      "  font.set_text(s, 0, flags=flags)\n",
      "C:\\Users\\User\\anaconda3\\lib\\site-packages\\matplotlib\\backends\\backend_agg.py:203: RuntimeWarning: Glyph 44553 missing from current font.\n",
      "  font.set_text(s, 0, flags=flags)\n"
     ]
    },
    {
     "data": {
      "image/png": "[encoded data removed]",
      "text/plain": [
       "<Figure size 432x288 with 1 Axes>"
      ]
     },
     "metadata": {},
     "output_type": "display_data"
    }
   ],
   "source": [
    "# countplot : 각 카테고리 값별로 데이터가 얼마나 있는지 표시\n",
    "ax = plt.subplots()\n",
    "ax = sns.countplot(x = 'salary',data = df)\n",
    "plt.title(\"월급\")\n",
    "plt.show()"
   ]
  },
  {
   "cell_type": "code",
   "execution_count": null,
   "metadata": {},
   "outputs": [],
   "source": []
  }
 ],
 "metadata": {
  "interpreter": {
   "hash": "8fac594bfae6525c0c41b4041d2d72effa188cc8ead05f81b1fab2bb098927fb"
  },
  "kernelspec": {
   "display_name": "Python 3.9.7 ('base')",
   "language": "python",
   "name": "python3"
  },
  "language_info": {
   "codemirror_mode": {
    "name": "ipython",
    "version": 3
   },
   "file_extension": ".py",
   "mimetype": "text/x-python",
   "name": "python",
   "nbconvert_exporter": "python",
   "pygments_lexer": "ipython3",
   "version": "3.9.7"
  },
  "orig_nbformat": 4
 },
 "nbformat": 4,
 "nbformat_minor": 2
}
