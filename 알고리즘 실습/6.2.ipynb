{
 "cells": [
  {
   "cell_type": "code",
   "execution_count": 3,
   "metadata": {},
   "outputs": [
    {
     "name": "stdout",
     "output_type": "stream",
     "text": [
      "0 1 15 29 38 67 73 89\n",
      "0 13 27 36 64 70 86\n",
      "0 7 13 34 38 50\n",
      "0 3 17 21 33\n",
      "0 11 15 27\n",
      "0 2 9\n",
      "0 5\n",
      "0\n",
      "0 1 2 2 2 3 3 5\n",
      "0 2 2 2 3 3 5\n",
      "0 3 3 5 5 5\n",
      "0 4 5 5 5\n",
      "0 5 5 5\n",
      "0 6 7\n",
      "0 7\n",
      "0\n",
      "89\n",
      "전위 순회: \n",
      "50 20 10 30 40 70 60\n",
      "중위 순회: \n",
      "10 20 30 40 50 60 70\n",
      "후위 순회: \n",
      "10 40 30 20 60 70 50\n"
     ]
    }
   ],
   "source": [
    "n = int(input())\n",
    "k = [int(i) for i in input().split()]\n",
    "p = [int(i) for i in input().split()]\n",
    "k.insert(0,0)\n",
    "p.insert(0,0)\n",
    "def optsearchtree(p):\n",
    "    n = len(p)-1\n",
    "    A = [[-1]*(n+1) for _ in range(n+2)]\n",
    "    R = [[-1]*(n+1) for _ in range(n+2)] #제일 첫번째 행/열 빼기 위함\n",
    "    \n",
    "    for i in range(1,n+1):\n",
    "        A[i][i-1]= 0\n",
    "        A[i][i] = p[i]\n",
    "        R[i][i-1] = 0\n",
    "        R[i][i] = i\n",
    "        \n",
    "    A[n+1][n] = 0\n",
    "    R[n+1][n] = 0\n",
    "    for diagonal in range(1,n):\n",
    "        for i in range(1,n-diagonal+1):\n",
    "            j = i + diagonal\n",
    "            A[i][j], R[i][j] = minimum(A,p,i,j)\n",
    "         \n",
    "    return A, R\n",
    "\n",
    "    \n",
    "def minimum(A,p,i,j):\n",
    "    MIN = 999999\n",
    "    mink = 0\n",
    "    for k in range(i,j+1): #i에서 j까지\n",
    "        v = A[i][k-1] + A[k+1][j]\n",
    "        for l in range(i,j+1):\n",
    "            v += p[l] \n",
    "        if (MIN > v): #minv보다 v가 작으면 \n",
    "            MIN = v #minv에 v값을 저장\n",
    "            mink = k #그 때의 k값도 저장\n",
    "    return MIN,mink\n",
    "A, R = optsearchtree(p)\n",
    "pre=[]\n",
    "ino = []\n",
    "post= []\n",
    "for i in range(1,n+2):\n",
    "    for j in range(0,n+1):\n",
    "        if (A[i][j] != -1) & (j != n):\n",
    "            print(A[i][j],end =\" \")\n",
    "        elif (A[i][j] != -1) & (j == n) :\n",
    "            print(A[i][j],end =\"\")\n",
    "    print()\n",
    "\n",
    "for i in range(1,n+2):\n",
    "    for j in range(0,n+1):\n",
    "        if (R[i][j] != -1) & (j != n):\n",
    "            print(R[i][j],end =\" \")\n",
    "        elif (R[i][j] != -1) & (j == n):\n",
    "            print(R[i][j],end =\"\")\n",
    "    print()\n",
    "print(A[1][n])\n",
    "class Node:\n",
    "    def __init__(self, data):\n",
    "        self.left = None\n",
    "        self.right = None\n",
    "        self.data = data\n",
    "        \n",
    "def preorder(node):\n",
    "    if (node is None):\n",
    "        return\n",
    "    else:\n",
    "        #print(node.data, end=\" \")\n",
    "        pre.append(node.data)\n",
    "        preorder(node.left)\n",
    "        preorder(node.right)\n",
    "        \n",
    "def inorder(node):\n",
    "    if (node is None):\n",
    "        return\n",
    "    else:\n",
    "        inorder(node.left)\n",
    "        #print(node.data, end=\" \")\n",
    "        ino.append(node.data)\n",
    "        inorder(node.right)\n",
    "def postorder(node):\n",
    "    if (node is None):\n",
    "        return\n",
    "    else:\n",
    "        postorder(node.left)\n",
    "        postorder(node.right)\n",
    "        post.append(node.data)\n",
    "        \n",
    "def tree(R,i,j):\n",
    "    s = R[i][j]\n",
    "    if (s == 0):\n",
    "        return None\n",
    "    else:\n",
    "        node = Node(k[s])\n",
    "        node.left = tree(R,i,s-1)\n",
    "        # print(\"left: \",node.left)\n",
    "        node.right = tree(R,s+1,j)\n",
    "        # print(\"right: \",node.right)\n",
    "        return node\n",
    "root = tree(R,1,len(p)-1)\n",
    "preorder(root)\n",
    "print(\"전위 순회: \")\n",
    "for i in range(len(pre)):\n",
    "    if i != len(pre)-1:\n",
    "        print(pre[i],end=' ')\n",
    "    else:\n",
    "        print(pre[i])\n",
    "print(\"중위 순회: \")\n",
    "inorder(root)\n",
    "for i in range(len(ino)):\n",
    "    if i != len(ino)-1:\n",
    "        print(ino[i],end=' ')\n",
    "    else:\n",
    "        print(ino[i])\n",
    "print(\"후위 순회: \")\n",
    "postorder(root)\n",
    "for i in range(len(post)):\n",
    "    if i != len(post)-1:\n",
    "        print(post[i],end=' ')\n",
    "    else:\n",
    "        print(post[i])"
   ]
  },
  {
   "cell_type": "code",
   "execution_count": 4,
   "metadata": {},
   "outputs": [
    {
     "data": {
      "text/plain": [
       "[0, 10, 20, 30, 40, 50, 60, 70]"
      ]
     },
     "execution_count": 4,
     "metadata": {},
     "output_type": "execute_result"
    }
   ],
   "source": [
    "k"
   ]
  },
  {
   "cell_type": "code",
   "execution_count": 5,
   "metadata": {},
   "outputs": [
    {
     "data": {
      "text/plain": [
       "[0, 1, 13, 7, 3, 11, 2, 5]"
      ]
     },
     "execution_count": 5,
     "metadata": {},
     "output_type": "execute_result"
    }
   ],
   "source": [
    "p"
   ]
  },
  {
   "cell_type": "code",
   "execution_count": null,
   "metadata": {},
   "outputs": [],
   "source": []
  }
 ],
 "metadata": {
  "interpreter": {
   "hash": "8fac594bfae6525c0c41b4041d2d72effa188cc8ead05f81b1fab2bb098927fb"
  },
  "kernelspec": {
   "display_name": "Python 3.9.7 ('base')",
   "language": "python",
   "name": "python3"
  },
  "language_info": {
   "codemirror_mode": {
    "name": "ipython",
    "version": 3
   },
   "file_extension": ".py",
   "mimetype": "text/x-python",
   "name": "python",
   "nbconvert_exporter": "python",
   "pygments_lexer": "ipython3",
   "version": "3.9.7"
  },
  "orig_nbformat": 4
 },
 "nbformat": 4,
 "nbformat_minor": 2
}
