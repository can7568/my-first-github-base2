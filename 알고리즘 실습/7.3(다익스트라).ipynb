{
 "cells": [
  {
   "cell_type": "code",
   "execution_count": 27,
   "metadata": {},
   "outputs": [
    {
     "name": "stdout",
     "output_type": "stream",
     "text": [
      "1 1 1 1\n",
      "1 1 5 1\n",
      "4 1 5 1\n",
      "4 1 5 1\n",
      "4 1 5 1\n",
      "1 5 1\n",
      "5 4 1\n",
      "1 3 4\n",
      "4 2 3\n",
      "1 542\n",
      "1 3\n",
      "1 54\n",
      "1 5\n"
     ]
    }
   ],
   "source": [
    "n,m = map(int, input().split())\n",
    "INF = 9999999\n",
    "G = [[INF]*(n+1) for _ in range(n+1)]\n",
    "T = []\n",
    "#대각선 0으로 만들기\n",
    "for a in range(1, n + 1):\n",
    "    for b in range(1, n + 1):\n",
    "        if a == b:\n",
    "            G[a][b] = 0\n",
    "            \n",
    "for i in range(m):\n",
    "    u, v, w = map(int, input().split())\n",
    "    G[u][v] = w\n",
    "    \n",
    "t = int(input())\n",
    "for i in range(t):\n",
    "    i = int(input())\n",
    "    T.append(i)\n",
    "\n",
    "#다익스트라 알고리즘   \n",
    "def dijkstra(W):\n",
    "    n = len(W) -1\n",
    "    F = []\n",
    "    touch = [-1] * (n+1)\n",
    "    length = [-1] *(n+1)\n",
    "    for i in range(2,n+1):\n",
    "        touch[i] = 1\n",
    "        length[i] = W[1][i]\n",
    "    for _ in range(n-1):\n",
    "        for i in range(len(touch)):\n",
    "            if ((touch[i] != -1) and (i != len(touch)-1)):\n",
    "                print(touch[i],end=' ')\n",
    "            elif ((touch[i] != -1) and (i == len(touch)-1)):\n",
    "                print(touch[i],end='')\n",
    "        print()\n",
    "        \n",
    "        MIN = INF                                                                       \n",
    "        for i in range(2,n+1):\n",
    "            if(0<= length[i] and length[i]<MIN):    \n",
    "                MIN = length[i]\n",
    "                vnear = i\n",
    "        edge = (touch[vnear], vnear, W[touch[vnear]][vnear])\n",
    "        F.append(edge)\n",
    "        for i in range(2,n+1):\n",
    "            if(length[i]>length[vnear]+W[vnear][i]):\n",
    "                length[i] = length[vnear] + W[vnear][i]\n",
    "                touch[i] = vnear\n",
    "        length[vnear] = -1\n",
    "    for i in range(len(touch)):\n",
    "        if ((touch[i] != -1) and (i != len(touch)-1)):\n",
    "            print(touch[i],end=' ')\n",
    "        elif ((touch[i] != -1) and (i == len(touch)-1)):\n",
    "            print(touch[i],end='')\n",
    "    print()\n",
    "    \n",
    "    return F,length,touch\n",
    "\n",
    "#경로 출력\n",
    "def path(touch, j,cnt):\n",
    "    if (touch[j] == -1) :\n",
    "        print(j,end=\" \")\n",
    "    else:\n",
    "        path(touch , touch[j], cnt)   \n",
    "        if(j == T[cnt]):\n",
    "            print (j,end=\"\")\n",
    "        else:\n",
    "            print (j,end=\" \")\n",
    "        \n",
    "def printpath(touch):\n",
    "    for i in range(len(T)):\n",
    "        path(touch,T[i],i)\n",
    "        print()\n",
    "    \n",
    "F,length,touch = dijkstra(G)\n",
    "for i in range(len(F)):\n",
    "    for j in range(len(F[0])):\n",
    "        if(j == len(F[0])-1):\n",
    "            print(F[i][j],end='')\n",
    "        else:\n",
    "            print(F[i][j],end=' ')\n",
    "    print()\n",
    "\n",
    "printpath(touch)"
   ]
  },
  {
   "cell_type": "code",
   "execution_count": 76,
   "metadata": {},
   "outputs": [
    {
     "name": "stdout",
     "output_type": "stream",
     "text": [
      "1 5 4 2\n",
      "1 3\n",
      "1 5 4\n",
      "1 5\n"
     ]
    }
   ],
   "source": [
    "def path(touch, j,cnt):\n",
    "    if (touch[j] == -1) :\n",
    "        print(j,end=\" \")\n",
    "    else:\n",
    "        path(touch , touch[j], cnt)   \n",
    "        if(j == T[cnt]):\n",
    "            print (j,end=\"\")\n",
    "        else:\n",
    "            print (j,end=\" \")\n",
    "        \n",
    "def printpath(touch):\n",
    "    for i in range(len(T)):\n",
    "        path(touch,T[i],i)\n",
    "        print()\n",
    "    \n",
    "\n",
    "printpath(touch)"
   ]
  },
  {
   "cell_type": "code",
   "execution_count": 70,
   "metadata": {},
   "outputs": [],
   "source": [
    "#텍스트 파일 불러와서 리스트에 저장하기\n",
    "with open('graph.in') as inFile:\n",
    "    for line in inFile: ## 2\n",
    "        ns = [int(w) for w in line.split()]\n",
    "        G.append(ns)## 3"
   ]
  },
  {
   "cell_type": "code",
   "execution_count": 71,
   "metadata": {},
   "outputs": [
    {
     "data": {
      "text/plain": [
       "[[7, 14],\n",
       " [1, 2, 4],\n",
       " [1, 6, 10],\n",
       " [2, 1, 3],\n",
       " [2, 4, 18],\n",
       " [3, 2, 6],\n",
       " [4, 2, 5],\n",
       " [4, 3, 15],\n",
       " [4, 5, 2],\n",
       " [4, 6, 19],\n",
       " [4, 7, 5],\n",
       " [5, 3, 12],\n",
       " [5, 4, 1],\n",
       " [6, 7, 10],\n",
       " [7, 4, 8]]"
      ]
     },
     "execution_count": 71,
     "metadata": {},
     "output_type": "execute_result"
    }
   ],
   "source": [
    "G"
   ]
  },
  {
   "cell_type": "code",
   "execution_count": 53,
   "metadata": {},
   "outputs": [],
   "source": [
    "def dijkstra(W):\n",
    "    n = len(W) -1\n",
    "    F = []\n",
    "    S = []\n",
    "    touch = [-1] * (n+1)\n",
    "    length = [-1] *(n+1)\n",
    "    for i in range(2,n+1):\n",
    "        touch[i] = 1\n",
    "        length[i] = W[1][i]\n",
    "    for _ in range(n-1):\n",
    "        for i in range(len(touch)):\n",
    "            if ((touch[i] != -1) and (i != len(touch)-1)):\n",
    "                print(touch[i],end=' ')\n",
    "            elif ((touch[i] != -1) and (i == len(touch)-1)):\n",
    "                print(touch[i],end='')\n",
    "        print()\n",
    "        \n",
    "        MIN = INF                                                                       \n",
    "        for i in range(2,n+1):\n",
    "            if(0<= length[i] and length[i]<MIN):\n",
    "                MIN = length[i]\n",
    "                vnear = i\n",
    "        edge = (touch[vnear], vnear, W[touch[vnear]][vnear])\n",
    "        F.append(edge)\n",
    "        for i in range(2,n+1):\n",
    "            if(length[i]>length[vnear]+W[vnear][i]):\n",
    "                length[i] = length[vnear] + W[vnear][i]\n",
    "                touch[i] = vnear\n",
    "        length[vnear] = -1\n",
    "    for i in range(len(touch)):\n",
    "        if ((touch[i] != -1) and (i != len(touch)-1)):\n",
    "            print(touch[i],end=' ')\n",
    "        elif ((touch[i] != -1) and (i == len(touch)-1)):\n",
    "            print(touch[i],end='')\n",
    "    print()\n",
    "    return F"
   ]
  },
  {
   "cell_type": "code",
   "execution_count": 54,
   "metadata": {},
   "outputs": [],
   "source": [
    "def length(F):\n",
    "    total = 0\n",
    "    for e in F:\n",
    "        total += e[2]\n",
    "    return total"
   ]
  },
  {
   "cell_type": "code",
   "execution_count": 55,
   "metadata": {},
   "outputs": [],
   "source": [
    "def print_tl(F,touch,length):\n",
    "    print(\"F = \", end ='')\n",
    "    print(F)\n",
    "    print(\"touch =\",end=\"\")\n",
    "    print(touch)\n",
    "    print(\"length = \",end=\"\")\n",
    "    print(length)"
   ]
  },
  {
   "cell_type": "code",
   "execution_count": 56,
   "metadata": {},
   "outputs": [
    {
     "name": "stdout",
     "output_type": "stream",
     "text": [
      "1 1 1 1\n",
      "1 1 5 1\n",
      "4 1 5 1\n",
      "4 1 5 1\n",
      "4 1 5 1\n",
      "(1, 5, 1)\n",
      "(5, 4, 1)\n",
      "(1, 3, 4)\n",
      "(4, 2, 3)\n"
     ]
    }
   ],
   "source": [
    "F = dijkstra(G)\n",
    "for i in range(len(F)):\n",
    "    print(F[i])\n"
   ]
  },
  {
   "cell_type": "code",
   "execution_count": 57,
   "metadata": {},
   "outputs": [
    {
     "name": "stdout",
     "output_type": "stream",
     "text": [
      "Shortest Path Length is  9\n"
     ]
    }
   ],
   "source": [
    "print(\"Shortest Path Length is \",length(F))"
   ]
  },
  {
   "cell_type": "code",
   "execution_count": 73,
   "metadata": {},
   "outputs": [
    {
     "name": "stdout",
     "output_type": "stream",
     "text": [
      "Vertex \t\tDistance from Source\tPath\n",
      "\n",
      "0 --> 1 \t\t26 \t\t\t\t\t 6 7 4 2 1 \n",
      "0 --> 2 \t\t23 \t\t\t\t\t 6 7 4 2 \n",
      "0 --> 3 \t\t32 \t\t\t\t\t 6 7 4 5 3 \n",
      "0 --> 4 \t\t18 \t\t\t\t\t 6 7 4 \n",
      "0 --> 5 \t\t20 \t\t\t\t\t 6 7 4 5 \n",
      "0 --> 6 \t\t0 \t\t\t\t\t 6 \n",
      "0 --> 7 \t\t10 \t\t\t\t\t 6 7 "
     ]
    }
   ],
   "source": [
    "\n",
    "from collections import defaultdict\n",
    " \n",
    "#Class to represent a graph\n",
    "class Graph:\n",
    " \n",
    "    def minDistance(self,dist,queue):\n",
    "        # Initialize min value and min_index as -1\n",
    "        minimum = float(\"Inf\")\n",
    "        min_index = -1\n",
    "         \n",
    "        # from the dist array,pick one which\n",
    "        # has min value and is till in queue\n",
    "        for i in range(len(dist)):\n",
    "            if dist[i] < minimum and i in queue:\n",
    "                minimum = dist[i]\n",
    "                min_index = i\n",
    "        return min_index\n",
    " \n",
    " \n",
    "   \n",
    "    def printPath(self, parent, j):\n",
    "         \n",
    "        #Base Case : If j is source\n",
    "        if parent[j] == -1 :\n",
    "            print(j,end=\" \")\n",
    "            return\n",
    "        self.printPath(parent , parent[j])\n",
    "        print (j,end=\" \")\n",
    "         \n",
    " \n",
    "   \n",
    "    def printSolution(self, dist, parent):\n",
    "        src = 0\n",
    "        print(\"Vertex \\t\\tDistance from Source\\tPath\")\n",
    "        for i in range(1, len(dist)):\n",
    "            print(\"\\n%d --> %d \\t\\t%d \\t\\t\\t\\t\\t\" % (src, i, dist[i]),end=\" \")\n",
    "            self.printPath(parent,i)\n",
    " \n",
    "    def dijkstra(self, graph, src):\n",
    " \n",
    "        row = len(graph)\n",
    "        col = len(graph[0])\n",
    " \n",
    "       \n",
    "        dist = [float(\"Inf\")] * row\n",
    " \n",
    "        #Parent array to store\n",
    "        # shortest path tree\n",
    "        parent = [-1] * row\n",
    " \n",
    "        # Distance of source vertex\n",
    "        # from itself is always 0\n",
    "        dist[src] = 0\n",
    "     \n",
    "        # Add all vertices in queue\n",
    "        queue = []\n",
    "        for i in range(row):\n",
    "            queue.append(i)\n",
    "             \n",
    "        #Find shortest path for all vertices\n",
    "        while queue:\n",
    " \n",
    "            u = self.minDistance(dist,queue)\n",
    " \n",
    "            # remove min element    \n",
    "            queue.remove(u)\n",
    " \n",
    "          \n",
    "            for i in range(col):\n",
    "            \n",
    "                if graph[u][i] and i in queue:\n",
    "                    if dist[u] + graph[u][i] < dist[i]:\n",
    "                        dist[i] = dist[u] + graph[u][i]\n",
    "                        parent[i] = u\n",
    " \n",
    " \n",
    "        # print the constructed distance array\n",
    "        self.printSolution(dist,parent)\n",
    " \n",
    "g= Graph()\n",
    "\n",
    "# Print the solution\n",
    "g.dijkstra(G,6)"
   ]
  },
  {
   "cell_type": "markdown",
   "metadata": {},
   "source": []
  },
  {
   "cell_type": "code",
   "execution_count": null,
   "metadata": {},
   "outputs": [],
   "source": []
  }
 ],
 "metadata": {
  "interpreter": {
   "hash": "8fac594bfae6525c0c41b4041d2d72effa188cc8ead05f81b1fab2bb098927fb"
  },
  "kernelspec": {
   "display_name": "Python 3.9.7 ('base')",
   "language": "python",
   "name": "python3"
  },
  "language_info": {
   "codemirror_mode": {
    "name": "ipython",
    "version": 3
   },
   "file_extension": ".py",
   "mimetype": "text/x-python",
   "name": "python",
   "nbconvert_exporter": "python",
   "pygments_lexer": "ipython3",
   "version": "3.9.7"
  },
  "orig_nbformat": 4
 },
 "nbformat": 4,
 "nbformat_minor": 2
}
