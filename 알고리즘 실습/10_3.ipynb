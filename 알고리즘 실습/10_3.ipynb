{
 "cells": [
  {
   "cell_type": "code",
   "execution_count": 1,
   "metadata": {},
   "outputs": [],
   "source": [
    "n,k = map(int, input().split())\n",
    "W = [[False] *(k+1) for _ in range(k+1)]\n",
    "for i in range(1,k+1):\n",
    "    v,e= map(int, input().split())\n",
    "    W[v][e] = True\n",
    "    W[e][v] = True\n",
    "\n",
    "vcolor = [0 for _ in range(n+1)]\n",
    "def m_coloring(i):\n",
    "    global m\n",
    "    if(promising(i)):\n",
    "        if (i == n):\n",
    "            A.append(vcolor)\n",
    "            return\n",
    "        else:\n",
    "            for color in range(1,m+1):\n",
    "                vcolor[i+1] = color\n",
    "                m_coloring(i+1)\n",
    "def promising(i):\n",
    "    j = 1\n",
    "    flag = True\n",
    "    while(j < i and flag):\n",
    "        if(W[i][j] and (vcolor[i] == vcolor[j])):\n",
    "            flag = False\n",
    "        j+=1\n",
    "    return flag\n",
    "m = 0\n",
    "while(True):\n",
    "    A = []\n",
    "    m_coloring(0)\n",
    "    if len(A) != 0:\n",
    "        print(m)\n",
    "        print(len(A))\n",
    "        break\n",
    "    else:\n",
    "        m +=1\n",
    "    "
   ]
  },
  {
   "cell_type": "code",
   "execution_count": 2,
   "metadata": {},
   "outputs": [],
   "source": [
    "for i in range(1,k+1):\n",
    "    v,e= map(int, input().split())\n",
    "    W[v][e] = True\n",
    "    W[e][v] = True\n",
    "    "
   ]
  },
  {
   "cell_type": "code",
   "execution_count": 3,
   "metadata": {},
   "outputs": [],
   "source": [
    "vcolor = [0 for _ in range(n+1)]"
   ]
  },
  {
   "cell_type": "code",
   "execution_count": 4,
   "metadata": {},
   "outputs": [],
   "source": [
    "def m_coloring(i):\n",
    "    global m\n",
    "    if(promising(i)):\n",
    "        if (i == n):\n",
    "            A.append(vcolor)\n",
    "            return\n",
    "        else:\n",
    "            for color in range(1,m+1):\n",
    "                vcolor[i+1] = color\n",
    "                m_coloring(i+1)"
   ]
  },
  {
   "cell_type": "code",
   "execution_count": 5,
   "metadata": {},
   "outputs": [],
   "source": [
    "def promising(i):\n",
    "    j = 1\n",
    "    flag = True\n",
    "    while(j < i and flag):\n",
    "        if(W[i][j] and (vcolor[i] == vcolor[j])):\n",
    "            flag = False\n",
    "        j+=1\n",
    "    return flag"
   ]
  },
  {
   "cell_type": "code",
   "execution_count": 6,
   "metadata": {},
   "outputs": [
    {
     "name": "stdout",
     "output_type": "stream",
     "text": [
      "3\n",
      "6\n"
     ]
    }
   ],
   "source": [
    "m = 0\n",
    "while(True):\n",
    "    A = []\n",
    "    m_coloring(0)\n",
    "    if len(A) != 0:\n",
    "        print(m)\n",
    "        print(len(A))\n",
    "        break\n",
    "    else:\n",
    "        m +=1\n",
    "    "
   ]
  },
  {
   "cell_type": "code",
   "execution_count": null,
   "metadata": {},
   "outputs": [],
   "source": []
  }
 ],
 "metadata": {
  "interpreter": {
   "hash": "f08154012ddadd8e950e6e9e035c7a7b32c136e7647e9b7c77e02eb723a8bedb"
  },
  "kernelspec": {
   "display_name": "Python 3.9.7 ('base')",
   "language": "python",
   "name": "python3"
  },
  "language_info": {
   "codemirror_mode": {
    "name": "ipython",
    "version": 3
   },
   "file_extension": ".py",
   "mimetype": "text/x-python",
   "name": "python",
   "nbconvert_exporter": "python",
   "pygments_lexer": "ipython3",
   "version": "3.9.7"
  },
  "orig_nbformat": 4
 },
 "nbformat": 4,
 "nbformat_minor": 2
}
