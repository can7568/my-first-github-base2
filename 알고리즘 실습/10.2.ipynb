{
 "cells": [
  {
   "cell_type": "code",
   "execution_count": 10,
   "metadata": {},
   "outputs": [
    {
     "name": "stdout",
     "output_type": "stream",
     "text": [
      "35 48 \n",
      "1\n",
      "35 48\n"
     ]
    }
   ],
   "source": [
    "n,W = map(int, input().split())\n",
    "S = [int(i) for  i in input().split()]\n",
    "S.insert(0,0)\n",
    "include = [0 for _ in range(n+1)]\n",
    "cnt = 0\n",
    "A = []\n",
    "def sum_of_subsets(i,weight,total):\n",
    "    global cnt\n",
    "    if (promising(i,weight,total)):\n",
    "        if(weight == W):\n",
    "            cnt +=1\n",
    "            m = []\n",
    "            for i in range(1,n+1):\n",
    "                if include[i]:\n",
    "                    if (i != len(S)-1):\n",
    "                        m.append(S[i])\n",
    "                        print(S[i],end=' ')\n",
    "                    else:\n",
    "                        m.append(S[i])\n",
    "                        print(S[i],end='')\n",
    "            A.append(m)\n",
    "            print()\n",
    "            return\n",
    "        else:\n",
    "            include[i+1] = True\n",
    "            sum_of_subsets(i+1,weight + S[i+1], total - S[i+1])\n",
    "            include[i+1] = False\n",
    "            sum_of_subsets(i+1,weight,total - S[i+1])\n",
    "def promising(i,weight,total):\n",
    "    return ((weight + total >= W) and ((weight == W) or (weight + S[i+1] <= W)))\n",
    "sum_of_subsets(0,0,sum(S))\n",
    "print(cnt)\n",
    "for i in range(len(A)):\n",
    "    for j in range(len(A[i])):\n",
    "        if(j == len(A[i])-1):\n",
    "            print(A[i][j],end='')\n",
    "        else:\n",
    "            print(A[i][j],end=' ')\n",
    "    print()"
   ]
  },
  {
   "cell_type": "code",
   "execution_count": 62,
   "metadata": {},
   "outputs": [],
   "source": [
    "S.insert(0,0)"
   ]
  },
  {
   "cell_type": "code",
   "execution_count": 194,
   "metadata": {},
   "outputs": [],
   "source": [
    "include = [0 for _ in range(n+1)]\n",
    "cnt = 0\n",
    "A = []"
   ]
  },
  {
   "cell_type": "code",
   "execution_count": 195,
   "metadata": {},
   "outputs": [],
   "source": [
    "def sum_of_subsets(i,weight,total):\n",
    "    global cnt\n",
    "    if (promising(i,weight,total)):\n",
    "        if(weight == W):\n",
    "            cnt +=1\n",
    "            m = []\n",
    "            for i in range(1,n+1):\n",
    "                if include[i]:\n",
    "                    if (i != len(S)-1):\n",
    "                        m.append(S[i])\n",
    "                        # print(S[i],end=' ')\n",
    "                    else:\n",
    "                        m.append(S[i])\n",
    "                        # print(S[i],end='')\n",
    "            A.append(m)\n",
    "            # print()\n",
    "            return\n",
    "        else:\n",
    "            include[i+1] = True\n",
    "            sum_of_subsets(i+1,weight + S[i+1], total - S[i+1])\n",
    "            include[i+1] = False\n",
    "            sum_of_subsets(i+1,weight,total - S[i+1])\n",
    "            \n",
    "    \n",
    "            "
   ]
  },
  {
   "cell_type": "code",
   "execution_count": 196,
   "metadata": {},
   "outputs": [],
   "source": [
    "def promising(i,weight,total):\n",
    "    return ((weight + total >= W) and ((weight == W) or (weight + S[i+1] <= W)))\n"
   ]
  },
  {
   "cell_type": "code",
   "execution_count": 197,
   "metadata": {},
   "outputs": [],
   "source": [
    "sum_of_subsets(0,0,sum(S))"
   ]
  },
  {
   "cell_type": "code",
   "execution_count": 201,
   "metadata": {},
   "outputs": [
    {
     "name": "stdout",
     "output_type": "stream",
     "text": [
      "64\n",
      "1 2 3 4 10\n",
      "1 2 3 5 9\n",
      "1 2 3 6 8\n",
      "1 2 3 14\n",
      "1 2 4 5 8\n",
      "1 2 4 6 7\n",
      "1 2 4 13\n",
      "1 2 5 12\n",
      "1 2 6 11\n",
      "1 2 7 10\n",
      "1 2 8 9\n",
      "1 2 17\n",
      "1 3 4 5 7\n",
      "1 3 4 12\n",
      "1 3 5 11\n",
      "1 3 6 10\n",
      "1 3 7 9\n",
      "1 3 16\n",
      "1 4 5 10\n",
      "1 4 6 9\n",
      "1 4 7 8\n",
      "1 4 15\n",
      "1 5 6 8\n",
      "1 5 14\n",
      "1 6 13\n",
      "1 7 12\n",
      "1 8 11\n",
      "1 9 10\n",
      "1 19\n",
      "2 3 4 5 6\n",
      "2 3 4 11\n",
      "2 3 5 10\n",
      "2 3 6 9\n",
      "2 3 7 8\n",
      "2 3 15\n",
      "2 4 5 9\n",
      "2 4 6 8\n",
      "2 4 14\n",
      "2 5 6 7\n",
      "2 5 13\n",
      "2 6 12\n",
      "2 7 11\n",
      "2 8 10\n",
      "2 18\n",
      "3 4 5 8\n",
      "3 4 6 7\n",
      "3 4 13\n",
      "3 5 12\n",
      "3 6 11\n",
      "3 7 10\n",
      "3 8 9\n",
      "3 17\n",
      "4 5 11\n",
      "4 6 10\n",
      "4 7 9\n",
      "4 16\n",
      "5 6 9\n",
      "5 7 8\n",
      "5 15\n",
      "6 14\n",
      "7 13\n",
      "8 12\n",
      "9 11\n",
      "20\n"
     ]
    }
   ],
   "source": [
    "print(cnt)\n",
    "for i in range(len(A)):\n",
    "    for j in range(len(A[i])):\n",
    "        if(j == len(A[i])-1):\n",
    "            print(A[i][j],end='')\n",
    "        else:\n",
    "            print(A[i][j],end=' ')\n",
    "    print()"
   ]
  },
  {
   "cell_type": "code",
   "execution_count": null,
   "metadata": {},
   "outputs": [],
   "source": []
  }
 ],
 "metadata": {
  "interpreter": {
   "hash": "f08154012ddadd8e950e6e9e035c7a7b32c136e7647e9b7c77e02eb723a8bedb"
  },
  "kernelspec": {
   "display_name": "Python 3.9.7 ('base')",
   "language": "python",
   "name": "python3"
  },
  "language_info": {
   "codemirror_mode": {
    "name": "ipython",
    "version": 3
   },
   "file_extension": ".py",
   "mimetype": "text/x-python",
   "name": "python",
   "nbconvert_exporter": "python",
   "pygments_lexer": "ipython3",
   "version": "3.9.7"
  },
  "orig_nbformat": 4
 },
 "nbformat": 4,
 "nbformat_minor": 2
}
