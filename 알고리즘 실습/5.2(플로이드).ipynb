{
 "cells": [
  {
   "cell_type": "code",
   "execution_count": null,
   "metadata": {},
   "outputs": [],
   "source": [
    "#텍스트 파일 불러와서 리스트에 저장하기\n",
    "with open('trianglepath.txt') as inFile:\n",
    "    for line in inFile: ## 2\n",
    "        ns = [int(w) for w in line.split()]\n",
    "        triangle.append(ns)## 3"
   ]
  },
  {
   "cell_type": "code",
   "execution_count": 5,
   "metadata": {},
   "outputs": [
    {
     "ename": "ValueError",
     "evalue": "not enough values to unpack (expected 2, got 0)",
     "output_type": "error",
     "traceback": [
      "\u001b[1;31m---------------------------------------------------------------------------\u001b[0m",
      "\u001b[1;31mValueError\u001b[0m                                Traceback (most recent call last)",
      "\u001b[1;32m~\\AppData\\Local\\Temp/ipykernel_19676/2065232255.py\u001b[0m in \u001b[0;36m<module>\u001b[1;34m\u001b[0m\n\u001b[0;32m     22\u001b[0m \u001b[0msys\u001b[0m\u001b[1;33m.\u001b[0m\u001b[0mstdin\u001b[0m \u001b[1;33m=\u001b[0m \u001b[0mopen\u001b[0m\u001b[1;33m(\u001b[0m\u001b[1;34m\"input5-2.txt\"\u001b[0m\u001b[1;33m,\u001b[0m\u001b[1;34m\"r\"\u001b[0m\u001b[1;33m)\u001b[0m\u001b[1;33m\u001b[0m\u001b[1;33m\u001b[0m\u001b[0m\n\u001b[0;32m     23\u001b[0m \u001b[0mINF\u001b[0m \u001b[1;33m=\u001b[0m \u001b[1;36m999\u001b[0m\u001b[1;33m\u001b[0m\u001b[1;33m\u001b[0m\u001b[0m\n\u001b[1;32m---> 24\u001b[1;33m \u001b[0mN\u001b[0m\u001b[1;33m,\u001b[0m \u001b[0mM\u001b[0m \u001b[1;33m=\u001b[0m \u001b[0mmap\u001b[0m\u001b[1;33m(\u001b[0m\u001b[0mint\u001b[0m\u001b[1;33m,\u001b[0m \u001b[0minput\u001b[0m\u001b[1;33m(\u001b[0m\u001b[1;33m)\u001b[0m\u001b[1;33m.\u001b[0m\u001b[0msplit\u001b[0m\u001b[1;33m(\u001b[0m\u001b[1;33m)\u001b[0m\u001b[1;33m)\u001b[0m \u001b[1;31m#(정점, 간선)의 개수\u001b[0m\u001b[1;33m\u001b[0m\u001b[1;33m\u001b[0m\u001b[0m\n\u001b[0m\u001b[0;32m     25\u001b[0m \u001b[0mW\u001b[0m \u001b[1;33m=\u001b[0m \u001b[1;33m[\u001b[0m\u001b[1;33m[\u001b[0m\u001b[0mINF\u001b[0m\u001b[1;33m]\u001b[0m\u001b[1;33m*\u001b[0m\u001b[1;33m(\u001b[0m\u001b[0mN\u001b[0m\u001b[1;33m+\u001b[0m\u001b[1;36m1\u001b[0m\u001b[1;33m)\u001b[0m \u001b[1;32mfor\u001b[0m \u001b[0m_\u001b[0m \u001b[1;32min\u001b[0m \u001b[0mrange\u001b[0m\u001b[1;33m(\u001b[0m\u001b[0mN\u001b[0m\u001b[1;33m+\u001b[0m\u001b[1;36m1\u001b[0m\u001b[1;33m)\u001b[0m\u001b[1;33m]\u001b[0m\u001b[1;33m\u001b[0m\u001b[1;33m\u001b[0m\u001b[0m\n\u001b[0;32m     26\u001b[0m \u001b[1;32mfor\u001b[0m \u001b[0mi\u001b[0m \u001b[1;32min\u001b[0m \u001b[0mrange\u001b[0m\u001b[1;33m(\u001b[0m\u001b[1;36m1\u001b[0m\u001b[1;33m,\u001b[0m\u001b[0mN\u001b[0m\u001b[1;33m+\u001b[0m\u001b[1;36m1\u001b[0m\u001b[1;33m)\u001b[0m\u001b[1;33m:\u001b[0m\u001b[1;33m\u001b[0m\u001b[1;33m\u001b[0m\u001b[0m\n",
      "\u001b[1;31mValueError\u001b[0m: not enough values to unpack (expected 2, got 0)"
     ]
    }
   ],
   "source": [
    "import sys\n",
    "# 플로이드 알고리즘\n",
    "def floyd2(W):\n",
    "    D = W #복사\n",
    "    n = len(W)\n",
    "    P = [[0] * n for _ in range(n)]\n",
    "    for k in range(1, n):\n",
    "        for i in range(1, n):\n",
    "            for j in range(1, n):\n",
    "                if (D[i][j] > D[i][k] + D[k][j]): # k를 경유하는 게 더 짧으면\n",
    "                    D[i][j] = D[i][k ]+ D[k][j]\n",
    "                    P[i][j] = k\n",
    "    return D,P\n",
    "\n",
    "# 최단경로, P[u][v] == k\n",
    "def path(P,u,v):\n",
    "  if(P[u][v]!=0):\n",
    "    path(P,u,P[u][v])\n",
    "    print('%d'%P[u][v],end=\" \")\n",
    "    path(P,P[u][v],v)\n",
    "\n",
    "sys.stdin = open(\"input5-2.txt\",\"r\")    \n",
    "INF = 999                   \n",
    "N, M = map(int, input().split()) #(정점, 간선)의 개수\n",
    "W = [[INF]*(N+1) for _ in range(N+1)]\n",
    "for i in range(1,N+1):\n",
    "    W[i][i] = 0\n",
    "\n",
    "for i in range(M):\n",
    "    u,v,w = map(int, input().split()) # 출발 정점, 도착 정점, 가중치\n",
    "    W[u][v] = w\n",
    "\n",
    "T = int(input())\n",
    "for i in range(T):\n",
    "   a ,b = map(int,input().split())\n",
    "\n",
    "\n",
    "D,P = floyd2(W)\n",
    "for i in range(1,N+1):\n",
    "    for j in range(1,N+1):\n",
    "        if (j == N):\n",
    "          print(D[i][j])\n",
    "        else:\n",
    "          print(D[i][j],end=\" \")\n",
    "for i in range(1,N+1):\n",
    "    for j in range(1,N+1):\n",
    "        if (j == N):\n",
    "          print(P[i][j])\n",
    "        else:\n",
    "          print(P[i][j],end=\" \")\n",
    "\n",
    "for i in range(1, N+1):\n",
    "  for j in range(1,N+1):\n",
    "    if (D[i][j] == INF):\n",
    "      print(\"NONE\")\n",
    "    elif i == j and i < N:\n",
    "      print(i,j)\n",
    "    elif i == j and (i == N):\n",
    "        print(i,j, end =\"\")\n",
    "    else:\n",
    "      print(i,end=\" \")\n",
    "      path(P,i,j)\n",
    "      print(j)"
   ]
  },
  {
   "cell_type": "code",
   "execution_count": null,
   "metadata": {},
   "outputs": [],
   "source": []
  }
 ],
 "metadata": {
  "interpreter": {
   "hash": "8fac594bfae6525c0c41b4041d2d72effa188cc8ead05f81b1fab2bb098927fb"
  },
  "kernelspec": {
   "display_name": "Python 3.9.7 ('base')",
   "language": "python",
   "name": "python3"
  },
  "language_info": {
   "codemirror_mode": {
    "name": "ipython",
    "version": 3
   },
   "file_extension": ".py",
   "mimetype": "text/x-python",
   "name": "python",
   "nbconvert_exporter": "python",
   "pygments_lexer": "ipython3",
   "version": "3.9.7"
  },
  "orig_nbformat": 4
 },
 "nbformat": 4,
 "nbformat_minor": 2
}
