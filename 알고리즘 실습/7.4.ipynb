{
 "cells": [
  {
   "cell_type": "code",
   "execution_count": 1,
   "metadata": {},
   "outputs": [],
   "source": [
    "#회의실 배정"
   ]
  },
  {
   "cell_type": "code",
   "execution_count": 22,
   "metadata": {},
   "outputs": [],
   "source": [
    "G = []\n",
    "n = int(input())"
   ]
  },
  {
   "cell_type": "code",
   "execution_count": 29,
   "metadata": {},
   "outputs": [],
   "source": [
    "for i in range(n):\n",
    "    start,end= map(int,input().split())\n",
    "    a = [end,start]\n",
    "    G.append(a)"
   ]
  },
  {
   "cell_type": "code",
   "execution_count": 30,
   "metadata": {},
   "outputs": [
    {
     "data": {
      "text/plain": [
       "[[4, 1],\n",
       " [5, 3],\n",
       " [6, 0],\n",
       " [7, 5],\n",
       " [9, 3],\n",
       " [9, 5],\n",
       " [10, 6],\n",
       " [11, 8],\n",
       " [12, 8],\n",
       " [14, 2],\n",
       " [16, 12],\n",
       " [4, 1],\n",
       " [5, 3],\n",
       " [6, 0],\n",
       " [7, 5],\n",
       " [9, 3],\n",
       " [9, 5],\n",
       " [10, 6],\n",
       " [11, 8],\n",
       " [12, 8],\n",
       " [14, 2],\n",
       " [16, 12]]"
      ]
     },
     "execution_count": 30,
     "metadata": {},
     "output_type": "execute_result"
    }
   ],
   "source": [
    "G"
   ]
  },
  {
   "cell_type": "code",
   "execution_count": 31,
   "metadata": {},
   "outputs": [],
   "source": [
    "G.sort()"
   ]
  },
  {
   "cell_type": "code",
   "execution_count": 26,
   "metadata": {},
   "outputs": [
    {
     "name": "stdout",
     "output_type": "stream",
     "text": [
      "11\n",
      "4 1\n",
      "5 3\n",
      "6 0\n",
      "7 5\n",
      "9 3\n",
      "9 5\n",
      "10 6\n",
      "11 8\n",
      "12 8\n",
      "14 2\n",
      "16 12\n"
     ]
    }
   ],
   "source": [
    "t = 0\n",
    "T = []\n",
    "a = 0\n",
    "for i in range(n):\n",
    "    if a <= G[i][0]:\n",
    "        t += 1\n",
    "        a = G[i][1] \n",
    "        T.append(G[i])\n",
    "print(t)\n",
    "for i in range(len(T)):\n",
    "    for j in range(len(T[0])):\n",
    "        if(j == len(T[0])-1):\n",
    "            print(T[i][j],end='')\n",
    "        else:\n",
    "            print(T[i][j],end=' ')\n",
    "    print()"
   ]
  },
  {
   "cell_type": "code",
   "execution_count": 6,
   "metadata": {},
   "outputs": [],
   "source": [
    "n = int(input())\n",
    "S = [[0]*2] * n\n",
    "for i in range(n):    \n",
    "\tS[i] = list(map(int, input().split()))"
   ]
  },
  {
   "cell_type": "code",
   "execution_count": 19,
   "metadata": {},
   "outputs": [
    {
     "name": "stdout",
     "output_type": "stream",
     "text": [
      "4\n",
      "1 4\n",
      "5 7\n",
      "8 11\n",
      "12 16\n"
     ]
    }
   ],
   "source": [
    "n = int(input())\n",
    "S = [[0]*2] * n\n",
    "for i in range(n):    \n",
    "\tS[i] = list(map(int, input().split()))\n",
    "S.sort(key=lambda S: (S[1], S[0]))\n",
    "t = 0\n",
    "T = []\n",
    "a = 0\n",
    "for i in range(n):\n",
    "    if a <= S[i][0]:\n",
    "        t += 1\n",
    "        a = S[i][1] \n",
    "        T.append(S[i])\n",
    "print(t)\n",
    "for i in range(len(T)):\n",
    "    for j in range(len(T[0])):\n",
    "        if(j == len(T[0])-1):\n",
    "            print(T[i][j],end='')\n",
    "        else:\n",
    "            print(T[i][j],end=' ')\n",
    "    print()\n",
    "    "
   ]
  }
 ],
 "metadata": {
  "interpreter": {
   "hash": "8fac594bfae6525c0c41b4041d2d72effa188cc8ead05f81b1fab2bb098927fb"
  },
  "kernelspec": {
   "display_name": "Python 3.9.7 ('base')",
   "language": "python",
   "name": "python3"
  },
  "language_info": {
   "codemirror_mode": {
    "name": "ipython",
    "version": 3
   },
   "file_extension": ".py",
   "mimetype": "text/x-python",
   "name": "python",
   "nbconvert_exporter": "python",
   "pygments_lexer": "ipython3",
   "version": "3.9.7"
  },
  "orig_nbformat": 4
 },
 "nbformat": 4,
 "nbformat_minor": 2
}
