{
 "cells": [
  {
   "cell_type": "code",
   "execution_count": null,
   "metadata": {},
   "outputs": [],
   "source": []
  },
  {
   "cell_type": "code",
   "execution_count": 2,
   "metadata": {},
   "outputs": [],
   "source": [
    "n,m = map(int, input().split())\n",
    "INF = 9999999\n",
    "G = [[INF]*(n+1) for _ in range(n+1)]\n",
    "#대각선 0으로 만들기\n",
    "for a in range(1, n + 1):\n",
    "    for b in range(1, n + 1):\n",
    "        if a == b:\n",
    "            G[a][b] = 0\n",
    "#인접리스트 대칭으로 만들기\n",
    "for i in range(m):\n",
    "    u, v, w = map(int, input().split())\n",
    "    G[u][v] = w\n",
    "    G[v][u] = w"
   ]
  },
  {
   "cell_type": "code",
   "execution_count": 34,
   "metadata": {},
   "outputs": [
    {
     "name": "stdout",
     "output_type": "stream",
     "text": [
      "1 2 1\n",
      "3 5 2\n",
      "1 3 3\n",
      "3 4 4\n"
     ]
    }
   ],
   "source": [
    "n,m = map(int, input().split())\n",
    "dset = [0] * (n+1) \n",
    "G = []\n",
    "for i in range(1, m+1): \n",
    "    u, v, w = map(int,input().split())\n",
    "    a = [w,u,v]\n",
    "    G.append(a) \n",
    "\n",
    "G.sort() # 비용으로 sort\n",
    "\n",
    "# 자기 자신 루트로 설정하기\n",
    "for i in range(1, n+1):\n",
    "    dset[i]=i\n",
    "\n",
    "#루트 찾기    \n",
    "def find(i): \n",
    "    if dset[i] == i: \n",
    "        return i\n",
    "    p = find(dset[i]) \n",
    "    dset[i] = p \n",
    "    return dset[i]\n",
    "\n",
    "def union(a, b): \n",
    "    a = find(a) \n",
    "    b = find(b) \n",
    "    if a == b: #사이클 발생\n",
    "        return\n",
    "    elif a < b:\n",
    "        dset[b] = a\n",
    "    else:\n",
    "        dset[a] = b\n",
    "\n",
    "# 크루스칼 알고리즘\n",
    "def kruskal(G):\n",
    "    F = [] \n",
    "    for edge in G:\n",
    "        cost, a, b = edge\n",
    "        if find(a) != find(b): \n",
    "            union(a,b) \n",
    "            F.append((a,b,cost))\n",
    "    return F\n",
    "\n",
    "F = kruskal(G)\n",
    "for i in range(len(F)):\n",
    "    for j in range(len(F[0])):\n",
    "        if(j == len(F[0])-1):\n",
    "            print(F[i][j],end='')\n",
    "        else:\n",
    "            print(F[i][j],end=' ')\n",
    "    print()"
   ]
  },
  {
   "cell_type": "code",
   "execution_count": 33,
   "metadata": {},
   "outputs": [
    {
     "data": {
      "text/plain": [
       "5"
      ]
     },
     "execution_count": 33,
     "metadata": {},
     "output_type": "execute_result"
    }
   ],
   "source": [
    "F[1][1]"
   ]
  },
  {
   "cell_type": "code",
   "execution_count": 23,
   "metadata": {},
   "outputs": [
    {
     "name": "stdout",
     "output_type": "stream",
     "text": [
      "[[], [1, 1, 2], [3, 1, 3], [7, 2, 3], [6, 2, 4], [4, 3, 4], [2, 3, 5], [5, 4, 5]]\n"
     ]
    }
   ],
   "source": [
    "n,m = map(int, input().split())\n",
    "dset = [0] * (n+1) \n",
    "rank = [0] * (n+1) \n",
    "G = [[] for i in range(m+1)] # 간선 정보를 저장할 자료구조\n",
    "\n",
    "# 자기 자신 루트로 설정하기\n",
    "for i in range(1, n+1):\n",
    "    dset[i]=i\n",
    "\n",
    "# 간선 정보 입력 받기\n",
    "for i in range(1, m+1): # 간선 수 만큼 반복\n",
    "    a, b, c = map(int,input().split()) # 간선 정보 입력 (출발 정점, 도착 정점, 비용)\n",
    "    G[i].extend([c, a, b]) # 비용, 출발 정점, 도착 정점\n",
    "print(G)\n",
    "\n",
    "def find(a): # a 정점의 루트 노드 탐색\n",
    "    if dset[a] == a: # a가 루트 노드이면, a 반환\n",
    "        return a\n",
    "    p = find(dset[a]) # 루트 노드 탐색\n",
    "    dset[a] = p # a의 루트 노드 갱신\n",
    "    return dset[a]\n",
    "\n",
    "def union(a, b): # a와 b 집합을 병합\n",
    "    a = find(a) # a의 루트 노드 탐색\n",
    "    b = find(b) # b의 루트 노드 탐색\n",
    "    if a == b: # 루트 노드가 동일하면, 동일한 집합\n",
    "        return\n",
    "    if rank[a] > rank[b]: # rank가 낮은 집합을 rank가 높은 집합으로 병합\n",
    "        dset[b] = a # 병합\n",
    "    else:\n",
    "        dset[a] = b # 집합 병합\n",
    "        if rank[a] == rank[b]: # 두 랭크가 동일하면\n",
    "            rank[b] += 1 # 랭크 +1\n",
    "\n",
    "# 크루스컬 알고리즘\n",
    "def kruskal(G):\n",
    "    G.sort() # 비용을 기준으로 정렬\n",
    "    total = 0 # 최종 비용\n",
    "    MST = [] # 최소 신장 트리\n",
    "    # 간선 연결\n",
    "    for edge in G:\n",
    "        if not edge: # 0 번째 edge 생략\n",
    "            continue\n",
    "        cost, a, b = edge # 간선 정보 추출\n",
    "        if find(a) != find(b): # 서로 다른 집합인 경우\n",
    "            union(a,b) # a, b 병합\n",
    "            total += cost # 비용 갱신\n",
    "            MST.append((a,b,cost)) # 최소 신장 트리\n",
    "\n",
    "    return total, MST\n",
    "\n",
    "total, MST = kruskal(G)"
   ]
  },
  {
   "cell_type": "code",
   "execution_count": 7,
   "metadata": {},
   "outputs": [
    {
     "data": {
      "text/plain": [
       "(10, [(1, 2, 1), (3, 5, 2), (1, 3, 3), (3, 4, 4)])"
      ]
     },
     "execution_count": 7,
     "metadata": {},
     "output_type": "execute_result"
    }
   ],
   "source": [
    "total, MST"
   ]
  },
  {
   "cell_type": "code",
   "execution_count": null,
   "metadata": {},
   "outputs": [],
   "source": []
  }
 ],
 "metadata": {
  "interpreter": {
   "hash": "8fac594bfae6525c0c41b4041d2d72effa188cc8ead05f81b1fab2bb098927fb"
  },
  "kernelspec": {
   "display_name": "Python 3.9.7 ('base')",
   "language": "python",
   "name": "python3"
  },
  "language_info": {
   "codemirror_mode": {
    "name": "ipython",
    "version": 3
   },
   "file_extension": ".py",
   "mimetype": "text/x-python",
   "name": "python",
   "nbconvert_exporter": "python",
   "pygments_lexer": "ipython3",
   "version": "3.9.7"
  },
  "orig_nbformat": 4
 },
 "nbformat": 4,
 "nbformat_minor": 2
}
