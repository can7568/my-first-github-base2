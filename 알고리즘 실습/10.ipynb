{
 "cells": [
  {
   "cell_type": "code",
   "execution_count": 3,
   "metadata": {},
   "outputs": [
    {
     "name": "stdout",
     "output_type": "stream",
     "text": [
      "10000이하의 자연수 중에서 콜라츠 수열의 길이가 가장 긴 수는?\n",
      "길이: 10000, 그 수: 0\n",
      "\n",
      "우박수(halestone) 찾기\n",
      "[322, 161, 484, 242, 121, 364, 182, 91, 274, 137, 412, 206, 103, 310, 155, 466, 233, 700, 350, 175, 526, 263, 790, 395, 1186, 593, 1780, 890, 445, 1336, 668, 334, 167, 502, 251, 754, 377, 1132, 566, 283, 850, 425, 1276, 638, 319, 958, 479, 1438, 719, 2158, 1079, 3238, 1619, 4858, 2429, 7288, 3644, 1822, 911, 2734, 1367, 4102, 2051, 6154, 3077, 9232, 4616, 2308, 1154, 577, 1732, 866, 433, 1300, 650, 325, 976, 488, 244, 122, 61, 184, 92, 46, 23, 70, 35, 106, 53, 160, 80, 40, 20, 10, 5, 16, 8, 4, 2, 1]\n",
      "길이가 100인 가장 작은 우박수(halestone)는: 322\n"
     ]
    }
   ],
   "source": [
    "# 콜라츠의 추측, 우박수 찾기\n",
    "def collatz(n):\n",
    "    seq = [n]\n",
    "    while(n!=1):\n",
    "        if (n%2==0):\n",
    "            n //= 2\n",
    "        else:\n",
    "            n = (n*3)+1\n",
    "        seq.append(n)\n",
    "    return seq\n",
    "\n",
    "# n=int(input(\"자연수 n을 입력하세요: \"))\n",
    "# print(\"%i의 콜라츠의 수열\"%n,collatz(n))\n",
    "\n",
    "# print(\"길이\",len(collatz(n)))\n",
    "\n",
    "# print(\"\\n\\n\")\n",
    "print(\"10000이하의 자연수 중에서 콜라츠 수열의 길이가 가장 긴 수는?\")\n",
    "n = 1000\n",
    "maxLength = 10000\n",
    "\n",
    "num = 0\n",
    "while n!=1000:\n",
    "    if maxLength >= len(collatz(n)):\n",
    "        maxLength = len(collatz(n))\n",
    "        num = n\n",
    "    n +=1\n",
    "\n",
    "print(\"길이: %i, 그 수: %i\"%(maxLength,num))\n",
    "print()\n",
    "print(\"우박수(halestone) 찾기\")\n",
    "n = 0\n",
    "while True:\n",
    "    n += 1\n",
    "    halestone = collatz(n)\n",
    "    if (len(halestone) == 100):\n",
    "        break\n",
    "print(halestone)\n",
    "print(\"길이가 100인 가장 작은 우박수(halestone)는:\",n)"
   ]
  },
  {
   "cell_type": "code",
   "execution_count": 7,
   "metadata": {},
   "outputs": [
    {
     "name": "stdout",
     "output_type": "stream",
     "text": [
      "45\n"
     ]
    }
   ],
   "source": [
    "cnt=1\n",
    "num=1\n",
    "MAX = 1000\n",
    "\n",
    "while (num<=MAX):\n",
    "    num+=cnt\n",
    "    cnt+=1\n",
    "print(cnt-1)"
   ]
  },
  {
   "cell_type": "code",
   "execution_count": 2,
   "metadata": {},
   "outputs": [
    {
     "name": "stdout",
     "output_type": "stream",
     "text": [
      "10000이하의 자연수 중에서 콜라츠 수열의 길이가 가장 긴 수는?\n",
      "길이: 1000, 그 수: 0\n",
      "\n"
     ]
    }
   ],
   "source": [
    "# 콜라츠의 추측, 우박수 찾기\n",
    "def collatz(n):\n",
    "    seq = [n]\n",
    "    while(n!=1):\n",
    "        if (n%2==0):\n",
    "            n //= 2\n",
    "        else:\n",
    "            n = (n*3)+1\n",
    "        seq.append(n)\n",
    "    return seq\n",
    "\n",
    "# n=int(input(\"자연수 n을 입력하세요: \"))\n",
    "# print(\"%i의 콜라츠의 수열\"%n,collatz(n))\n",
    "\n",
    "# print(\"길이\",len(collatz(n)))\n",
    "\n",
    "# print(\"\\n\\n\")\n",
    "print(\"10000이하의 자연수 중에서 콜라츠 수열의 길이가 가장 긴 수는?\")\n",
    "n = 1000\n",
    "maxLength = 1000\n",
    "num = 0\n",
    "while n!=1000:\n",
    "    if maxLength >= len(collatz(n)):\n",
    "        maxLength = len(collatz(n))\n",
    "        num = n\n",
    "    n +=1\n",
    "\n",
    "print(\"길이: %i, 그 수: %i\"%(maxLength,num))\n",
    "print()"
   ]
  },
  {
   "cell_type": "code",
   "execution_count": 6,
   "metadata": {},
   "outputs": [],
   "source": [
    "def solution(num):\n",
    "    answer = 0\n",
    "    \n",
    "    for i in range(1000):\n",
    "        if num % 2 == 0:\n",
    "            num = num/2\n",
    "            answer += 1\n",
    "        if num == 1:\n",
    "            break\n",
    "        if num % 2 != 0:\n",
    "            num = (num*3)+1\n",
    "            answer += 1\n",
    "        if num == 1:\n",
    "            break\n",
    "        if answer > 1000 and num != 1:\n",
    "            answer = -1\n",
    "            break\n",
    "    \n",
    "    return answer\n"
   ]
  },
  {
   "cell_type": "code",
   "execution_count": 7,
   "metadata": {},
   "outputs": [
    {
     "data": {
      "text/plain": [
       "111"
      ]
     },
     "execution_count": 7,
     "metadata": {},
     "output_type": "execute_result"
    }
   ],
   "source": [
    "solution(1000)"
   ]
  },
  {
   "cell_type": "code",
   "execution_count": null,
   "metadata": {},
   "outputs": [],
   "source": []
  }
 ],
 "metadata": {
  "kernelspec": {
   "display_name": "Python 3.9.7 ('base')",
   "language": "python",
   "name": "python3"
  },
  "language_info": {
   "codemirror_mode": {
    "name": "ipython",
    "version": 3
   },
   "file_extension": ".py",
   "mimetype": "text/x-python",
   "name": "python",
   "nbconvert_exporter": "python",
   "pygments_lexer": "ipython3",
   "version": "3.9.7"
  },
  "orig_nbformat": 4,
  "vscode": {
   "interpreter": {
    "hash": "f08154012ddadd8e950e6e9e035c7a7b32c136e7647e9b7c77e02eb723a8bedb"
   }
  }
 },
 "nbformat": 4,
 "nbformat_minor": 2
}
