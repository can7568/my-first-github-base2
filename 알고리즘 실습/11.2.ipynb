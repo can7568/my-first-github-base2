{
 "cells": [
  {
   "cell_type": "code",
   "execution_count": 222,
   "metadata": {},
   "outputs": [
    {
     "name": "stdout",
     "output_type": "stream",
     "text": [
      "0 0 0 115 0\n",
      "1 2 40 115 40\n",
      "2 7 70 115 70\n",
      "3 17 120 115 70\n",
      "3 7 70 80 70\n",
      "4 12 80 80 80\n",
      "4 7 70 70 80\n",
      "2 2 40 98 80\n",
      "3 12 90 98 90\n",
      "4 17 100 98 90\n",
      "4 12 90 90 90\n",
      "3 2 40 50 90\n",
      "1 0 0 82 90\n",
      "90\n",
      "2 40\n",
      "10 50\n"
     ]
    }
   ],
   "source": [
    "n,W = map(int, input().split())\n",
    "w = [int(i) for  i in input().split()]\n",
    "p = [int(i) for  i in input().split()]\n",
    "N = list(range(len(p)))\n",
    "#단위 무게당 이익으로 정렬\n",
    "S = [(profit/weight) for profit, weight in zip(p, w)]\n",
    "K = sorted(N,key=lambda x: S[x], reverse=True) \n",
    "a = [0] * n\n",
    "b = [0] * n\n",
    "for i , j in zip(N,K):\n",
    "    a[i] = w[j]\n",
    "    b[i] = p[j]\n",
    "a.insert(0,0)\n",
    "b.insert(0,0)\n",
    "w = a.copy()\n",
    "p = b.copy()\n",
    "def knapsack4(i,profit,weight):\n",
    "    global maxprofit,bestset\n",
    "    if (weight <= W) & (profit > maxprofit):\n",
    "        maxprofit = profit\n",
    "        bestset = include.copy()\n",
    "    \n",
    "    if promising(i,profit,weight):\n",
    "        include[i+1]= True\n",
    "        knapsack4(i+1, profit + p[i+1], weight + w[i+1])\n",
    "        include[i+1] = False\n",
    "        knapsack4(i+1, profit, weight)\n",
    "def promising(i,profit,weight):\n",
    "    global bound\n",
    "    if weight >= W:\n",
    "        print(i,weight,profit,int(bound),maxprofit)   \n",
    "        return False\n",
    "    else:\n",
    "        j = i+1\n",
    "        bound = profit\n",
    "        totweight = weight\n",
    "        while ((j <= n) and (totweight + w[j] <= W)):\n",
    "            totweight += w[j]\n",
    "            bound += p[j]\n",
    "            j +=1\n",
    "        k = j\n",
    "        if (k <= n):\n",
    "            bound += (W - totweight) * (p[k] / w[k])\n",
    "        print(i,weight,profit,int(bound),maxprofit)\n",
    "        return bound > maxprofit        \n",
    "maxprofit = 0\n",
    "bestset = []\n",
    "include = [False] *(n+1) \n",
    "knapsack4(0,0,0)\n",
    "print(maxprofit)\n",
    "for i in range(len(bestset)):\n",
    "    if bestset[i] != False:\n",
    "       print(w[i],p[i])      "
   ]
  },
  {
   "cell_type": "code",
   "execution_count": 192,
   "metadata": {},
   "outputs": [],
   "source": [
    "N = list(range(len(p)))\n",
    "#단위 무게당 이익으로 정렬\n",
    "S = [(profit/weight) for profit, weight in zip(p, w)]\n",
    "K = sorted(N,key=lambda x: S[x], reverse=True) "
   ]
  },
  {
   "cell_type": "code",
   "execution_count": 193,
   "metadata": {},
   "outputs": [],
   "source": [
    "a = [0] * n\n",
    "b = [0] * n\n",
    "for i , j in zip(N,K):\n",
    "    a[i] = w[j]\n",
    "    b[i] = p[j]"
   ]
  },
  {
   "cell_type": "code",
   "execution_count": 195,
   "metadata": {},
   "outputs": [],
   "source": [
    "a.insert(0,0)\n",
    "b.insert(0,0)\n",
    "w = a.copy()\n",
    "p = b.copy()"
   ]
  },
  {
   "cell_type": "code",
   "execution_count": 206,
   "metadata": {},
   "outputs": [],
   "source": [
    "def knapsack4(i,profit,weight):\n",
    "    global maxprofit,bestset\n",
    "    if (weight <= W) & (profit > maxprofit):\n",
    "        maxprofit = profit\n",
    "        bestset = include.copy()\n",
    "    \n",
    "    if promising(i,profit,weight):\n",
    "        include[i+1]= True\n",
    "        knapsack4(i+1, profit + p[i+1], weight + w[i+1])\n",
    "        include[i+1] = False\n",
    "        knapsack4(i+1, profit, weight)\n",
    "        \n",
    "        \n",
    "    "
   ]
  },
  {
   "cell_type": "code",
   "execution_count": 207,
   "metadata": {},
   "outputs": [],
   "source": [
    "def promising(i,profit,weight):\n",
    "    global bound\n",
    "    if weight >= W:\n",
    "        print(i,weight,profit,int(bound),maxprofit)   \n",
    "        return False\n",
    "    else:\n",
    "        j = i+1\n",
    "        bound = profit\n",
    "        totweight = weight\n",
    "        while ((j <= n) and (totweight + w[j] <= W)):\n",
    "            totweight += w[j]\n",
    "            bound += p[j]\n",
    "            j +=1\n",
    "        k = j\n",
    "        if (k <= n):\n",
    "            bound += (W - totweight) * (p[k] / w[k])\n",
    "        print(i,weight,profit,int(bound),maxprofit)\n",
    "        return bound > maxprofit\n",
    "            \n",
    "        \n",
    "        "
   ]
  },
  {
   "cell_type": "code",
   "execution_count": 209,
   "metadata": {},
   "outputs": [],
   "source": [
    "maxprofit = 0\n",
    "bestset = []\n",
    "include = [False] *(n+1) "
   ]
  },
  {
   "cell_type": "code",
   "execution_count": 221,
   "metadata": {},
   "outputs": [
    {
     "name": "stdout",
     "output_type": "stream",
     "text": [
      "0 0 0 115 90\n",
      "1 2 40 115 90\n",
      "2 7 70 115 90\n",
      "3 17 120 115 90\n",
      "3 7 70 80 90\n",
      "2 2 40 98 90\n",
      "3 12 90 98 90\n",
      "4 17 100 98 90\n",
      "4 12 90 90 90\n",
      "3 2 40 50 90\n",
      "1 0 0 82 90\n",
      "90\n",
      "2 40\n",
      "10 50\n"
     ]
    }
   ],
   "source": [
    "knapsack4(0,0,0)\n",
    "print(maxprofit)\n",
    "for i in range(len(bestset)):\n",
    "    if bestset[i] != False:\n",
    "       print(w[i],p[i])"
   ]
  },
  {
   "cell_type": "code",
   "execution_count": 215,
   "metadata": {},
   "outputs": [
    {
     "data": {
      "text/plain": [
       "[False, True, False, True, False]"
      ]
     },
     "execution_count": 215,
     "metadata": {},
     "output_type": "execute_result"
    }
   ],
   "source": [
    "bestset"
   ]
  },
  {
   "cell_type": "code",
   "execution_count": 91,
   "metadata": {},
   "outputs": [
    {
     "data": {
      "text/plain": [
       "[True, True, False, False]"
      ]
     },
     "execution_count": 91,
     "metadata": {},
     "output_type": "execute_result"
    }
   ],
   "source": [
    "bestset[1:]"
   ]
  },
  {
   "cell_type": "code",
   "execution_count": null,
   "metadata": {},
   "outputs": [],
   "source": []
  }
 ],
 "metadata": {
  "interpreter": {
   "hash": "f08154012ddadd8e950e6e9e035c7a7b32c136e7647e9b7c77e02eb723a8bedb"
  },
  "kernelspec": {
   "display_name": "Python 3.9.7 ('base')",
   "language": "python",
   "name": "python3"
  },
  "language_info": {
   "codemirror_mode": {
    "name": "ipython",
    "version": 3
   },
   "file_extension": ".py",
   "mimetype": "text/x-python",
   "name": "python",
   "nbconvert_exporter": "python",
   "pygments_lexer": "ipython3",
   "version": "3.9.7"
  },
  "orig_nbformat": 4
 },
 "nbformat": 4,
 "nbformat_minor": 2
}
