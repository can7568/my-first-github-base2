{
 "cells": [
  {
   "cell_type": "code",
   "execution_count": 1,
   "metadata": {},
   "outputs": [
    {
     "ename": "ValueError",
     "evalue": "not enough values to unpack (expected 2, got 0)",
     "output_type": "error",
     "traceback": [
      "\u001b[1;31m---------------------------------------------------------------------------\u001b[0m",
      "\u001b[1;31mValueError\u001b[0m                                Traceback (most recent call last)",
      "\u001b[1;32mc:\\Users\\User\\정리\\알고리즘 실습\\d.ipynb Cell 1'\u001b[0m in \u001b[0;36m<cell line: 24>\u001b[1;34m()\u001b[0m\n\u001b[0;32m     <a href='vscode-notebook-cell:/c%3A/Users/User/%EC%A0%95%EB%A6%AC/%EC%95%8C%EA%B3%A0%EB%A6%AC%EC%A6%98%20%EC%8B%A4%EC%8A%B5/d.ipynb#ch0000000?line=21'>22</a>\u001b[0m sys\u001b[39m.\u001b[39mstdin \u001b[39m=\u001b[39m \u001b[39mopen\u001b[39m(\u001b[39m\"\u001b[39m\u001b[39minput5-2.txt\u001b[39m\u001b[39m\"\u001b[39m,\u001b[39m\"\u001b[39m\u001b[39mr\u001b[39m\u001b[39m\"\u001b[39m)    \n\u001b[0;32m     <a href='vscode-notebook-cell:/c%3A/Users/User/%EC%A0%95%EB%A6%AC/%EC%95%8C%EA%B3%A0%EB%A6%AC%EC%A6%98%20%EC%8B%A4%EC%8A%B5/d.ipynb#ch0000000?line=22'>23</a>\u001b[0m INF \u001b[39m=\u001b[39m \u001b[39m999\u001b[39m                   \n\u001b[1;32m---> <a href='vscode-notebook-cell:/c%3A/Users/User/%EC%A0%95%EB%A6%AC/%EC%95%8C%EA%B3%A0%EB%A6%AC%EC%A6%98%20%EC%8B%A4%EC%8A%B5/d.ipynb#ch0000000?line=23'>24</a>\u001b[0m N, M \u001b[39m=\u001b[39m \u001b[39mmap\u001b[39m(\u001b[39mint\u001b[39m, \u001b[39minput\u001b[39m()\u001b[39m.\u001b[39msplit()) \u001b[39m#(정점, 간선)의 개수\u001b[39;00m\n\u001b[0;32m     <a href='vscode-notebook-cell:/c%3A/Users/User/%EC%A0%95%EB%A6%AC/%EC%95%8C%EA%B3%A0%EB%A6%AC%EC%A6%98%20%EC%8B%A4%EC%8A%B5/d.ipynb#ch0000000?line=24'>25</a>\u001b[0m W \u001b[39m=\u001b[39m [[INF]\u001b[39m*\u001b[39m(N\u001b[39m+\u001b[39m\u001b[39m1\u001b[39m) \u001b[39mfor\u001b[39;00m _ \u001b[39min\u001b[39;00m \u001b[39mrange\u001b[39m(N\u001b[39m+\u001b[39m\u001b[39m1\u001b[39m)]\n\u001b[0;32m     <a href='vscode-notebook-cell:/c%3A/Users/User/%EC%A0%95%EB%A6%AC/%EC%95%8C%EA%B3%A0%EB%A6%AC%EC%A6%98%20%EC%8B%A4%EC%8A%B5/d.ipynb#ch0000000?line=25'>26</a>\u001b[0m \u001b[39mfor\u001b[39;00m i \u001b[39min\u001b[39;00m \u001b[39mrange\u001b[39m(\u001b[39m1\u001b[39m,N\u001b[39m+\u001b[39m\u001b[39m1\u001b[39m):\n",
      "\u001b[1;31mValueError\u001b[0m: not enough values to unpack (expected 2, got 0)"
     ]
    }
   ],
   "source": [
    "import sys\n",
    "# 플로이드 알고리즘\n",
    "def floyd2(W):\n",
    "    D = W #복사\n",
    "    n = len(W)\n",
    "    P = [[0] * n for _ in range(n)]\n",
    "    for k in range(1, n):\n",
    "        for i in range(1, n):\n",
    "            for j in range(1, n):\n",
    "                if (D[i][j] > D[i][k] + D[k][j]): # k를 경유하는 게 더 짧으면\n",
    "                    D[i][j] = D[i][k ]+ D[k][j]\n",
    "                    P[i][j] = k\n",
    "    return D,P\n",
    "\n",
    "# 최단경로, P[u][v] == k\n",
    "def path(P,u,v):\n",
    "  if(P[u][v]!=0):\n",
    "    path(P,u,P[u][v])\n",
    "    print('%d'%P[u][v],end=\" \")\n",
    "    path(P,P[u][v],v)\n",
    "\n",
    "sys.stdin = open(\"input5-2.txt\",\"r\")    \n",
    "INF = 999                   \n",
    "N, M = map(int, input().split()) #(정점, 간선)의 개수\n",
    "W = [[INF]*(N+1) for _ in range(N+1)]\n",
    "for i in range(1,N+1):\n",
    "    W[i][i] = 0\n",
    "\n",
    "for i in range(M):\n",
    "    u,v,w = map(int, input().split()) # 출발 정점, 도착 정점, 가중치\n",
    "    W[u][v] = w\n",
    "\n",
    "T = int(input())\n",
    "for i in range(T):\n",
    "   a ,b = map(int,input().split())\n",
    "\n",
    "\n",
    "D,P = floyd2(W)\n",
    "for i in range(1,N+1):\n",
    "    for j in range(1,N+1):\n",
    "        if (j == N):\n",
    "          print(D[i][j])\n",
    "        else:\n",
    "          print(D[i][j],end=\" \")\n",
    "for i in range(1,N+1):\n",
    "    for j in range(1,N+1):\n",
    "        if (j == N):\n",
    "          print(P[i][j])\n",
    "        else:\n",
    "          print(P[i][j],end=\" \")\n",
    "\n",
    "for i in range(1, N+1):\n",
    "  for j in range(1,N+1):\n",
    "    if (D[i][j] == INF):\n",
    "      print(\"NONE\")\n",
    "    elif i == j and i < N:\n",
    "      print(i,j)\n",
    "    elif i == j and (i == N):\n",
    "        print(i,j, end =\"\")\n",
    "    else:\n",
    "      print(i,end=\" \")\n",
    "      path(P,i,j)\n",
    "      print(j)"
   ]
  },
  {
   "cell_type": "code",
   "execution_count": null,
   "metadata": {},
   "outputs": [],
   "source": []
  }
 ],
 "metadata": {
  "interpreter": {
   "hash": "aecd030d4c8316a52bf122072e28f84bcc79844c2684e041fef2e3f1d9f59078"
  },
  "kernelspec": {
   "display_name": "Python 3.10.2 64-bit",
   "language": "python",
   "name": "python3"
  },
  "language_info": {
   "codemirror_mode": {
    "name": "ipython",
    "version": 3
   },
   "file_extension": ".py",
   "mimetype": "text/x-python",
   "name": "python",
   "nbconvert_exporter": "python",
   "pygments_lexer": "ipython3",
   "version": "3.10.2"
  },
  "orig_nbformat": 4
 },
 "nbformat": 4,
 "nbformat_minor": 2
}
