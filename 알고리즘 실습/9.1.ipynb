{
 "cells": [
  {
   "cell_type": "code",
   "execution_count": 1,
   "metadata": {},
   "outputs": [
    {
     "name": "stdout",
     "output_type": "stream",
     "text": [
      "140\n",
      "80 60\n"
     ]
    }
   ],
   "source": [
    "n = int(input())\n",
    "deadline = [int(i) for  i in input().split()]\n",
    "profit = [int(i) for  i in input().split()]\n",
    "deadline.insert(0,0)\n",
    "profit.insert(0,0)\n",
    "def schedule(deadline):\n",
    "    J =[1]\n",
    "    for i in range(2,n+1):\n",
    "        K = J[:]\n",
    "        j = 1\n",
    "        while((j-1 < len(J)) and (deadline[K[j-1]] <= deadline[i])):  \n",
    "            j +=1\n",
    "        K.insert(j-1, i)\n",
    "        if(is_feasible(K,deadline)):\n",
    "            J = K[:]\n",
    "    return J\n",
    "def is_feasible(K,deadline):\n",
    "    for i in range(1,len(K)+1):\n",
    "        if (i > deadline[K[i-1]]):\n",
    "            return False\n",
    "    return True\n",
    "J = schedule(deadline)\n",
    "T = []\n",
    "for i in J:\n",
    "    T.append(profit[i])\n",
    "print(sum(T))\n",
    "for i in range(len(T)):\n",
    "    if i != len(T)-1:\n",
    "        print(T[i],end=' ')\n",
    "    else:\n",
    "        print(T[i])"
   ]
  },
  {
   "cell_type": "code",
   "execution_count": 266,
   "metadata": {},
   "outputs": [],
   "source": [
    "deadline.insert(0,0)\n",
    "profit.insert(0,0)"
   ]
  },
  {
   "cell_type": "code",
   "execution_count": 267,
   "metadata": {},
   "outputs": [],
   "source": [
    "def is_feasible(K,deadline):\n",
    "    for i in range(1,len(K)+1):\n",
    "        if (i > deadline[K[i-1]]):\n",
    "            return False\n",
    "    return True"
   ]
  },
  {
   "cell_type": "code",
   "execution_count": 280,
   "metadata": {},
   "outputs": [],
   "source": [
    "def schedule(deadline):\n",
    "    J =[1]\n",
    "    for i in range(2,n+1):\n",
    "        K = J[:]\n",
    "        j = 1\n",
    "        while((j-1 < len(J)) and (deadline[K[j-1]] <= deadline[i])):  \n",
    "            j +=1\n",
    "        K.insert(j-1, i)\n",
    "        if(is_feasible(K,deadline)):\n",
    "            J = K[:]\n",
    "    return J"
   ]
  },
  {
   "cell_type": "code",
   "execution_count": 281,
   "metadata": {},
   "outputs": [],
   "source": [
    "J = schedule(deadline)"
   ]
  },
  {
   "cell_type": "code",
   "execution_count": 282,
   "metadata": {},
   "outputs": [],
   "source": [
    "T = []\n",
    "for i in J:\n",
    "    T.append(profit[i])   "
   ]
  },
  {
   "cell_type": "code",
   "execution_count": 283,
   "metadata": {},
   "outputs": [
    {
     "name": "stdout",
     "output_type": "stream",
     "text": [
      "137\n",
      "27 97 13\n"
     ]
    }
   ],
   "source": [
    "print(sum(T))\n",
    "for i in range(len(T)):\n",
    "    if i != len(T)-1:\n",
    "        print(T[i],end=' ')\n",
    "    else:\n",
    "        print(T[i])\n"
   ]
  },
  {
   "cell_type": "code",
   "execution_count": 114,
   "metadata": {},
   "outputs": [],
   "source": []
  },
  {
   "cell_type": "code",
   "execution_count": 48,
   "metadata": {},
   "outputs": [
    {
     "data": {
      "text/plain": [
       "175"
      ]
     },
     "execution_count": 48,
     "metadata": {},
     "output_type": "execute_result"
    }
   ],
   "source": [
    "maxprofit"
   ]
  },
  {
   "cell_type": "code",
   "execution_count": 46,
   "metadata": {},
   "outputs": [],
   "source": [
    "profit.insert(0,0)"
   ]
  },
  {
   "cell_type": "code",
   "execution_count": 49,
   "metadata": {},
   "outputs": [
    {
     "data": {
      "text/plain": [
       "[0, 40, 35, 30, 25, 20, 15, 10]"
      ]
     },
     "execution_count": 49,
     "metadata": {},
     "output_type": "execute_result"
    }
   ],
   "source": [
    "profit"
   ]
  },
  {
   "cell_type": "code",
   "execution_count": null,
   "metadata": {},
   "outputs": [],
   "source": []
  }
 ],
 "metadata": {
  "kernelspec": {
   "display_name": "Python 3.9.7 ('base')",
   "language": "python",
   "name": "python3"
  },
  "language_info": {
   "codemirror_mode": {
    "name": "ipython",
    "version": 3
   },
   "file_extension": ".py",
   "mimetype": "text/x-python",
   "name": "python",
   "nbconvert_exporter": "python",
   "pygments_lexer": "ipython3",
   "version": "3.9.7"
  },
  "orig_nbformat": 4,
  "vscode": {
   "interpreter": {
    "hash": "f08154012ddadd8e950e6e9e035c7a7b32c136e7647e9b7c77e02eb723a8bedb"
   }
  }
 },
 "nbformat": 4,
 "nbformat_minor": 2
}
