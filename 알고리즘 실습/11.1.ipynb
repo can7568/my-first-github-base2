{
 "cells": [
  {
   "cell_type": "code",
   "execution_count": 157,
   "metadata": {},
   "outputs": [
    {
     "name": "stdout",
     "output_type": "stream",
     "text": [
      "70\n",
      "1 3 40\n",
      "1 8 40\n",
      "2 3 40\n",
      "2 8 70\n",
      "3 3 40\n",
      "3 8 70\n",
      "4 8 70\n",
      "90\n",
      "1 6 40\n",
      "1 11 40\n",
      "1 16 40\n",
      "2 6 40\n",
      "2 11 70\n",
      "2 16 70\n",
      "3 11 70\n",
      "3 16 90\n",
      "4 16 90\n",
      "120\n",
      "1 5 40\n",
      "1 10 40\n",
      "1 15 40\n",
      "1 20 40\n",
      "2 5 40\n",
      "2 10 70\n",
      "2 15 70\n",
      "2 20 70\n",
      "3 15 90\n",
      "3 20 120\n",
      "4 20 120\n",
      "130\n",
      "1 5 40\n",
      "1 10 40\n",
      "1 15 40\n",
      "1 20 40\n",
      "1 25 40\n",
      "2 10 70\n",
      "2 15 70\n",
      "2 20 70\n",
      "2 25 70\n",
      "3 20 120\n",
      "3 25 120\n",
      "4 25 130\n"
     ]
    }
   ],
   "source": [
    "n=int(input())\n",
    "w = [int(i) for  i in input().split()]\n",
    "p = [int(i) for  i in input().split()]\n",
    "T =int(input())\n",
    "W = [0 ] * T\n",
    "for i in range(T):  \n",
    "    W[i] = int(input())\n",
    "N = list(range(len(p)))\n",
    "#단위 무게당 이익으로 정렬\n",
    "S = [(profit/weight) for profit, weight in zip(p, w)]\n",
    "K = sorted(N,key=lambda x: S[x], reverse=True) \n",
    "a = [0] * n\n",
    "b = [0] * n\n",
    "for i , j in zip(N,K):\n",
    "    a[i] = w[j]\n",
    "    b[i] = p[j]\n",
    "def knapsack3(n,W,w,p):\n",
    "    \n",
    "    if (n == 0) | (W <= 0):\n",
    "        return 0\n",
    "    lvalue = knapsack3(n-1, W, w,p)\n",
    "    rvalue = knapsack3(n-1, W-w[n], w, p)\n",
    "    if (w[n] > W):\n",
    "        P[n][W] = lvalue\n",
    "    else:\n",
    "    \n",
    "        P[n][W]  = max(lvalue, p[n] + rvalue)\n",
    "        \n",
    "    return P[n][W]\n",
    "def print_matrix(P):\n",
    "    for i in range(len(P)):\n",
    "        for j in range(len(P[0])):\n",
    "            if P[i][j] != 0:\n",
    "                print (i, j , P[i][j]) \n",
    "b.insert(0,0)\n",
    "a.insert(0,0)\n",
    "w.insert(0,0)\n",
    "p.insert(0,0)\n",
    "for i in W:\n",
    "    P = [[0]*(i+1) for _ in range(len(p)+1)]\n",
    "    maxprofit= knapsack3(len(w)-1,i,a,b)\n",
    "    print(maxprofit)\n",
    "    print_matrix(P)"
   ]
  },
  {
   "cell_type": "code",
   "execution_count": 144,
   "metadata": {},
   "outputs": [],
   "source": [
    "n = 3\n",
    "w = [5, 10, 20]\n",
    "p = [50, 60, 140]\n",
    "T = 1\n",
    "W = [30]"
   ]
  },
  {
   "cell_type": "code",
   "execution_count": 145,
   "metadata": {},
   "outputs": [
    {
     "name": "stdout",
     "output_type": "stream",
     "text": [
      "[0, 1, 2]\n"
     ]
    }
   ],
   "source": [
    "N = list(range(len(p)))\n",
    "print(N)\n",
    "#단위 무게당 이익으로 정렬\n",
    "S = [(profit/weight) for profit, weight in zip(p, w)]\n",
    "K = sorted(N,key=lambda x: S[x], reverse=True)"
   ]
  },
  {
   "cell_type": "code",
   "execution_count": 146,
   "metadata": {},
   "outputs": [],
   "source": [
    "a = [0] * n\n",
    "b = [0] * n"
   ]
  },
  {
   "cell_type": "code",
   "execution_count": 147,
   "metadata": {},
   "outputs": [],
   "source": [
    "for i , j in zip(N,K):\n",
    "    a[i] = w[j]\n",
    "    b[i] = p[j]"
   ]
  },
  {
   "cell_type": "code",
   "execution_count": 148,
   "metadata": {},
   "outputs": [],
   "source": [
    "def knapsack3(n,W,w,p):\n",
    "\n",
    "    if (n == 0) | (W <= 0):\n",
    "        return 0\n",
    "    lvalue = knapsack3(n-1, W, w,p)\n",
    "    rvalue = knapsack3(n-1, W-w[n], w, p)\n",
    "    if (w[n] > W):\n",
    "        P[n][W] = lvalue\n",
    "    else:\n",
    "    \n",
    "        P[n][W]  = max(lvalue, p[n] + rvalue)\n",
    "        \n",
    "    return P[n][W]\n",
    "        "
   ]
  },
  {
   "cell_type": "code",
   "execution_count": 161,
   "metadata": {},
   "outputs": [],
   "source": [
    "def print_matrix(P):\n",
    "    for i in range(len(P)):\n",
    "        for j in range(len(P[0])):\n",
    "            if P[i][j] != -1:\n",
    "                print (i, j , P[i][j])"
   ]
  },
  {
   "cell_type": "code",
   "execution_count": 159,
   "metadata": {},
   "outputs": [
    {
     "data": {
      "text/plain": [
       "[[0,\n",
       "  0,\n",
       "  0,\n",
       "  0,\n",
       "  0,\n",
       "  0,\n",
       "  0,\n",
       "  0,\n",
       "  0,\n",
       "  0,\n",
       "  0,\n",
       "  0,\n",
       "  0,\n",
       "  0,\n",
       "  0,\n",
       "  0,\n",
       "  0,\n",
       "  0,\n",
       "  0,\n",
       "  0,\n",
       "  0,\n",
       "  0,\n",
       "  0,\n",
       "  0,\n",
       "  0,\n",
       "  0],\n",
       " [0,\n",
       "  0,\n",
       "  0,\n",
       "  0,\n",
       "  0,\n",
       "  40,\n",
       "  0,\n",
       "  0,\n",
       "  0,\n",
       "  0,\n",
       "  40,\n",
       "  0,\n",
       "  0,\n",
       "  0,\n",
       "  0,\n",
       "  40,\n",
       "  0,\n",
       "  0,\n",
       "  0,\n",
       "  0,\n",
       "  40,\n",
       "  0,\n",
       "  0,\n",
       "  0,\n",
       "  0,\n",
       "  40],\n",
       " [0,\n",
       "  0,\n",
       "  0,\n",
       "  0,\n",
       "  0,\n",
       "  0,\n",
       "  0,\n",
       "  0,\n",
       "  0,\n",
       "  0,\n",
       "  70,\n",
       "  0,\n",
       "  0,\n",
       "  0,\n",
       "  0,\n",
       "  70,\n",
       "  0,\n",
       "  0,\n",
       "  0,\n",
       "  0,\n",
       "  70,\n",
       "  0,\n",
       "  0,\n",
       "  0,\n",
       "  0,\n",
       "  70],\n",
       " [0,\n",
       "  0,\n",
       "  0,\n",
       "  0,\n",
       "  0,\n",
       "  0,\n",
       "  0,\n",
       "  0,\n",
       "  0,\n",
       "  0,\n",
       "  0,\n",
       "  0,\n",
       "  0,\n",
       "  0,\n",
       "  0,\n",
       "  0,\n",
       "  0,\n",
       "  0,\n",
       "  0,\n",
       "  0,\n",
       "  120,\n",
       "  0,\n",
       "  0,\n",
       "  0,\n",
       "  0,\n",
       "  120],\n",
       " [0,\n",
       "  0,\n",
       "  0,\n",
       "  0,\n",
       "  0,\n",
       "  0,\n",
       "  0,\n",
       "  0,\n",
       "  0,\n",
       "  0,\n",
       "  0,\n",
       "  0,\n",
       "  0,\n",
       "  0,\n",
       "  0,\n",
       "  0,\n",
       "  0,\n",
       "  0,\n",
       "  0,\n",
       "  0,\n",
       "  0,\n",
       "  0,\n",
       "  0,\n",
       "  0,\n",
       "  0,\n",
       "  130],\n",
       " [0,\n",
       "  0,\n",
       "  0,\n",
       "  0,\n",
       "  0,\n",
       "  0,\n",
       "  0,\n",
       "  0,\n",
       "  0,\n",
       "  0,\n",
       "  0,\n",
       "  0,\n",
       "  0,\n",
       "  0,\n",
       "  0,\n",
       "  0,\n",
       "  0,\n",
       "  0,\n",
       "  0,\n",
       "  0,\n",
       "  0,\n",
       "  0,\n",
       "  0,\n",
       "  0,\n",
       "  0,\n",
       "  0]]"
      ]
     },
     "execution_count": 159,
     "metadata": {},
     "output_type": "execute_result"
    }
   ],
   "source": [
    "P"
   ]
  },
  {
   "cell_type": "code",
   "execution_count": 150,
   "metadata": {},
   "outputs": [],
   "source": [
    "b.insert(0,0)\n",
    "a.insert(0,0)"
   ]
  },
  {
   "cell_type": "code",
   "execution_count": 152,
   "metadata": {},
   "outputs": [],
   "source": [
    "w.insert(0,0)\n",
    "p.insert(0,0)"
   ]
  },
  {
   "cell_type": "code",
   "execution_count": 162,
   "metadata": {},
   "outputs": [
    {
     "name": "stdout",
     "output_type": "stream",
     "text": [
      "70\n",
      "1 3 40\n",
      "1 8 40\n",
      "2 3 40\n",
      "2 8 70\n",
      "3 3 40\n",
      "3 8 70\n",
      "4 8 70\n",
      "90\n",
      "1 1 0\n",
      "1 6 40\n",
      "1 11 40\n",
      "1 16 40\n",
      "2 1 0\n",
      "2 6 40\n",
      "2 11 70\n",
      "2 16 70\n",
      "3 11 70\n",
      "3 16 90\n",
      "4 16 90\n",
      "120\n",
      "1 5 40\n",
      "1 10 40\n",
      "1 15 40\n",
      "1 20 40\n",
      "2 5 40\n",
      "2 10 70\n",
      "2 15 70\n",
      "2 20 70\n",
      "3 15 90\n",
      "3 20 120\n",
      "4 20 120\n",
      "130\n",
      "1 5 40\n",
      "1 10 40\n",
      "1 15 40\n",
      "1 20 40\n",
      "1 25 40\n",
      "2 10 70\n",
      "2 15 70\n",
      "2 20 70\n",
      "2 25 70\n",
      "3 20 120\n",
      "3 25 120\n",
      "4 25 130\n"
     ]
    }
   ],
   "source": [
    "for i in W:\n",
    "    P = [[-1]*(i+1) for _ in range(len(p)+1)]\n",
    "    maxprofit= knapsack3(len(w)-1,i,a,b)\n",
    "    print(maxprofit)\n",
    "    print_matrix(P)"
   ]
  },
  {
   "cell_type": "code",
   "execution_count": 8,
   "metadata": {},
   "outputs": [
    {
     "name": "stdout",
     "output_type": "stream",
     "text": [
      "0\n"
     ]
    }
   ],
   "source": [
    "n=int(input())\n",
    "w = [int(i) for  i in input().split()]\n",
    "p = [int(i) for  i in input().split()]\n",
    "T =int(input())\n",
    "W = [0 ] * T\n",
    "for i in range(T):  \n",
    "    W[i] = int(input())\n",
    "p.insert(0,0)\n",
    "w.insert(0,0)   \n",
    "def knapsack3(n,W,w,p):\n",
    "    if (n == 0) | (W <= 0):\n",
    "        return 0\n",
    "    lvalue = knapsack3(n-1, W, w,p)\n",
    "    rvalue = knapsack3(n-1, W-w[n], w, p)\n",
    "    if (w[n] > W):\n",
    "        P[n][W] = lvalue\n",
    "    else:\n",
    "        P[n][W]  = max(lvalue, p[n] + rvalue)\n",
    "        \n",
    "    return P[n][W]\n",
    "\n",
    "def print_matrix(P):\n",
    "    for i in range(len(P)):\n",
    "        for j in range(len(P[0])):\n",
    "            if P[i][j] != 0:\n",
    "                print (i, j , P[i][j])\n",
    "for i in W:\n",
    "    P = [[0]*(i+1) for _ in range(len(p)+1)]\n",
    "    maxprofit= knapsack3(len(w)-1,i,w,p)\n",
    "    print(maxprofit)\n",
    "\n",
    "    print_matrix(P)"
   ]
  },
  {
   "cell_type": "code",
   "execution_count": 173,
   "metadata": {},
   "outputs": [
    {
     "data": {
      "text/plain": [
       "200"
      ]
     },
     "execution_count": 173,
     "metadata": {},
     "output_type": "execute_result"
    }
   ],
   "source": [
    "maxprofit"
   ]
  },
  {
   "cell_type": "code",
   "execution_count": 176,
   "metadata": {},
   "outputs": [
    {
     "data": {
      "text/plain": [
       "31"
      ]
     },
     "execution_count": 176,
     "metadata": {},
     "output_type": "execute_result"
    }
   ],
   "source": [
    "len(P[0])"
   ]
  },
  {
   "cell_type": "code",
   "execution_count": 30,
   "metadata": {},
   "outputs": [],
   "source": [
    "p.insert(0,0)\n",
    "w.insert(0,0)"
   ]
  },
  {
   "cell_type": "code",
   "execution_count": 121,
   "metadata": {},
   "outputs": [],
   "source": [
    "def knapsack(W,p,w):\n",
    "    P = [[0]*(W+1) for _ in range(len(p)+1)]\n",
    "    N = list(range(len(p)))\n",
    "    #단위 무게당 이익으로 정렬\n",
    "    S = [(profit/weight) for profit, weight in zip(p, w)]\n",
    "    N.sort(key=lambda x: S[x], reverse=True)\n",
    "    for i in range(len(p)+1):\n",
    "        P[i][0] = 0\n",
    "    for j in range(1,W+1):\n",
    "        P[0][j] = 0\n",
    "        \n",
    "    for i in range(1,len(p)):\n",
    "        for j in range(1,W+1):\n",
    "            if (w[i] > j):\n",
    "                P[i][j] = P[i-1][j]\n",
    "            else:\n",
    "                P[i][j] = max(P[i-1][j],p[i] + P[i-1][j-w[i]])\n",
    "            print(P[i][j])\n",
    "    maxprofit = 0\n",
    "    for i in range(len(P)):\n",
    "        if P[i][W] > maxprofit:\n",
    "            maxprofit = P[i][W]\n",
    "    return maxprofit,P        "
   ]
  },
  {
   "cell_type": "code",
   "execution_count": 122,
   "metadata": {},
   "outputs": [],
   "source": [
    "def print_price(K,N):\n",
    "    price = 0\n",
    "    for i in range(len(K)):\n",
    "        price += profit[i] * K[i]\n",
    "    print(int(price))\n",
    "    for i in N:\n",
    "        if int(weight[i] * K[i]) != 0:\n",
    "            print(int(weight[i] * K[i]),end=\" \")\n",
    "            print(int(profit[i]*K[i]))"
   ]
  },
  {
   "cell_type": "code",
   "execution_count": 9,
   "metadata": {},
   "outputs": [
    {
     "ename": "NameError",
     "evalue": "name 'knapsack' is not defined",
     "output_type": "error",
     "traceback": [
      "\u001b[1;31m---------------------------------------------------------------------------\u001b[0m",
      "\u001b[1;31mNameError\u001b[0m                                 Traceback (most recent call last)",
      "\u001b[1;32m~\\AppData\\Local\\Temp/ipykernel_7544/2428654515.py\u001b[0m in \u001b[0;36m<module>\u001b[1;34m\u001b[0m\n\u001b[0;32m      1\u001b[0m \u001b[1;32mfor\u001b[0m \u001b[0mi\u001b[0m \u001b[1;32min\u001b[0m \u001b[0mW\u001b[0m\u001b[1;33m:\u001b[0m\u001b[1;33m\u001b[0m\u001b[1;33m\u001b[0m\u001b[0m\n\u001b[1;32m----> 2\u001b[1;33m     \u001b[0mmaxprofit\u001b[0m\u001b[1;33m,\u001b[0m\u001b[0mP\u001b[0m \u001b[1;33m=\u001b[0m \u001b[0mknapsack\u001b[0m\u001b[1;33m(\u001b[0m\u001b[0mi\u001b[0m\u001b[1;33m,\u001b[0m\u001b[0mp\u001b[0m\u001b[1;33m,\u001b[0m\u001b[0mw\u001b[0m\u001b[1;33m)\u001b[0m\u001b[1;33m\u001b[0m\u001b[1;33m\u001b[0m\u001b[0m\n\u001b[0m\u001b[0;32m      3\u001b[0m     \u001b[0mprint\u001b[0m\u001b[1;33m(\u001b[0m\u001b[0mP\u001b[0m\u001b[1;33m)\u001b[0m\u001b[1;33m\u001b[0m\u001b[1;33m\u001b[0m\u001b[0m\n",
      "\u001b[1;31mNameError\u001b[0m: name 'knapsack' is not defined"
     ]
    }
   ],
   "source": [
    "for i in W:\n",
    "    maxprofit,P = knapsack(i,p,w)\n",
    "    print(P)"
   ]
  },
  {
   "cell_type": "code",
   "execution_count": 111,
   "metadata": {},
   "outputs": [
    {
     "name": "stdout",
     "output_type": "stream",
     "text": [
      "200\n",
      "[[0, 0, 0, 0, 0, 0, 0, 0, 0, 0, 0, 0, 0, 0, 0, 0, 0, 0, 0, 0, 0, 0, 0, 0, 0, 0, 0, 0, 0, 0, 0], [0, 0, 0, 0, 0, 50, 50, 50, 50, 50, 50, 50, 50, 50, 50, 50, 50, 50, 50, 50, 50, 50, 50, 50, 50, 50, 50, 50, 50, 50, 50], [0, 0, 0, 0, 0, 50, 50, 50, 50, 50, 60, 60, 60, 60, 60, 110, 110, 110, 110, 110, 110, 110, 110, 110, 110, 110, 110, 110, 110, 110, 110], [0, 0, 0, 0, 0, 50, 50, 50, 50, 50, 60, 60, 60, 60, 60, 110, 110, 110, 110, 110, 140, 140, 140, 140, 140, 190, 190, 190, 190, 190, 200]]\n"
     ]
    }
   ],
   "source": [
    "def solutions(W , p, w ):\n",
    "    maxValue = 0\n",
    "    P = []\n",
    "    P = [[0]*(W+1) for _ in range(len(p)+1)]\n",
    "\n",
    "    p.insert(0,0)\n",
    "    w.insert(0,0)\n",
    "\n",
    "    for i in range(1,len(p)):\n",
    "        for j in range(1,W+1):\n",
    "            if j >= w[i] :\n",
    "                P[i][j] = max(P[i - 1][j],P[i-1][ j- w[i]] + p[i] )\n",
    "            else:\n",
    "                P[i][j] = P[i - 1][j]\n",
    "    maxprofit = 0\n",
    "    for i in range(len(P)):\n",
    "        if P[i][W] > maxprofit:\n",
    "            maxprofit = P[i][W]\n",
    "    return maxprofit,P     \n",
    "\n",
    "\n",
    "def main():\n",
    "    W = 30\n",
    "    p = [50,60,140]\n",
    "    w = [5,10,20]\n",
    "    maxprofit, P = solutions(W,p,w)\n",
    "    print(maxprofit)\n",
    "    print(P)\n",
    "\n",
    "if __name__ == \"__main__\":\n",
    "    main()"
   ]
  },
  {
   "cell_type": "code",
   "execution_count": 117,
   "metadata": {},
   "outputs": [
    {
     "data": {
      "text/plain": [
       "3"
      ]
     },
     "execution_count": 117,
     "metadata": {},
     "output_type": "execute_result"
    }
   ],
   "source": [
    "len(p)"
   ]
  },
  {
   "cell_type": "code",
   "execution_count": 120,
   "metadata": {},
   "outputs": [
    {
     "data": {
      "text/plain": [
       "60"
      ]
     },
     "execution_count": 120,
     "metadata": {},
     "output_type": "execute_result"
    }
   ],
   "source": [
    "P[1][30]"
   ]
  },
  {
   "cell_type": "code",
   "execution_count": 116,
   "metadata": {},
   "outputs": [
    {
     "name": "stdout",
     "output_type": "stream",
     "text": [
      "\n"
     ]
    }
   ],
   "source": [
    "for i in range(len(W)):\n",
    "    for j in range(1,(len(p)+1)):\n",
    "        if P[i][j] != 0:\n",
    "            print(P[i][j], end= ' ')\n",
    "    print()"
   ]
  },
  {
   "cell_type": "code",
   "execution_count": null,
   "metadata": {},
   "outputs": [],
   "source": []
  }
 ],
 "metadata": {
  "interpreter": {
   "hash": "f08154012ddadd8e950e6e9e035c7a7b32c136e7647e9b7c77e02eb723a8bedb"
  },
  "kernelspec": {
   "display_name": "Python 3.9.7 ('base')",
   "language": "python",
   "name": "python3"
  },
  "language_info": {
   "codemirror_mode": {
    "name": "ipython",
    "version": 3
   },
   "file_extension": ".py",
   "mimetype": "text/x-python",
   "name": "python",
   "nbconvert_exporter": "python",
   "pygments_lexer": "ipython3",
   "version": "3.9.7"
  },
  "orig_nbformat": 4
 },
 "nbformat": 4,
 "nbformat_minor": 2
}
