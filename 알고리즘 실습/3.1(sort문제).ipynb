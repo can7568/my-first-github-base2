{
 "cells": [
  {
   "cell_type": "code",
   "execution_count": 186,
   "metadata": {},
   "outputs": [],
   "source": [
    "n = int(input())\n",
    "S = [int(i) for  i in input().split()]"
   ]
  },
  {
   "cell_type": "code",
   "execution_count": 187,
   "metadata": {},
   "outputs": [],
   "source": [
    "U=[]\n",
    "cnt = 0"
   ]
  },
  {
   "cell_type": "code",
   "execution_count": 188,
   "metadata": {},
   "outputs": [],
   "source": [
    "def merge(low,mid,high):\n",
    "    global cnt\n",
    "    cnt += 1\n",
    "    i = low\n",
    "    j = (mid + 1)\n",
    "    k = 0\n",
    "    U = [0]*(high - low +1)\n",
    "    while ((i <= mid) & (j <= high)):\n",
    "        if S[i] < S[j]:\n",
    "            U[k] = S[i]\n",
    "            k +=1\n",
    "            i +=1\n",
    "            \n",
    "        else:\n",
    "            U[k] = S[j]\n",
    "            k +=1\n",
    "            j +=1\n",
    "        \n",
    "    if (i > mid):\n",
    "        while (j <= high):\n",
    "            U[k] = S[j]\n",
    "            k += 1\n",
    "            j += 1\n",
    "    else:\n",
    "        while (i <= mid):\n",
    "            U[k] = S[i]\n",
    "            k +=1\n",
    "            i +=1\n",
    "    for t in range(low,high+1,1):\n",
    "        S[t] = U[t-low]\n",
    "    \n",
    "    return U    \n",
    "    "
   ]
  },
  {
   "cell_type": "code",
   "execution_count": 189,
   "metadata": {},
   "outputs": [],
   "source": [
    "def mergesort(low,high):\n",
    "    if(low < high):\n",
    "        mid = (low + high)// 2\n",
    "        mergesort(low,mid)\n",
    "        mergesort(mid+1 , high);\n",
    "        U = merge(low,mid,high)\n",
    "        return U"
   ]
  },
  {
   "cell_type": "code",
   "execution_count": 190,
   "metadata": {},
   "outputs": [],
   "source": [
    "U = mergesort(0,n-1)"
   ]
  },
  {
   "cell_type": "code",
   "execution_count": 191,
   "metadata": {},
   "outputs": [
    {
     "name": "stdout",
     "output_type": "stream",
     "text": [
      "[10, 12, 13, 15, 20, 22, 25, 27]\n"
     ]
    }
   ],
   "source": [
    "print(S)"
   ]
  },
  {
   "cell_type": "code",
   "execution_count": 192,
   "metadata": {},
   "outputs": [
    {
     "name": "stdout",
     "output_type": "stream",
     "text": [
      "[10, 12, 13, 15, 20, 22, 25, 27]\n"
     ]
    }
   ],
   "source": [
    "print(U)"
   ]
  },
  {
   "cell_type": "code",
   "execution_count": 193,
   "metadata": {},
   "outputs": [
    {
     "name": "stdout",
     "output_type": "stream",
     "text": [
      "7\n"
     ]
    }
   ],
   "source": [
    "print(cnt)"
   ]
  },
  {
   "cell_type": "code",
   "execution_count": 195,
   "metadata": {},
   "outputs": [
    {
     "name": "stdout",
     "output_type": "stream",
     "text": [
      "7\n",
      "10 12 13 15 20 22 25 27 "
     ]
    }
   ],
   "source": [
    "n = int(input())\n",
    "S = [int(i) for  i in input().split()]\n",
    "U=[]\n",
    "cnt = 0\n",
    "def merge(low,mid,high):\n",
    "    global cnt\n",
    "    cnt += 1\n",
    "    i = low\n",
    "    j = (mid + 1)\n",
    "    k = 0\n",
    "    U = [0]*(high - low +1)\n",
    "    while ((i <= mid) & (j <= high)):\n",
    "        if S[i] < S[j]:\n",
    "            U[k] = S[i]\n",
    "            k +=1\n",
    "            i +=1\n",
    "            \n",
    "        else:\n",
    "            U[k] = S[j]\n",
    "            k +=1\n",
    "            j +=1\n",
    "        \n",
    "    if (i > mid):\n",
    "        while (j <= high):\n",
    "            U[k] = S[j]\n",
    "            k += 1\n",
    "            j += 1\n",
    "    else:\n",
    "        while (i <= mid):\n",
    "            U[k] = S[i]\n",
    "            k +=1\n",
    "            i +=1\n",
    "    for t in range(low,high+1,1):\n",
    "        S[t] = U[t-low]\n",
    "    \n",
    "    return U   \n",
    "def mergesort(low,high):\n",
    "    if(low < high):\n",
    "        mid = (low + high)// 2\n",
    "        mergesort(low,mid)\n",
    "        mergesort(mid+1 , high);\n",
    "        U = merge(low,mid,high)\n",
    "        return U\n",
    "U = mergesort(0,n-1)\n",
    "print(cnt)\n",
    "for i in U:\n",
    "    print(i,end=\" \")"
   ]
  },
  {
   "cell_type": "code",
   "execution_count": 23,
   "metadata": {},
   "outputs": [],
   "source": [
    "#3번\n",
    "n = int(input())\n",
    "S = [int(i) for  i in input().split()]"
   ]
  },
  {
   "cell_type": "code",
   "execution_count": 18,
   "metadata": {},
   "outputs": [
    {
     "data": {
      "text/plain": [
       "[15, 22, 13, 27, 12, 10, 25, 20]"
      ]
     },
     "execution_count": 18,
     "metadata": {},
     "output_type": "execute_result"
    }
   ],
   "source": [
    "S"
   ]
  },
  {
   "cell_type": "code",
   "execution_count": 19,
   "metadata": {},
   "outputs": [],
   "source": [
    "cnt = 0"
   ]
  },
  {
   "cell_type": "code",
   "execution_count": 24,
   "metadata": {},
   "outputs": [],
   "source": [
    "def quicksort(low,high):\n",
    "    pivotpoint = int\n",
    "    if(low < high):\n",
    "        pivotpoint,A =partition(low,high,pivotpoint)\n",
    "        quicksort(low, pivotpoint-1)\n",
    "        quicksort(pivotpoint+1, high)\n",
    "    return S\n",
    "    "
   ]
  },
  {
   "cell_type": "code",
   "execution_count": 25,
   "metadata": {},
   "outputs": [],
   "source": [
    "def partition(low,high,pivotpoint):\n",
    "    global cnt\n",
    "    cnt += 1\n",
    "    S[low],S[high] = S[high],S[low]\n",
    "    pivotitem = S[low]\n",
    "    j = low\n",
    "    \n",
    "    \n",
    "    for i in range(low+1,high+1,1):\n",
    "        if(S[i] < pivotitem):\n",
    "            j += 1\n",
    "            S[i], S[j] = S[j], S[i]\n",
    "            \n",
    "            \n",
    "            \n",
    "    pivotpoint = j\n",
    "    S[low],S[pivotpoint] = S[pivotpoint],S[low]\n",
    "   \n",
    "    return pivotpoint,S\n",
    "            \n",
    "    "
   ]
  },
  {
   "cell_type": "code",
   "execution_count": 26,
   "metadata": {},
   "outputs": [
    {
     "name": "stdout",
     "output_type": "stream",
     "text": [
      "15 13 12 10 20 27 25 22 \n",
      "13\n",
      "10 12 13 15 20 22 25 27 "
     ]
    }
   ],
   "source": [
    "n1 = n\n",
    "S1 = S\n",
    "p, S1 = partition(0,n1-1,None)\n",
    "for i in S1:\n",
    "    print(i,end=\" \")\n",
    "print(\"\")\n",
    "quicksort(0,n-1)\n",
    "print(cnt)\n",
    "for i in S:\n",
    "    print(i,end=\" \")\n"
   ]
  },
  {
   "cell_type": "code",
   "execution_count": 574,
   "metadata": {},
   "outputs": [
    {
     "name": "stdout",
     "output_type": "stream",
     "text": [
      "10 13 12 15 22 27 20 25\n",
      "5\n",
      "10 12 13 15 20 22 25 27 "
     ]
    }
   ],
   "source": [
    "#3번\n",
    "n = int(input())\n",
    "S = [int(i) for  i in input().split()]\n",
    "cnt = 0\n",
    "def quicksort(low,high):\n",
    "    pivotpoint = int\n",
    "    if(low < high):\n",
    "        pivotpoint,A =partition(low,high,pivotpoint)\n",
    "        quicksort(low, pivotpoint-1)\n",
    "        quicksort(pivotpoint+1, high)\n",
    "    return S\n",
    "def partition(low,high,pivotpoint):\n",
    "    global cnt\n",
    "    cnt += 1\n",
    "    pivotitem = S[low]\n",
    "    j = low\n",
    "    for i in range(low+1,high+1,1):\n",
    "        if(S[i] < pivotitem):\n",
    "            j += 1\n",
    "            S[i], S[j] = S[j], S[i]        \n",
    "    pivotpoint = j\n",
    "    S[low],S[pivotpoint] = S[pivotpoint],S[low]\n",
    "   \n",
    "    return pivotpoint,S\n",
    "n1 = n\n",
    "S1 = S\n",
    "p, S1 = partition(0,n1-1,None)\n",
    "cnt = 0\n",
    "for i in range(len(S1)):\n",
    "    if i < len(S1)-1:\n",
    "        print(S1[i],end=\" \")\n",
    "    else:\n",
    "        print(S1[i],end=\"\")\n",
    "\n",
    "quicksort(0,n-1)\n",
    "print(\"\")\n",
    "print(cnt)\n",
    "for i in S:\n",
    "    print(i,end=\" \")"
   ]
  },
  {
   "cell_type": "code",
   "execution_count": 573,
   "metadata": {},
   "outputs": [
    {
     "name": "stdout",
     "output_type": "stream",
     "text": [
      "10 12 13 15 20 22 25 27"
     ]
    }
   ],
   "source": [
    "for i in range(len(S1)):\n",
    "    if i < len(S1)-1:\n",
    "        print(S1[i],end=\" \")\n",
    "    else:\n",
    "        print(S1[i],end=\"\")"
   ]
  },
  {
   "cell_type": "code",
   "execution_count": 570,
   "metadata": {},
   "outputs": [
    {
     "data": {
      "text/plain": [
       "8"
      ]
     },
     "execution_count": 570,
     "metadata": {},
     "output_type": "execute_result"
    }
   ],
   "source": [
    "len(S1)"
   ]
  },
  {
   "cell_type": "code",
   "execution_count": null,
   "metadata": {},
   "outputs": [],
   "source": []
  }
 ],
 "metadata": {
  "interpreter": {
   "hash": "8fac594bfae6525c0c41b4041d2d72effa188cc8ead05f81b1fab2bb098927fb"
  },
  "kernelspec": {
   "display_name": "Python 3.9.7 ('base')",
   "language": "python",
   "name": "python3"
  },
  "language_info": {
   "codemirror_mode": {
    "name": "ipython",
    "version": 3
   },
   "file_extension": ".py",
   "mimetype": "text/x-python",
   "name": "python",
   "nbconvert_exporter": "python",
   "pygments_lexer": "ipython3",
   "version": "3.9.7"
  },
  "orig_nbformat": 4
 },
 "nbformat": 4,
 "nbformat_minor": 2
}
