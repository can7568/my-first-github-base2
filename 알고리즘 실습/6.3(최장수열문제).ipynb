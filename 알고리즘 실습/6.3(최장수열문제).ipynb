{
 "cells": [
  {
   "cell_type": "code",
   "execution_count": 1,
   "metadata": {},
   "outputs": [],
   "source": [
    "def lcs(x, y):\n",
    "    x, y = [' '] + x, [' '] + y\n",
    "    m, n = len(x), len(y)\n",
    "    c = [[0 for _ in range(n)] for _ in range(m)]\n",
    "    b = [[0 for _ in range(n)] for _ in range(m)]\n",
    "    for i in range(1, m):\n",
    "        for j in range(1, n):\n",
    "            if x[i] == y[j]:\n",
    "                c[i][j] = c[i - 1][j - 1] + 1\n",
    "                b[i][j] = 1\n",
    "            else:\n",
    "                c[i][j] = max(c[i][j - 1], c[i - 1][j])\n",
    "                b[i][j] = 2 if (c[i][j - 1] > c[i - 1][j]) else 3\n",
    "    return c, b"
   ]
  },
  {
   "cell_type": "code",
   "execution_count": 2,
   "metadata": {},
   "outputs": [],
   "source": [
    "def get_lcs(i, j, b, x):\n",
    "    if i == 0 or j == 0:\n",
    "        return \"\"\n",
    "    else:\n",
    "        if b[i][j] == 1:\n",
    "            return get_lcs(i - 1, j - 1, b, x) + x[i]\n",
    "        elif b[i][j] == 2:\n",
    "            return get_lcs(i, j - 1, b, x)\n",
    "        elif b[i][j] == 3:\n",
    "            return get_lcs(i - 1, j, b, x)"
   ]
  },
  {
   "cell_type": "code",
   "execution_count": 3,
   "metadata": {},
   "outputs": [],
   "source": [
    "def mat(m):\n",
    "    for i in range(len(m)):\n",
    "        for j in range(len(m[i])):\n",
    "            print(m[i][j], end=\" \")\n",
    "        print()"
   ]
  },
  {
   "cell_type": "code",
   "execution_count": 8,
   "metadata": {},
   "outputs": [],
   "source": [
    "x = list(input())\n",
    "y = list(input())\n",
    "c,b = lcs(x,y)\n"
   ]
  },
  {
   "cell_type": "code",
   "execution_count": 9,
   "metadata": {},
   "outputs": [
    {
     "name": "stdout",
     "output_type": "stream",
     "text": [
      "\n"
     ]
    }
   ],
   "source": [
    "print(get_lcs(len(x),len(y),b,[' ']+x))"
   ]
  },
  {
   "cell_type": "code",
   "execution_count": 10,
   "metadata": {},
   "outputs": [
    {
     "name": "stdout",
     "output_type": "stream",
     "text": [
      "0 0 0 0 0 \n",
      "0 3 3 3 3 \n",
      "0 3 3 3 3 \n",
      "0 3 3 3 3 \n",
      "0 3 3 3 3 \n",
      "0 3 3 3 3 \n"
     ]
    }
   ],
   "source": [
    "mat(b)"
   ]
  },
  {
   "cell_type": "code",
   "execution_count": null,
   "metadata": {},
   "outputs": [],
   "source": []
  }
 ],
 "metadata": {
  "interpreter": {
   "hash": "8fac594bfae6525c0c41b4041d2d72effa188cc8ead05f81b1fab2bb098927fb"
  },
  "kernelspec": {
   "display_name": "Python 3.9.7 ('base')",
   "language": "python",
   "name": "python3"
  },
  "language_info": {
   "codemirror_mode": {
    "name": "ipython",
    "version": 3
   },
   "file_extension": ".py",
   "mimetype": "text/x-python",
   "name": "python",
   "nbconvert_exporter": "python",
   "pygments_lexer": "ipython3",
   "version": "3.9.7"
  },
  "orig_nbformat": 4
 },
 "nbformat": 4,
 "nbformat_minor": 2
}
