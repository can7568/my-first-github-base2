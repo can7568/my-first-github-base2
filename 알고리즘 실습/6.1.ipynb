{
 "cells": [
  {
   "cell_type": "code",
   "execution_count": 109,
   "metadata": {},
   "outputs": [
    {
     "name": "stdout",
     "output_type": "stream",
     "text": [
      "0 999 999\n",
      "0 999\n",
      "0\n",
      "0 0 0\n",
      "0 0\n",
      "0\n",
      "999\n",
      "((((((((((((((((((((((((((((((((((((((((((((((((((((((((((((((((((((((((((((((((((((((((((((((((((((((((((((((((((((((((((((((((((((((((((((((((((((((((((((((((((((((((((((((((((((((((((((((((((((((((((((((((((((((((((((((((((((((((((((((((((((((((((((((((((((((((((((((((((((((((((((((((((((((((((((((((((((((((((((((((((((((((((((((((((((((((((((((((((((((((((((((((((((((((((((((((((((((((((((((((((((((((((((((((((((((((((((((((((((((((((((((((((((((((((((((((((((((((((((((((((((((((((((((((((((((((((((((((((((((((((((((((((((((((((((((((((((((((((((((((((((((((((((((((((((((((((((((((((((((((((((((((((((((((((((((((((((((((((((((((((((((((((((((((((((((((((((((((((((((((((((((((((((((((((((((((((((((((((((((((((((((((((((((((((((((((((((((((((((((((((((((((((((((((((((((((((((((((((((((((((((((((((((((((((((((((((((((((((((((((((((((((((((((((((((((((((((((((((((((((((((((((((((((((((((((((((((((((((((((((((((((((((((((((((((((((((((((((((((((((((((((((((((((((((((((((((((((((((((((((((((((((((((((((((((((((((((((((((((((((((((((((((((((((((((((((((((((((((((((((((((((((((((((((((((((((((((((((((((((((((((((((((((((((((((((((((((((((((((((((((((((((((((((((((((((((((((((((((((((((((((((((((((((((((((((((((((((((((((((((((((((((((((((((((((((((((((((((((((((((((((((((((((((((((((((((((((((((((((((((((((((((((((((((((((((((((((((((((((((((((((((((((((((((((((((((((((((((((((((((((((((((((((((((((((((((((((((((((((((((((((((((((((((((((((((((((((((((((((((((((((((((((((((((((((((((((((((((((((((((((((((((((((((((((((((((((((((((((((((((((((((((((((((((((((((((((((((((((((((((((((((((((((((((((((((((((((((((((((((((((((((((((((((((((((((((((((((((((((((((((((((((((((((((((((((((((((((((((((((((((((((((((((((((((((((((((((((((((((((((((((((((((((((((((((((((((((((((((((((((((((((((((((((((((((((((((((((((((((((((((((((((((((((((((((((((((((((((((((((((((((((((((((((((((((((((((((((((((((((((((((((((((((((((((((((((((((((((((((((((((((((((((((((((((((((((((((((((((((((((((((((((((((((((((((((((((((((((((((((((((((((((((((((((((((((((((((((((((((((((((((((((((((((((((((((((((((((((((((((((((((((((((((((((((((((((((((((((((((((((((((((((((((((((((((((((((((((((((((((((((((((((((((((((((((((((((((((((((((((((((((((((((((((((((((((((((((((((((((((((((((((((((((((((((((((((((((((((((((((((((((((((((((((((((((((((((((((((((((((((((((((((((((((((((((((((((((((((((((((((((((((((((((((((((((((((((((((((((((((((((((((((((((((((((((((((((((((((((((((((((((((((((((((((((((((((((((((((((((((((((((((((((((((((((((((((((((((((((((((((((((((((((((((((((((((((((((((((((((((((((((((((((((((((((((((((((((((((((((((((((((((((((((((((((((((((((((((((((((((((((((((((((((((((((((((((((((((((((((("
     ]
    },
    {
     "ename": "Error",
     "evalue": "Canceled future for execute_request message before replies were done",
     "output_type": "error",
     "traceback": [
      "Error: Canceled future for execute_request message before replies were done",
      "at t.KernelShellFutureHandler.dispose (c:\\Users\\User\\.vscode\\extensions\\ms-toolsai.jupyter-2022.3.1000901801\\out\\extension.js:2:1204175)",
      "at c:\\Users\\User\\.vscode\\extensions\\ms-toolsai.jupyter-2022.3.1000901801\\out\\extension.js:2:1223227",
      "at Map.forEach (<anonymous>)",
      "at v._clearKernelState (c:\\Users\\User\\.vscode\\extensions\\ms-toolsai.jupyter-2022.3.1000901801\\out\\extension.js:2:1223212)",
      "at v.dispose (c:\\Users\\User\\.vscode\\extensions\\ms-toolsai.jupyter-2022.3.1000901801\\out\\extension.js:2:1216694)",
      "at c:\\Users\\User\\.vscode\\extensions\\ms-toolsai.jupyter-2022.3.1000901801\\out\\extension.js:2:533674",
      "at t.swallowExceptions (c:\\Users\\User\\.vscode\\extensions\\ms-toolsai.jupyter-2022.3.1000901801\\out\\extension.js:2:913059)",
      "at dispose (c:\\Users\\User\\.vscode\\extensions\\ms-toolsai.jupyter-2022.3.1000901801\\out\\extension.js:2:533652)",
      "at t.RawSession.dispose (c:\\Users\\User\\.vscode\\extensions\\ms-toolsai.jupyter-2022.3.1000901801\\out\\extension.js:2:537330)",
      "at runMicrotasks (<anonymous>)",
      "at processTicksAndRejections (node:internal/process/task_queues:96:5)"
     ]
    }
   ],
   "source": [
    "def minmult(d):\n",
    "    M = [[-1]*(n+1) for _ in range(n+1)] #d에 0이 포함되어 있기 때문에 n+1까지\n",
    "    P = [[-1]*(n+1) for _ in range(n+1)]\n",
    "    for i in range(1,n+1):\n",
    "        M[i][i] = 0 #0으로 초기화\n",
    "        P[i][i] = 0\n",
    "    for diagonal in range(1,n):\n",
    "        for i in range(1,n-diagonal+1):\n",
    "            j = i + diagonal #현재 diagonal에서 몇번째 원소인가\n",
    "            M[i][j] , P[i][j] = minimum(M,d,i,j) #최소값 구하기\n",
    "    return M,P\n",
    "def minimum(M,d,i,j):\n",
    "    MIN = 999\n",
    "    mink = 0\n",
    "    for k in range(i,j): #i에서 j-1까지\n",
    "        v = (M[i][k] + M[k+1][j])\n",
    "        v += d[i-1]*d[k]*d[j]\n",
    "        if (MIN > v): #minv보다 v가 작으면 \n",
    "            MIN = v #minv에 v값을 저장\n",
    "            mink = k #그 때의 k값도 저장\n",
    "    return MIN,mink\n",
    "#곱셈 순서 출력\n",
    "def order(P,i,j):\n",
    "    if(i == j):\n",
    "        print('(',end='')\n",
    "        print('A%d'%i,end='')\n",
    "        print(')',end='')\n",
    "    else:\n",
    "        k = P[i][j]\n",
    "        print('(',end='')\n",
    "        order(P,i,k)\n",
    "        order(P,k+1,j)\n",
    "        print(')',end='')\n",
    "n = int(input())\n",
    "d = [int(i) for i in input().split()]\n",
    "M,P = minmult(d)\n",
    "\n",
    "for i in range(1,len(M)):\n",
    "    for j in range(1,len(M)):\n",
    "        if (M[i][j] != -1)& (j < len(M)-1):\n",
    "            print(M[i][j],end =\" \")\n",
    "        elif (M[i][j] != -1) & (j == len(M)-1) :\n",
    "            print(M[i][j],end =\"\")\n",
    "    if i < len(M):print()\n",
    "\n",
    "for i in range(1,len(P)):\n",
    "    for j in range(1,len(P)):\n",
    "        if (P[i][j] != -1) & (j < len(P)-1):\n",
    "            print(P[i][j],end =\" \")\n",
    "        elif (P[i][j] != -1)&(j == len(P)-1):\n",
    "            print(P[i][j],end =\"\")\n",
    "    if i < len(P):print()\n",
    "\n",
    "print(M[1][len(M)-1])\n",
    "order(P,1,n)"
   ]
  },
  {
   "cell_type": "code",
   "execution_count": 106,
   "metadata": {},
   "outputs": [
    {
     "data": {
      "text/plain": [
       "2"
      ]
     },
     "execution_count": 106,
     "metadata": {},
     "output_type": "execute_result"
    }
   ],
   "source": [
    "len(M)"
   ]
  },
  {
   "cell_type": "code",
   "execution_count": 81,
   "metadata": {},
   "outputs": [],
   "source": [
    "def minmult(d):\n",
    "    n = len(d) - 1\n",
    "    M = [[-1]*(n+1) for _ in range(n+1)] #d에 0이 포함되어 있기 때문에 n+1까지\n",
    "    P = [[-1]*(n+1) for _ in range(n+1)]\n",
    "    for i in range(1,n+1):\n",
    "        M[i][i] = 0 #0으로 초기화\n",
    "        P[i][i] = 0\n",
    "    for diagonal in range(1,n):\n",
    "        for i in range(1,n-diagonal+1):\n",
    "            j = i + diagonal #현재 diagonal에서 몇번째 원소인가\n",
    "            M[i][j] , P[i][j] = minimum(M,d,i,j) #최소값 구하기\n",
    "    return M,P\n"
   ]
  },
  {
   "cell_type": "code",
   "execution_count": 82,
   "metadata": {},
   "outputs": [],
   "source": [
    "def minimum(M,d,i,j):\n",
    "    MIN = 999\n",
    "    mink = 0\n",
    "    for k in range(i,j): #i에서 j-1까지\n",
    "        v = M[i][k] + M[k+1][j]\n",
    "        v += d[i-1]*d[k]*d[j]\n",
    "        if (MIN > v): #minv보다 v가 작으면 \n",
    "            MIN = v #minv에 v값을 저장\n",
    "            mink = k #그 때의 k값도 저장\n",
    "    return MIN,mink"
   ]
  },
  {
   "cell_type": "code",
   "execution_count": 87,
   "metadata": {},
   "outputs": [],
   "source": [
    "#곱셈 순서 출력\n",
    "def order(P,i,j):\n",
    "    if(i==j):\n",
    "        print('(',end='')\n",
    "        print('A%d'%i,end='')\n",
    "        print(')',end='')\n",
    "    else:\n",
    "        k = P[i][j]\n",
    "        print('(',end='')\n",
    "        order(P,i,k)\n",
    "        order(P,k+1,j)\n",
    "        print(')',end='')\n",
    "\n"
   ]
  },
  {
   "cell_type": "code",
   "execution_count": 88,
   "metadata": {},
   "outputs": [
    {
     "name": "stdout",
     "output_type": "stream",
     "text": [
      "0 30 64 132 226 348 \n",
      "0 24 72 156 268 \n",
      "0 72 198 366 \n",
      "0 168 392 \n",
      "0 336 \n",
      "0 \n",
      "0 1 1 1 1 1 \n",
      "0 2 3 4 5 \n",
      "0 3 4 5 \n",
      "0 4 5 \n",
      "0 5 \n",
      "0 \n",
      "348\n",
      "((A1)(((((A2)(A3))(A4))(A5))(A6)))"
     ]
    }
   ],
   "source": [
    "M,P = minmult(d)\n",
    "for i in range(1,len(M)):\n",
    "    for j in range(1,len(M)):\n",
    "        if (j < len(M)) & (M[i][j] != -1):\n",
    "            print(M[i][j],end =\" \")\n",
    "        elif (j == len(M)-1) & (M[i][j] != -1):\n",
    "            print(M[i][j],end =\"\")\n",
    "    if i < len(M)-1:\n",
    "        print()\n",
    "print()\n",
    "for i in range(1,len(P)):\n",
    "    for j in range(1,len(P)):\n",
    "        if (j < len(P)) & (P[i][j] != -1):\n",
    "            print(P[i][j],end =\" \")\n",
    "        elif (j == len(P)-1) & (P[i][j] != -1):\n",
    "            print(P[i][j],end =\"\")\n",
    "    if i < len(P)-1:\n",
    "        print()\n",
    "print()\n",
    "optimum = M[1][len(M)-1]\n",
    "print(optimum)\n",
    "order(P,1,len(d)-1)\n"
   ]
  },
  {
   "cell_type": "code",
   "execution_count": 65,
   "metadata": {},
   "outputs": [
    {
     "name": "stdout",
     "output_type": "stream",
     "text": [
      "0 30 64 132 226 348 \n",
      "0 24 72 156 268 \n",
      "0 72 198 366 \n",
      "0 168 392 \n",
      "0 336 \n",
      "0 "
     ]
    }
   ],
   "source": []
  },
  {
   "cell_type": "code",
   "execution_count": 66,
   "metadata": {},
   "outputs": [
    {
     "name": "stdout",
     "output_type": "stream",
     "text": [
      "0 1 1 1 1 1 \n",
      "0 2 3 4 5 \n",
      "0 3 4 5 \n",
      "0 4 5 \n",
      "0 5 \n",
      "0 "
     ]
    }
   ],
   "source": []
  },
  {
   "cell_type": "code",
   "execution_count": null,
   "metadata": {},
   "outputs": [],
   "source": []
  }
 ],
 "metadata": {
  "interpreter": {
   "hash": "8fac594bfae6525c0c41b4041d2d72effa188cc8ead05f81b1fab2bb098927fb"
  },
  "kernelspec": {
   "display_name": "Python 3.9.7 ('base')",
   "language": "python",
   "name": "python3"
  },
  "language_info": {
   "codemirror_mode": {
    "name": "ipython",
    "version": 3
   },
   "file_extension": ".py",
   "mimetype": "text/x-python",
   "name": "python",
   "nbconvert_exporter": "python",
   "pygments_lexer": "ipython3",
   "version": "3.9.7"
  },
  "orig_nbformat": 4
 },
 "nbformat": 4,
 "nbformat_minor": 2
}
