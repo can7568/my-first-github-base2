{
 "cells": [
  {
   "cell_type": "code",
   "execution_count": 20,
   "metadata": {},
   "outputs": [],
   "source": [
    "def hamiltonian(i):\n",
    "    global cnt\n",
    "    if (promising(i)):\n",
    "        if(i == n - 1):\n",
    "            cnt +=1\n",
    "            return\n",
    "        else:\n",
    "            for j in range(2,n+1):\n",
    "                vindex[i+1] = j\n",
    "                hamiltonian(i+1)"
   ]
  },
  {
   "cell_type": "code",
   "execution_count": 21,
   "metadata": {},
   "outputs": [],
   "source": [
    "def promising(i):\n",
    "    if(i == n-1) and (not W[vindex[n-1]][vindex[0]]):\n",
    "        flag = False\n",
    "    elif(i > 0 and (not W[vindex[i-1]][vindex[i]])):\n",
    "        flag = False\n",
    "    else:\n",
    "        flag = True\n",
    "        j = 1\n",
    "        while(j < i and flag):\n",
    "            if (vindex[i] == vindex[j]):\n",
    "                flag = False\n",
    "            j +=1\n",
    "    return flag\n",
    "        "
   ]
  },
  {
   "cell_type": "code",
   "execution_count": 5,
   "metadata": {},
   "outputs": [
    {
     "name": "stdout",
     "output_type": "stream",
     "text": [
      "0\n"
     ]
    }
   ],
   "source": [
    "n,m = map(int, input().split())\n",
    "W = [[False] *(m+1) for _ in range(m+1)]\n",
    "for i in range(1,m+1):\n",
    "    v,e= map(int, input().split())\n",
    "    W[v][e] = True\n",
    "    W[e][v] = True\n",
    "def hamiltonian(i):\n",
    "    global cnt\n",
    "    if (promising(i)):\n",
    "        if(i == n - 1):\n",
    "            cnt +=1\n",
    "            return\n",
    "        else:\n",
    "            for j in range(2,n+1):\n",
    "                vindex[i+1] = j\n",
    "                hamiltonian(i+1)\n",
    "def promising(i):\n",
    "    if(i == n-1) and (not W[vindex[n-1]][vindex[0]]):\n",
    "        flag = False\n",
    "    elif(i > 0 and (not W[vindex[i-1]][vindex[i]])):\n",
    "        flag = False\n",
    "    else:\n",
    "        flag = True\n",
    "        j = 1\n",
    "        while(j < i and flag):\n",
    "            if (vindex[i] == vindex[j]):\n",
    "                flag = False\n",
    "            j +=1\n",
    "    return flag\n",
    "vindex = [0 for _ in range(n+1)]\n",
    "cnt = 0\n",
    "vindex[0] = 1\n",
    "hamiltonian(0)\n",
    "print(cnt)"
   ]
  },
  {
   "cell_type": "code",
   "execution_count": 25,
   "metadata": {},
   "outputs": [],
   "source": [
    "vindex = [0 for _ in range(n+1)]\n",
    "cnt = 0"
   ]
  },
  {
   "cell_type": "code",
   "execution_count": 26,
   "metadata": {},
   "outputs": [
    {
     "name": "stdout",
     "output_type": "stream",
     "text": [
      "0\n"
     ]
    }
   ],
   "source": [
    "vindex[0] = 1\n",
    "hamiltonian(0)\n",
    "print(cnt)"
   ]
  },
  {
   "cell_type": "code",
   "execution_count": null,
   "metadata": {},
   "outputs": [],
   "source": []
  }
 ],
 "metadata": {
  "interpreter": {
   "hash": "f08154012ddadd8e950e6e9e035c7a7b32c136e7647e9b7c77e02eb723a8bedb"
  },
  "kernelspec": {
   "display_name": "Python 3.9.7 ('base')",
   "language": "python",
   "name": "python3"
  },
  "language_info": {
   "codemirror_mode": {
    "name": "ipython",
    "version": 3
   },
   "file_extension": ".py",
   "mimetype": "text/x-python",
   "name": "python",
   "nbconvert_exporter": "python",
   "pygments_lexer": "ipython3",
   "version": "3.9.7"
  },
  "orig_nbformat": 4
 },
 "nbformat": 4,
 "nbformat_minor": 2
}
