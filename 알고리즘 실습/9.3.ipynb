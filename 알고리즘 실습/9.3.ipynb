{
 "cells": [
  {
   "cell_type": "code",
   "execution_count": 311,
   "metadata": {},
   "outputs": [],
   "source": [
    "n = int(input())\n",
    "weight = [int(i) for  i in input().split()]\n",
    "profit = [int(i) for  i in input().split()]\n",
    "T = int(input())\n",
    "W = [0 ] * T\n",
    "for i in range(T):  \n",
    "    W[i] = int(input())"
   ]
  },
  {
   "cell_type": "code",
   "execution_count": 322,
   "metadata": {},
   "outputs": [],
   "source": [
    "def knapsack(W,w,p):\n",
    "    N = list(range(len(p)))\n",
    "    #단위 무게당 이익으로 정렬\n",
    "    S = [(profit/weight) for profit, weight in zip(p, w)]\n",
    "    N.sort(key=lambda x: S[x], reverse=True)\n",
    "    K = [0]*len(p)\n",
    "    for i in N:\n",
    "        if (w[i] <= W):\n",
    "            K[i] = 1\n",
    "            W -= w[i]\n",
    "        else:\n",
    "            K[i] = W/w[i]\n",
    "            break\n",
    "    return K,N\n",
    " \n"
   ]
  },
  {
   "cell_type": "code",
   "execution_count": 323,
   "metadata": {},
   "outputs": [
    {
     "name": "stdout",
     "output_type": "stream",
     "text": [
      "220\n",
      "5 50\n",
      "20 140\n",
      "5 30\n"
     ]
    }
   ],
   "source": [
    "for i in W:\n",
    "    K,N = knapsack(i, weight, profit)\n",
    "    print_price(K,N)"
   ]
  },
  {
   "cell_type": "code",
   "execution_count": 279,
   "metadata": {},
   "outputs": [],
   "source": [
    "def print_price(K,N):\n",
    "    price = 0\n",
    "    for i in range(len(K)):\n",
    "        price += profit[i] * K[i]\n",
    "    print(int(price))\n",
    "    for i in N:\n",
    "        if int(weight[i] * K[i]) != 0:\n",
    "            print(int(weight[i] * K[i]),end=\" \")\n",
    "            print(int(profit[i]*K[i]))"
   ]
  },
  {
   "cell_type": "code",
   "execution_count": 243,
   "metadata": {},
   "outputs": [
    {
     "name": "stdout",
     "output_type": "stream",
     "text": [
      "220\n",
      "5 50\n",
      "20 140\n",
      "5 30\n"
     ]
    }
   ],
   "source": [
    "price = 0\n",
    "for i in range(len(K)):\n",
    "    price += profit[i] * K[i]\n",
    "print(int(price))\n",
    "for i in N:\n",
    "    print(int(weight[i] * K[i]),end=\" \")\n",
    "    print(int(profit[i]*K[i]))"
   ]
  },
  {
   "cell_type": "code",
   "execution_count": null,
   "metadata": {},
   "outputs": [],
   "source": []
  }
 ],
 "metadata": {
  "interpreter": {
   "hash": "8fac594bfae6525c0c41b4041d2d72effa188cc8ead05f81b1fab2bb098927fb"
  },
  "kernelspec": {
   "display_name": "Python 3.9.7 ('base')",
   "language": "python",
   "name": "python3"
  },
  "language_info": {
   "codemirror_mode": {
    "name": "ipython",
    "version": 3
   },
   "file_extension": ".py",
   "mimetype": "text/x-python",
   "name": "python",
   "nbconvert_exporter": "python",
   "pygments_lexer": "ipython3",
   "version": "3.9.7"
  },
  "orig_nbformat": 4
 },
 "nbformat": 4,
 "nbformat_minor": 2
}
