{
 "cells": [
  {
   "cell_type": "code",
   "execution_count": 3,
   "metadata": {},
   "outputs": [],
   "source": [
    "from queue import PriorityQueue"
   ]
  },
  {
   "cell_type": "code",
   "execution_count": 12,
   "metadata": {},
   "outputs": [
    {
     "name": "stdout",
     "output_type": "stream",
     "text": [
      "[5.0, 8.0, 10.0, 4.0]\n",
      "[2, 1, 0, 3]\n",
      "0 0 0 54\n",
      "1 3 30 54\n",
      "1 0 0 42\n",
      "2 7 62 0\n",
      "2 3 30 44\n",
      "3 5 40 44\n",
      "3 3 30 42\n"
     ]
    },
    {
     "ename": "TypeError",
     "evalue": "'<' not supported between instances of 'Tree' and 'Tree'",
     "output_type": "error",
     "traceback": [
      "\u001b[1;31m---------------------------------------------------------------------------\u001b[0m",
      "\u001b[1;31mTypeError\u001b[0m                                 Traceback (most recent call last)",
      "\u001b[1;32m~\\AppData\\Local\\Temp/ipykernel_22036/3047409526.py\u001b[0m in \u001b[0;36m<module>\u001b[1;34m\u001b[0m\n\u001b[0;32m     87\u001b[0m \u001b[1;31m#print(w,p)\u001b[0m\u001b[1;33m\u001b[0m\u001b[1;33m\u001b[0m\u001b[0m\n\u001b[0;32m     88\u001b[0m \u001b[1;33m\u001b[0m\u001b[0m\n\u001b[1;32m---> 89\u001b[1;33m \u001b[0mmaxprofit\u001b[0m \u001b[1;33m=\u001b[0m \u001b[0mknapsack\u001b[0m\u001b[1;33m(\u001b[0m\u001b[0mp\u001b[0m\u001b[1;33m,\u001b[0m \u001b[0mw\u001b[0m\u001b[1;33m,\u001b[0m \u001b[0mW\u001b[0m\u001b[1;33m)\u001b[0m\u001b[1;33m\u001b[0m\u001b[1;33m\u001b[0m\u001b[0m\n\u001b[0m\u001b[0;32m     90\u001b[0m \u001b[1;31m# print(maxprofit)\u001b[0m\u001b[1;33m\u001b[0m\u001b[1;33m\u001b[0m\u001b[0m\n",
      "\u001b[1;32m~\\AppData\\Local\\Temp/ipykernel_22036/3047409526.py\u001b[0m in \u001b[0;36mknapsack\u001b[1;34m(p, w, W)\u001b[0m\n\u001b[0;32m     23\u001b[0m     \u001b[0mv\u001b[0m\u001b[1;33m.\u001b[0m\u001b[0mnodePrint\u001b[0m\u001b[1;33m(\u001b[0m\u001b[1;33m)\u001b[0m \u001b[1;31m#루트출력\u001b[0m\u001b[1;33m\u001b[0m\u001b[1;33m\u001b[0m\u001b[0m\n\u001b[0;32m     24\u001b[0m     \u001b[1;32mwhile\u001b[0m\u001b[1;33m(\u001b[0m\u001b[1;32mnot\u001b[0m \u001b[0mPQ\u001b[0m\u001b[1;33m.\u001b[0m\u001b[0mempty\u001b[0m\u001b[1;33m(\u001b[0m\u001b[1;33m)\u001b[0m\u001b[1;33m)\u001b[0m\u001b[1;33m:\u001b[0m\u001b[1;33m\u001b[0m\u001b[1;33m\u001b[0m\u001b[0m\n\u001b[1;32m---> 25\u001b[1;33m         \u001b[0mv\u001b[0m \u001b[1;33m=\u001b[0m \u001b[0mPQ\u001b[0m\u001b[1;33m.\u001b[0m\u001b[0mget\u001b[0m\u001b[1;33m(\u001b[0m\u001b[1;33m)\u001b[0m\u001b[1;33m[\u001b[0m\u001b[1;36m1\u001b[0m\u001b[1;33m]\u001b[0m\u001b[1;33m\u001b[0m\u001b[1;33m\u001b[0m\u001b[0m\n\u001b[0m\u001b[0;32m     26\u001b[0m         \u001b[1;32mif\u001b[0m\u001b[1;33m(\u001b[0m\u001b[0mv\u001b[0m\u001b[1;33m.\u001b[0m\u001b[0mbound\u001b[0m \u001b[1;33m>\u001b[0m \u001b[0mmaxprofit\u001b[0m\u001b[1;33m)\u001b[0m\u001b[1;33m:\u001b[0m \u001b[1;31m#pruning\u001b[0m\u001b[1;33m\u001b[0m\u001b[1;33m\u001b[0m\u001b[0m\n\u001b[0;32m     27\u001b[0m \u001b[1;33m\u001b[0m\u001b[0m\n",
      "\u001b[1;32mc:\\Users\\User\\anaconda3\\lib\\queue.py\u001b[0m in \u001b[0;36mget\u001b[1;34m(self, block, timeout)\u001b[0m\n\u001b[0;32m    179\u001b[0m                         \u001b[1;32mraise\u001b[0m \u001b[0mEmpty\u001b[0m\u001b[1;33m\u001b[0m\u001b[1;33m\u001b[0m\u001b[0m\n\u001b[0;32m    180\u001b[0m                     \u001b[0mself\u001b[0m\u001b[1;33m.\u001b[0m\u001b[0mnot_empty\u001b[0m\u001b[1;33m.\u001b[0m\u001b[0mwait\u001b[0m\u001b[1;33m(\u001b[0m\u001b[0mremaining\u001b[0m\u001b[1;33m)\u001b[0m\u001b[1;33m\u001b[0m\u001b[1;33m\u001b[0m\u001b[0m\n\u001b[1;32m--> 181\u001b[1;33m             \u001b[0mitem\u001b[0m \u001b[1;33m=\u001b[0m \u001b[0mself\u001b[0m\u001b[1;33m.\u001b[0m\u001b[0m_get\u001b[0m\u001b[1;33m(\u001b[0m\u001b[1;33m)\u001b[0m\u001b[1;33m\u001b[0m\u001b[1;33m\u001b[0m\u001b[0m\n\u001b[0m\u001b[0;32m    182\u001b[0m             \u001b[0mself\u001b[0m\u001b[1;33m.\u001b[0m\u001b[0mnot_full\u001b[0m\u001b[1;33m.\u001b[0m\u001b[0mnotify\u001b[0m\u001b[1;33m(\u001b[0m\u001b[1;33m)\u001b[0m\u001b[1;33m\u001b[0m\u001b[1;33m\u001b[0m\u001b[0m\n\u001b[0;32m    183\u001b[0m             \u001b[1;32mreturn\u001b[0m \u001b[0mitem\u001b[0m\u001b[1;33m\u001b[0m\u001b[1;33m\u001b[0m\u001b[0m\n",
      "\u001b[1;32mc:\\Users\\User\\anaconda3\\lib\\queue.py\u001b[0m in \u001b[0;36m_get\u001b[1;34m(self)\u001b[0m\n\u001b[0;32m    237\u001b[0m \u001b[1;33m\u001b[0m\u001b[0m\n\u001b[0;32m    238\u001b[0m     \u001b[1;32mdef\u001b[0m \u001b[0m_get\u001b[0m\u001b[1;33m(\u001b[0m\u001b[0mself\u001b[0m\u001b[1;33m)\u001b[0m\u001b[1;33m:\u001b[0m\u001b[1;33m\u001b[0m\u001b[1;33m\u001b[0m\u001b[0m\n\u001b[1;32m--> 239\u001b[1;33m         \u001b[1;32mreturn\u001b[0m \u001b[0mheappop\u001b[0m\u001b[1;33m(\u001b[0m\u001b[0mself\u001b[0m\u001b[1;33m.\u001b[0m\u001b[0mqueue\u001b[0m\u001b[1;33m)\u001b[0m\u001b[1;33m\u001b[0m\u001b[1;33m\u001b[0m\u001b[0m\n\u001b[0m\u001b[0;32m    240\u001b[0m \u001b[1;33m\u001b[0m\u001b[0m\n\u001b[0;32m    241\u001b[0m \u001b[1;33m\u001b[0m\u001b[0m\n",
      "\u001b[1;31mTypeError\u001b[0m: '<' not supported between instances of 'Tree' and 'Tree'"
     ]
    }
   ],
   "source": [
    "# 12_1 0-1 배낭문제 (분기한정)\n",
    "# 방문하는 모든 노드의 상태 출력 + maxprofit\n",
    "\n",
    "import sys\n",
    "from copy import deepcopy\n",
    "from queue import PriorityQueue\n",
    "\n",
    "class Tree:\n",
    "    def __init__(self,level,weight,profit):\n",
    "        self.level = level\n",
    "        self.weight = weight\n",
    "        self.profit = profit\n",
    "        self.bound = 0\n",
    "    def nodePrint(self):\n",
    "         print(self.level, self.weight, self.profit, int(self.bound));\n",
    "         \n",
    "def knapsack(p,w,W):\n",
    "    PQ = PriorityQueue() #우선순위 큐\n",
    "    v = Tree(0, 0, 0) #루트\n",
    "    maxprofit = 0\n",
    "    v.bound = promising(v,p,w)\n",
    "    PQ.put((-v.bound,v)) #제일 높은 한계값부터 pop\n",
    "    v.nodePrint() #루트출력\n",
    "    while(not PQ.empty()):\n",
    "        v = PQ.get()[1]\n",
    "        if(v.bound > maxprofit): #pruning\n",
    "\n",
    "            # left\n",
    "            level = v.level + 1\n",
    "            weight = v.weight + w[level]\n",
    "            profit = v.profit + p[level] # 교재) profit = v.profit + p[level+1] (무게도)\n",
    "            u = Tree(level,weight, profit)\n",
    "            if(u.weight <= W and u.profit > maxprofit): #배낭의 무게보다 적음 + 기대이익이 더 큼\n",
    "                maxprofit = u.profit\n",
    "            u.bound = promising(u,p,w)\n",
    "            if(u.bound > maxprofit):\n",
    "                PQ.put((-u.bound,u)) #Q에 추가\n",
    "            u.nodePrint()\n",
    "            \n",
    "            #right\n",
    "            u = Tree(level, v.weight, v.profit) #배낭에 추가 안함\n",
    "            u.bound = promising(u,p,w)\n",
    "            if(u.bound > maxprofit):\n",
    "                PQ.put((-u.bound,u))\n",
    "            u.nodePrint()\n",
    "            \n",
    "    return maxprofit\n",
    "\n",
    "def promising(u,p,w): #bound\n",
    "    if(u.weight >= W):\n",
    "        return 0 #용량 초과\n",
    "    else:\n",
    "        j = u.level + 1\n",
    "        result = u.profit\n",
    "        totweight = u.weight\n",
    "        while(j<=n and totweight + w[j] <= W):\n",
    "            totweight += w[j]\n",
    "            result += p[j]\n",
    "            j+=1\n",
    "        k = j\n",
    "        if(k<=n):\n",
    "            result += (W - totweight) * (p[k] / w[k])\n",
    "        \n",
    "        return result\n",
    "                        \n",
    "#sys.stdin = open(\"input12-1.txt\",\"r\")\n",
    "\n",
    "n, W = map(int,input().split()) # n = 아이템의 개수, W = 배낭의 무게\n",
    "weight = [int(i) for  i in input().split()] #n개의 무게\n",
    "profit = [int(i) for  i in input().split()] #n개의 이익\n",
    "w = [0] * n\n",
    "p = [0] * n\n",
    "\n",
    "####정렬####\n",
    "a = list(range(n))\n",
    "PPW = [(profit/weight) for profit, weight in zip(profit, weight)] #zip함수로 리스트 처리 #profit per weight\n",
    "print(PPW)\n",
    "align = sorted(a,key=lambda x: PPW[x], reverse=True) \n",
    "print(align)\n",
    "# align = sorted(align,reverse=True)\n",
    "# print(align)\n",
    "for i,j in zip(a,align):\n",
    "    w[i] = weight[j]\n",
    "    p[i] = profit[j]\n",
    "w.insert(0, 0)\n",
    "p.insert(0, 0)\n",
    "#print(w,p)\n",
    "\n",
    "maxprofit = knapsack(p, w, W)\n",
    "# print(maxprofit)"
   ]
  },
  {
   "cell_type": "code",
   "execution_count": 2,
   "metadata": {},
   "outputs": [
    {
     "data": {
      "text/plain": [
       "[40, 30, 50, 10]"
      ]
     },
     "execution_count": 2,
     "metadata": {},
     "output_type": "execute_result"
    }
   ],
   "source": [
    "N = list(range(len(p)))\n",
    "#단위 무게당 이익으로 정렬\n",
    "S = [(profit/weight) for profit, weight in zip(p, w)]\n",
    "K = sorted(N,key=lambda x: S[x], reverse=True) "
   ]
  },
  {
   "cell_type": "code",
   "execution_count": null,
   "metadata": {},
   "outputs": [],
   "source": [
    "class Node:\n",
    "    def __init__(self, level,weight,profit,bound):\n",
    "        self.level = level\n",
    "        self.profit = profit\n",
    "        self.weight = weight\n",
    "        self.bound = bound"
   ]
  },
  {
   "cell_type": "code",
   "execution_count": null,
   "metadata": {},
   "outputs": [],
   "source": [
    "def knapsack6(W,w,p):\n",
    "    PQ = PriorityQueue()\n",
    "    maxprofit = 0\n",
    "    PQ.insert()"
   ]
  },
  {
   "cell_type": "code",
   "execution_count": null,
   "metadata": {},
   "outputs": [],
   "source": [
    "print(i,weight,profit,int(bound),maxprofit)"
   ]
  }
 ],
 "metadata": {
  "interpreter": {
   "hash": "f08154012ddadd8e950e6e9e035c7a7b32c136e7647e9b7c77e02eb723a8bedb"
  },
  "kernelspec": {
   "display_name": "Python 3.9.7 ('base')",
   "language": "python",
   "name": "python3"
  },
  "language_info": {
   "codemirror_mode": {
    "name": "ipython",
    "version": 3
   },
   "file_extension": ".py",
   "mimetype": "text/x-python",
   "name": "python",
   "nbconvert_exporter": "python",
   "pygments_lexer": "ipython3",
   "version": "3.9.7"
  },
  "orig_nbformat": 4
 },
 "nbformat": 4,
 "nbformat_minor": 2
}
