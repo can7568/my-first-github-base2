{
 "cells": [
  {
   "cell_type": "code",
   "execution_count": 1,
   "metadata": {},
   "outputs": [
    {
     "name": "stdout",
     "output_type": "stream",
     "text": [
      "1 1 1 1\n",
      "1 1 2 1\n",
      "1 1 3 3\n",
      "1 1 3 3\n",
      "1 1 3 3\n",
      "2 1 1\n",
      "3 1 3\n",
      "5 3 2\n",
      "4 3 4\n"
     ]
    }
   ],
   "source": [
    "#프림 알고리즘\n",
    "def prim(G):\n",
    "    n = len(G) - 1\n",
    "    nearest = [-1] * (n+1)\n",
    "    distance = [-1] * (n+1)\n",
    "    \n",
    "    F= []\n",
    "    for i in range(2,n+1):\n",
    "        nearest[i] = 1\n",
    "        distance[i] = G[1][i]\n",
    "    #nearest 배열 출력\n",
    "    for i in range(n-1):\n",
    "        for i in range(len(nearest)):\n",
    "            if ((nearest[i] != -1) and (i != len(nearest)-1)):\n",
    "                print(nearest[i],end=' ')\n",
    "            elif ((nearest[i] != -1) and (i == len(nearest)-1)):\n",
    "                print(nearest[i],end='')\n",
    "        print()\n",
    "        \n",
    "        MIN = INF\n",
    "        for j in range(2,n+1):\n",
    "            if((0 <= distance[j]) and (distance[j] < MIN)):\n",
    "                MIN = distance[j]\n",
    "                vnear = j\n",
    "        \n",
    "        e = (vnear, nearest[vnear], G[nearest[vnear]][vnear])\n",
    "        F.append(e)\n",
    "        distance[vnear] = -1\n",
    "        \n",
    "        for j in range(2,n+1):\n",
    "            if(distance[j] > G[j][vnear]):\n",
    "                distance[j] = G[j][vnear]\n",
    "                nearest[j] = vnear\n",
    "    #n번째 nearest 출력\n",
    "    \n",
    "    for i in range(len(nearest)):\n",
    "        if ((nearest[i] != -1) and (i != len(nearest)-1)):\n",
    "            print(nearest[i],end=' ')\n",
    "        elif ((nearest[i] != -1) and (i == len(nearest)-1)):\n",
    "            print(nearest[i],end='')\n",
    "    print()   \n",
    "        \n",
    "    \n",
    "    return F\n",
    "n,m = map(int, input().split())\n",
    "INF = 9999999\n",
    "G = [[INF]*(n+1) for _ in range(n+1)]\n",
    "#대각선 0으로 만들기\n",
    "for a in range(1, n + 1):\n",
    "    for b in range(1, n + 1):\n",
    "        if a == b:\n",
    "            G[a][b] = 0\n",
    "#인접리스트 대칭으로 만들기\n",
    "for i in range(m):\n",
    "    u, v, w = map(int, input().split())\n",
    "    G[u][v] = w\n",
    "    G[v][u] = w\n",
    "F= prim(G)\n",
    "for i in range(len(F)):\n",
    "    for j in range(len(F[0])):\n",
    "        if(j == len(F[0])-1):\n",
    "            print(F[i][j],end='')\n",
    "        else:\n",
    "            print(F[i][j],end=' ')\n",
    "    print()"
   ]
  },
  {
   "cell_type": "code",
   "execution_count": null,
   "metadata": {},
   "outputs": [],
   "source": []
  }
 ],
 "metadata": {
  "interpreter": {
   "hash": "8fac594bfae6525c0c41b4041d2d72effa188cc8ead05f81b1fab2bb098927fb"
  },
  "kernelspec": {
   "display_name": "Python 3.9.7 ('base')",
   "language": "python",
   "name": "python3"
  },
  "language_info": {
   "codemirror_mode": {
    "name": "ipython",
    "version": 3
   },
   "file_extension": ".py",
   "mimetype": "text/x-python",
   "name": "python",
   "nbconvert_exporter": "python",
   "pygments_lexer": "ipython3",
   "version": "3.9.7"
  },
  "orig_nbformat": 4
 },
 "nbformat": 4,
 "nbformat_minor": 2
}
