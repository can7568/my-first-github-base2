{
 "cells": [
  {
   "cell_type": "code",
   "execution_count": 2,
   "metadata": {},
   "outputs": [],
   "source": [
    "def solve(row, col, triangle,cost):\n",
    "    if row == len(triangle):\n",
    "        return 0\n",
    "    elif cost[row][col] == 0:\n",
    "        cost[row][col] = triangle[row][col] + max(solve(row+1,col,triangle,cost), solve(row+1,col+1,triangle,cost))\n",
    "        \n",
    "        route[row][col] = triangle[row][col]\n",
    "        \n",
    "    return cost[row][col]\n"
   ]
  },
  {
   "cell_type": "code",
   "execution_count": 78,
   "metadata": {},
   "outputs": [],
   "source": [
    "triangle = []"
   ]
  },
  {
   "cell_type": "code",
   "execution_count": 79,
   "metadata": {},
   "outputs": [],
   "source": [
    "#텍스트 파일 불러와서 리스트에 저장하기\n",
    "with open('triangle.in') as inFile:\n",
    "    for line in inFile: ## 2\n",
    "        ns = [int(w) for w in line.split()]\n",
    "        triangle.append(ns)## 3"
   ]
  },
  {
   "cell_type": "code",
   "execution_count": 82,
   "metadata": {},
   "outputs": [],
   "source": [
    "triangle = triangle[1:]"
   ]
  },
  {
   "cell_type": "code",
   "execution_count": 25,
   "metadata": {},
   "outputs": [],
   "source": [
    "n = int(input())\n",
    "triangle = [[0]*n for _ in range(n)]\n",
    "for i in range(n):  \n",
    "    triangle[i] = list(map(int, input().split()))"
   ]
  },
  {
   "cell_type": "markdown",
   "metadata": {},
   "source": [
    "삼각형 최단경로 문제"
   ]
  },
  {
   "cell_type": "code",
   "execution_count": 89,
   "metadata": {},
   "outputs": [
    {
     "name": "stdout",
     "output_type": "stream",
     "text": [
      "[174, 194, 136, 192, 185, 52, 93, 140, 173, 129, 36, 131, 64, 123, 73, 170, 178]\n",
      "[261, 285, 251, 272, 273, 192, 234, 238, 228, 206, 186, 215, 150, 176, 248, 206]\n",
      "[371, 378, 323, 330, 290, 327, 247, 245, 303, 303, 310, 293, 263, 347, 301]\n",
      "[470, 465, 400, 378, 330, 365, 289, 320, 385, 397, 368, 300, 434, 404]\n",
      "[515, 558, 481, 457, 370, 383, 398, 471, 410, 462, 431, 533, 529]\n",
      "[636, 650, 576, 478, 467, 491, 503, 484, 559, 473, 570, 602]\n",
      "[706, 684, 611, 531, 569, 534, 584, 577, 649, 663, 617]\n",
      "[739, 730, 682, 627, 571, 663, 646, 737, 694, 742]\n",
      "[823, 806, 777, 714, 725, 744, 754, 815, 800]\n",
      "[868, 834, 828, 801, 825, 772, 890, 901]\n",
      "[958, 915, 908, 863, 917, 957, 974]\n",
      "[1019, 1010, 974, 974, 1034, 1042]\n",
      "[1059, 1061, 1061, 1120, 1123]\n",
      "[1087, 1114, 1126, 1157]\n",
      "[1166, 1166, 1193]\n",
      "[1239, 1234]\n",
      "[1298]\n",
      "[59, 73, 52, 53, 51, 95, 81, 28, 76, 46, 34, 92, 93, 87, 93, 91, 99, 95]\n",
      "[1298]\n"
     ]
    }
   ],
   "source": [
    "mx = triangle[-1]\n",
    "directions = []\n",
    "for row in reversed(triangle[:-1]):\n",
    "    directions.append([l < r for l, r in zip(mx[:-1], mx[1:])])\n",
    "    # print(directions)\n",
    "    mx = [x + max(l, r) for x, l, r in zip(row, mx[:-1], mx[1:])]\n",
    "    print(mx)\n",
    "directions.reverse()\n",
    "pos = 0\n",
    "path = [triangle[0][0]]\n",
    "# print(mx)\n",
    "for direction, row in zip(directions, triangle[1:]):\n",
    "    pos += direction[pos]\n",
    "    # print(pos)\n",
    "    path.append(row[pos])\n",
    "print(path)\n",
    "print(mx)"
   ]
  },
  {
   "cell_type": "code",
   "execution_count": 768,
   "metadata": {},
   "outputs": [],
   "source": [
    "def floyd(w):\n",
    "    n = len(w)\n",
    "    D = w\n",
    "    print(D)\n",
    "    P = [[-1]*n for _ in range(n)]\n",
    "\n",
    "    for k in range(n):\n",
    "        for i in range(n):\n",
    "            for j in range(n):\n",
    "                if (D[i][j] > D[i][k] + D[k][j]):\n",
    "                    D[i][j] = D[i][k] + D[k][j]\n",
    "                    P[i][j] = k\n",
    "    return D, P\n",
    "                "
   ]
  },
  {
   "cell_type": "code",
   "execution_count": 779,
   "metadata": {},
   "outputs": [],
   "source": [
    "B= [[1, 2, 1], [1, 4, 1], [1, 5, 5], [2, 1,9], [2, 3, 3], [2, 4, 2], [3, 4, 4], [4, 3, 2], [4, 5, 3], [5, 1, 3]]"
   ]
  },
  {
   "cell_type": "code",
   "execution_count": 780,
   "metadata": {},
   "outputs": [],
   "source": [
    "INF = 999"
   ]
  },
  {
   "cell_type": "code",
   "execution_count": 776,
   "metadata": {},
   "outputs": [],
   "source": [
    "n = int(input())\n",
    "m = int(input())"
   ]
  },
  {
   "cell_type": "code",
   "execution_count": 781,
   "metadata": {},
   "outputs": [],
   "source": [
    "\n",
    "A = [[INF for _ in range(n+1)] for _ in range(n+1)]\n",
    "\n",
    "for i in range(m):\n",
    "    start, end, cost = B[i]\n",
    "    A[start][end] = cost"
   ]
  },
  {
   "cell_type": "code",
   "execution_count": 782,
   "metadata": {},
   "outputs": [
    {
     "name": "stdout",
     "output_type": "stream",
     "text": [
      "0 1 3 1 4 \n",
      "8 0 3 2 5 \n",
      "10 11 0 4 7 \n",
      "6 7 2 0 3 \n",
      "3 4 6 4 0 \n",
      "4 5 5 5 5 \n",
      "5 4 5 5 5 \n",
      "5 5 4 5 5 \n",
      "5 5 5 4 5 \n",
      "5 5 5 5 4 \n"
     ]
    }
   ],
   "source": [
    "P = [[0]*len(A) for _ in range(len(A))]\n",
    "for k in range(1, n+1): #경로 for문이 가장 상위 단계여야 누락되지 않는다\n",
    "    for i in range(1, n+1):\n",
    "        for j in range(1, n+1):\n",
    "            if i == j: #자기 자신으로 오는 경우는 없다고 했으므로\n",
    "                A[i][j] = 0\n",
    "                P[i][j] = k-1\n",
    "            else: #경로 거치는 것 or 직접 가는 것 or 이전 경로들\n",
    "                A[i][j] = min(A[i][j],\n",
    "                                     A[i][k] + A[k][j])\n",
    "                P[i][j] = k\n",
    "\n",
    "\n",
    "#출력\n",
    "for row in A[1:]:\n",
    "    for col in row[1:]:\n",
    "        if col == 100001:\n",
    "            print(0, end = \" \")\n",
    "        else:\n",
    "            print(col, end = \" \")\n",
    "    print()\n",
    "for row in P[1:]:\n",
    "    for col in row[1:]:\n",
    "        if col == 100001:\n",
    "            print(0, end = \" \")\n",
    "        else:\n",
    "            print(col, end = \" \")\n",
    "    print()"
   ]
  },
  {
   "cell_type": "code",
   "execution_count": 783,
   "metadata": {},
   "outputs": [
    {
     "data": {
      "text/plain": [
       "[[999, 999, 999, 999, 999, 999],\n",
       " [999, 0, 1, 3, 1, 4],\n",
       " [999, 8, 0, 3, 2, 5],\n",
       " [999, 10, 11, 0, 4, 7],\n",
       " [999, 6, 7, 2, 0, 3],\n",
       " [999, 3, 4, 6, 4, 0]]"
      ]
     },
     "execution_count": 783,
     "metadata": {},
     "output_type": "execute_result"
    }
   ],
   "source": [
    "A"
   ]
  },
  {
   "cell_type": "code",
   "execution_count": 784,
   "metadata": {},
   "outputs": [
    {
     "name": "stdout",
     "output_type": "stream",
     "text": [
      "[[999, 999, 999, 999, 999, 999], [999, 0, 1, 3, 1, 4], [999, 8, 0, 3, 2, 5], [999, 10, 11, 0, 4, 7], [999, 6, 7, 2, 0, 3], [999, 3, 4, 6, 4, 0]]\n"
     ]
    }
   ],
   "source": [
    "D,P = floyd(A)"
   ]
  },
  {
   "cell_type": "code",
   "execution_count": 785,
   "metadata": {},
   "outputs": [
    {
     "data": {
      "text/plain": [
       "[[999, 999, 999, 999, 999, 999],\n",
       " [999, 0, 1, 3, 1, 4],\n",
       " [999, 8, 0, 3, 2, 5],\n",
       " [999, 10, 11, 0, 4, 7],\n",
       " [999, 6, 7, 2, 0, 3],\n",
       " [999, 3, 4, 6, 4, 0]]"
      ]
     },
     "execution_count": 785,
     "metadata": {},
     "output_type": "execute_result"
    }
   ],
   "source": [
    "D"
   ]
  },
  {
   "cell_type": "code",
   "execution_count": 786,
   "metadata": {},
   "outputs": [
    {
     "data": {
      "text/plain": [
       "[[-1, -1, -1, -1, -1, -1],\n",
       " [-1, -1, -1, -1, -1, -1],\n",
       " [-1, -1, -1, -1, -1, -1],\n",
       " [-1, -1, -1, -1, -1, -1],\n",
       " [-1, -1, -1, -1, -1, -1],\n",
       " [-1, -1, -1, -1, -1, -1]]"
      ]
     },
     "execution_count": 786,
     "metadata": {},
     "output_type": "execute_result"
    }
   ],
   "source": [
    "P"
   ]
  },
  {
   "cell_type": "code",
   "execution_count": 679,
   "metadata": {},
   "outputs": [],
   "source": [
    "def path(P,u,v):\n",
    "    if (P[u][v] != -1):\n",
    "        path(P,u,P[u][v])\n",
    "        print('v%d'%(P[u][v]),end='->')\n",
    "        path(P,P[u][v],v)"
   ]
  },
  {
   "cell_type": "code",
   "execution_count": 602,
   "metadata": {},
   "outputs": [],
   "source": [
    "n,m = map(int, input().split())\n",
    "A = [[0]*m for _ in range(m)]\n",
    "for i in range(m):    \n",
    "\tA[i] = list(map(int, input().split()))\n",
    "t = int(input())\n",
    "T = [[0]*t for _ in range(t)]\n",
    "for i in range(t):    \n",
    "\tT[i] = list(map(int, input().split()))"
   ]
  },
  {
   "cell_type": "code",
   "execution_count": 618,
   "metadata": {},
   "outputs": [],
   "source": [
    "A = [[1, 2, 1], [1, 4, 1], [1, 5, 5], [2, 1,9], [2, 3, 3], [2, 4, 2], [3, 4, 4], [4, 3, 2], [4, 5, 3], [5, 1, 3]]"
   ]
  },
  {
   "cell_type": "code",
   "execution_count": 672,
   "metadata": {},
   "outputs": [],
   "source": [
    "u = 4\n",
    "v = 2"
   ]
  },
  {
   "cell_type": "code",
   "execution_count": 681,
   "metadata": {},
   "outputs": [],
   "source": [
    "path(P,u,v)"
   ]
  },
  {
   "cell_type": "code",
   "execution_count": 751,
   "metadata": {},
   "outputs": [
    {
     "name": "stdout",
     "output_type": "stream",
     "text": [
      "0 1 3 1 4 \n",
      "8 0 3 2 5 \n",
      "10 11 0 4 7 \n",
      "6 7 2 0 3 \n",
      "3 4 6 4 0 \n"
     ]
    }
   ],
   "source": [
    "# '무한'을 의미하는 값을 10억으로 초기화\n",
    "INF = int(1e9)\n",
    "\n",
    "# 노드와 간선의 개수를 입력 받기\n",
    "num_node = int(input(\"노드의 개수를 입력하세요: \"))\n",
    "num_edge = int(input(\"간선의 개수를 입력하세요: \"))\n",
    "\n",
    "# 최단 거리 테이블 역할의 2차원 리스트를 생성하고 모든 값을 '무한'으로 초기화\n",
    "# 2차원 리스트의 인덱스와 노드 번호를 일치시키기 위해 행, 열의 개수를 1개씩 추가\n",
    "min_dist_table = [[INF]*(num_node+1) for _ in range(num_node+1)]\n",
    "\n",
    "# 자기 자신으로 가는 거리는 0이므로 대각행렬 0으로 초기화\n",
    "for a in range(1, num_node + 1):\n",
    "    for b in range(1, num_node + 1):\n",
    "        if a == b:\n",
    "            min_dist_table[a][b] = 0\n",
    "            \n",
    "# 간선의 정보를 입력받아 최단 거리 테이블 초기화\n",
    "for i in range(num_edge):\n",
    "    a, b, cost = B[i]\n",
    "    min_dist_table[a][b] = cost\n",
    "\n",
    "# 점화식을 기반으로 플로이드 워셜 알고리즘 수행\n",
    "for k in range(1, num_node + 1):\n",
    "    for a in range(1, num_node + 1):\n",
    "        for b in range(1, num_node + 1):\n",
    "            min_dist_table[a][b] = min( min_dist_table[a][b], min_dist_table[a][k] + min_dist_table[k][b])\n",
    "\n",
    "# 결과 출력\n",
    "for a in range(1, num_node + 1):\n",
    "    for b in range(1, num_node +1):\n",
    "        # 노드를 방문할 수 없는 경우, '무한' 값 출력\n",
    "        if min_dist_table[a][b] == INF:\n",
    "            print(\"INF\")\n",
    "        else:\n",
    "            # 노드를 방문할 수 있을 경우 최단 거리 출력\n",
    "            print(min_dist_table[a][b], end = ' ')\n",
    "    # 개행\n",
    "    print()"
   ]
  },
  {
   "cell_type": "code",
   "execution_count": null,
   "metadata": {},
   "outputs": [],
   "source": []
  }
 ],
 "metadata": {
  "interpreter": {
   "hash": "8fac594bfae6525c0c41b4041d2d72effa188cc8ead05f81b1fab2bb098927fb"
  },
  "kernelspec": {
   "display_name": "Python 3.9.7 ('base')",
   "language": "python",
   "name": "python3"
  },
  "language_info": {
   "codemirror_mode": {
    "name": "ipython",
    "version": 3
   },
   "file_extension": ".py",
   "mimetype": "text/x-python",
   "name": "python",
   "nbconvert_exporter": "python",
   "pygments_lexer": "ipython3",
   "version": "3.9.7"
  },
  "orig_nbformat": 4
 },
 "nbformat": 4,
 "nbformat_minor": 2
}
