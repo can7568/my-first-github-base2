{
 "cells": [
  {
   "cell_type": "code",
   "execution_count": 135,
   "metadata": {},
   "outputs": [
    {
     "name": "stdout",
     "output_type": "stream",
     "text": [
      "14200\n",
      "975811210364211\n"
     ]
    }
   ],
   "source": [
    "n = int(input())\n",
    "col = [0 for _ in range(n+1)]\n",
    "cnt = 0\n",
    "max = 0\n",
    "def queens(i):\n",
    "    global cnt\n",
    "    global max\n",
    "    if(promising(i)):\n",
    "        if(i == n):\n",
    "            cnt +=1\n",
    "            s = ''\n",
    "            for i in range(len(col)):\n",
    "                s = s + str(col[i])\n",
    "            m = int(s)\n",
    "            if(max < m):\n",
    "                max = m\n",
    "                \n",
    "        else:\n",
    "            for j in range(1,n+1):\n",
    "                col[i+1] = j\n",
    "                queens(i+1)\n",
    "def promising(i):\n",
    "    k = 1\n",
    "    flag = True\n",
    "    while((k < i) and flag):\n",
    "        if((col[i] == col[k]) or (abs(col[i] - col[k]) == (i - k))):\n",
    "            flag = False\n",
    "        k +=1\n",
    "    return flag\n",
    "queens(0)   \n",
    "print(cnt)\n",
    "print(max)"
   ]
  },
  {
   "cell_type": "code",
   "execution_count": 126,
   "metadata": {},
   "outputs": [],
   "source": [
    "cnt = 0\n",
    "max = 0"
   ]
  },
  {
   "cell_type": "code",
   "execution_count": 127,
   "metadata": {},
   "outputs": [],
   "source": [
    "def queens(i):\n",
    "    global cnt\n",
    "    global max\n",
    "    if(promising(i)):\n",
    "        if(i == n):\n",
    "            cnt +=1\n",
    "            s = ''\n",
    "            for i in range(len(col)):\n",
    "                s = s + str(col[i])\n",
    "            m = int(s)\n",
    "            if(max < m):\n",
    "                max = m\n",
    "                \n",
    "        else:\n",
    "            for j in range(1,n+1):\n",
    "                col[i+1] = j\n",
    "                queens(i+1)           "
   ]
  },
  {
   "cell_type": "code",
   "execution_count": 128,
   "metadata": {},
   "outputs": [],
   "source": [
    "def promising(i):\n",
    "    k = 1\n",
    "    flag = True\n",
    "    while((k < i) and flag):\n",
    "        if((col[i] == col[k]) or (abs(col[i] - col[k]) == (i - k))):\n",
    "            flag = False\n",
    "        k +=1\n",
    "    return flag"
   ]
  },
  {
   "cell_type": "code",
   "execution_count": 129,
   "metadata": {},
   "outputs": [],
   "source": [
    "queens(0)   "
   ]
  },
  {
   "cell_type": "code",
   "execution_count": 132,
   "metadata": {},
   "outputs": [
    {
     "name": "stdout",
     "output_type": "stream",
     "text": [
      "352\n",
      "974286135\n"
     ]
    }
   ],
   "source": [
    "print(cnt)\n",
    "print(max)"
   ]
  },
  {
   "cell_type": "code",
   "execution_count": null,
   "metadata": {},
   "outputs": [],
   "source": []
  }
 ],
 "metadata": {
  "interpreter": {
   "hash": "f08154012ddadd8e950e6e9e035c7a7b32c136e7647e9b7c77e02eb723a8bedb"
  },
  "kernelspec": {
   "display_name": "Python 3.9.7 ('base')",
   "language": "python",
   "name": "python3"
  },
  "language_info": {
   "codemirror_mode": {
    "name": "ipython",
    "version": 3
   },
   "file_extension": ".py",
   "mimetype": "text/x-python",
   "name": "python",
   "nbconvert_exporter": "python",
   "pygments_lexer": "ipython3",
   "version": "3.9.7"
  },
  "orig_nbformat": 4
 },
 "nbformat": 4,
 "nbformat_minor": 2
}
