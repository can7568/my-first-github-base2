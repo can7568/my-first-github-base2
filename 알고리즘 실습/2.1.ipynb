{
 "cells": [
  {
   "cell_type": "code",
   "execution_count": 4,
   "metadata": {},
   "outputs": [],
   "source": [
    "n = int(input())\n",
    "m = [int(i) for  i in input().split()]\n",
    "print(min(m))\n",
    "print(max(m))"
   ]
  },
  {
   "cell_type": "code",
   "execution_count": 10,
   "metadata": {},
   "outputs": [
    {
     "name": "stdout",
     "output_type": "stream",
     "text": [
      "10\n",
      "30\n"
     ]
    }
   ],
   "source": [
    "print(min(m))\n",
    "print(max(m))"
   ]
  },
  {
   "cell_type": "code",
   "execution_count": 2,
   "metadata": {},
   "outputs": [
    {
     "name": "stdout",
     "output_type": "stream",
     "text": [
      "28 38\n",
      "26 36\n"
     ]
    }
   ],
   "source": [
    "n,k,m = map(int, input().split())\n",
    "A=[[0]*k]*n\n",
    "B = [[0]*m]*k\n",
    "for i in range(n):    \n",
    "\tA[i] = list(map(int, input().split()))\n",
    "for i in range(k):    \n",
    "    B[i] = list(map(int, input().split()))\n",
    "def matrix(A,B):\n",
    "    C = [[0 for _ in range(len(B[0]))] for _ in range(len(A))]\n",
    "    for i in range(len(A)):\n",
    "        for j in range(len(B[0])):\n",
    "            for k in range (len(A[0])):\n",
    "                C[i][j] += A[i][k] * B[k][j]\n",
    "    return C\n",
    "C = matrix(A,B)\n",
    "for i in C:\n",
    "    for j in i:\n",
    "        print(j,end=\" \")\n",
    "    print(\"\\b\",end=\"\")\n",
    "    print(\"\")\n",
    "    "
   ]
  },
  {
   "cell_type": "code",
   "execution_count": 3,
   "metadata": {},
   "outputs": [
    {
     "name": "stdout",
     "output_type": "stream",
     "text": [
      "28.38\n",
      "26.36\n"
     ]
    }
   ],
   "source": [
    "for i in C:\n",
    "    for j in i:\n",
    "        print(j,end=\".\")\n",
    "    print(\"\\b\",end=\"\")\n",
    "    print(\"\")\n",
    "    "
   ]
  },
  {
   "cell_type": "code",
   "execution_count": 59,
   "metadata": {},
   "outputs": [],
   "source": [
    "def matrix(A,B):\n",
    "    C = [[0 for _ in range(len(B[0]))] for _ in range(len(A))]\n",
    "    for i in range(len(A)):\n",
    "        for j in range(len(B[0])):\n",
    "            for k in range (len(A[0])):\n",
    "                C[i][j] += A[i][k] * B[k][j]\n",
    "    return C\n"
   ]
  },
  {
   "cell_type": "code",
   "execution_count": 118,
   "metadata": {},
   "outputs": [
    {
     "name": "stdout",
     "output_type": "stream",
     "text": [
      "43 53 54 37\n",
      "123 149 130 93\n",
      "95 110 44 41\n",
      "103 125 111 79\n"
     ]
    }
   ],
   "source": [
    "C = matrix(A,B)\n",
    "for i in C:\n",
    "    for j in i:\n",
    "        print(j,end=\" \")\n",
    "    print(\"\\b\\n\",end=\"\")\n",
    "    \n",
    "    \n",
    "    "
   ]
  },
  {
   "cell_type": "code",
   "execution_count": 136,
   "metadata": {},
   "outputs": [
    {
     "name": "stdout",
     "output_type": "stream",
     "text": [
      "28 38\n",
      "26 36\n"
     ]
    }
   ],
   "source": [
    "n,k,m = map(int, input().split())\n",
    "A=[[0]*k]*n\n",
    "B = [[0]*m]*k\n",
    "for i in range(n):    \n",
    "\tA[i] = list(map(int, input().split()))\n",
    "for i in range(k):    \n",
    "    B[i] = list(map(int, input().split()))\n",
    "def matrix(A,B):\n",
    "    C = [[0 for _ in range(len(B[0]))] for _ in range(len(A))]\n",
    "    for i in range(len(A)):\n",
    "        for j in range(len(B[0])):\n",
    "            for k in range (len(A[0])):\n",
    "                C[i][j] += A[i][k] * B[k][j]\n",
    "    return C\n",
    "C = matrix(A,B)\n",
    "for i in range(len(C)):\n",
    "    for j in range(len(C[i])):\n",
    "        if j < len(C[i])-1:\n",
    "            print(C[i][j],end =\" \")\n",
    "        elif j == len(C[i])-1:\n",
    "            print(C[i][j],end =\"\")\n",
    "    if i < len(C)-1:print()\n",
    " "
   ]
  },
  {
   "cell_type": "code",
   "execution_count": 153,
   "metadata": {},
   "outputs": [
    {
     "name": "stdout",
     "output_type": "stream",
     "text": [
      "28 38\n",
      "26 36"
     ]
    }
   ],
   "source": [
    "for i in range(len(C)):\n",
    "    for j in range(len(C[i])):\n",
    "        if j < len(C[i])-1:\n",
    "            print(C[i][j],end =\" \")\n",
    "        elif j == len(C[i])-1:\n",
    "            print(C[i][j],end =\"\")\n",
    "    if i < len(C)-1:print()"
   ]
  },
  {
   "cell_type": "code",
   "execution_count": 1,
   "metadata": {},
   "outputs": [
    {
     "ename": "NameError",
     "evalue": "name 'C' is not defined",
     "output_type": "error",
     "traceback": [
      "\u001b[1;31m---------------------------------------------------------------------------\u001b[0m",
      "\u001b[1;31mNameError\u001b[0m                                 Traceback (most recent call last)",
      "\u001b[1;32m~\\AppData\\Local\\Temp/ipykernel_11184/173889314.py\u001b[0m in \u001b[0;36m<module>\u001b[1;34m\u001b[0m\n\u001b[1;32m----> 1\u001b[1;33m \u001b[1;32mfor\u001b[0m \u001b[0mi\u001b[0m \u001b[1;32min\u001b[0m \u001b[0mC\u001b[0m\u001b[1;33m:\u001b[0m\u001b[1;33m\u001b[0m\u001b[1;33m\u001b[0m\u001b[0m\n\u001b[0m\u001b[0;32m      2\u001b[0m     \u001b[1;32mfor\u001b[0m \u001b[0mj\u001b[0m \u001b[1;32min\u001b[0m \u001b[0mi\u001b[0m\u001b[1;33m:\u001b[0m\u001b[1;33m\u001b[0m\u001b[1;33m\u001b[0m\u001b[0m\n\u001b[0;32m      3\u001b[0m         \u001b[0mprint\u001b[0m\u001b[1;33m(\u001b[0m\u001b[0mj\u001b[0m\u001b[1;33m,\u001b[0m\u001b[0mend\u001b[0m\u001b[1;33m=\u001b[0m\u001b[1;34m\" \"\u001b[0m\u001b[1;33m)\u001b[0m\u001b[1;33m\u001b[0m\u001b[1;33m\u001b[0m\u001b[0m\n\u001b[0;32m      4\u001b[0m     \u001b[0mprint\u001b[0m\u001b[1;33m(\u001b[0m\u001b[1;34m\"\\b\"\u001b[0m\u001b[1;33m,\u001b[0m\u001b[0mend\u001b[0m\u001b[1;33m=\u001b[0m\u001b[1;34m\"\\n\"\u001b[0m\u001b[1;33m)\u001b[0m\u001b[1;33m\u001b[0m\u001b[1;33m\u001b[0m\u001b[0m\n",
      "\u001b[1;31mNameError\u001b[0m: name 'C' is not defined"
     ]
    }
   ],
   "source": [
    "for i in C:\n",
    "    for j in i:\n",
    "        print(j,end=\" \")\n",
    "    print(\"\\b\",end=\"\\n\")"
   ]
  },
  {
   "cell_type": "markdown",
   "metadata": {},
   "source": []
  },
  {
   "cell_type": "code",
   "execution_count": 150,
   "metadata": {},
   "outputs": [
    {
     "name": "stdout",
     "output_type": "stream",
     "text": [
      "19 22\n",
      "43 50"
     ]
    }
   ],
   "source": [
    "def matrix_mul(arr1, arr2):\n",
    "    answer = [len(arr2[0])*[0] for _ in range(len(arr1))]\n",
    "    \n",
    "    for i in range(len(answer)):\n",
    "        for j in range(len(answer[i])):\n",
    "            for a in range(len(arr1[i])):\n",
    "                answer[i][j] += arr1[i][a] * arr2[a][j]\n",
    "    return answer\n",
    "\n",
    "dimension = list(map(int, input().split()))\n",
    "\n",
    "n=dimension[0] #1차원\n",
    "k=dimension[1] #2차원\n",
    "m=dimension[2] #3차원\n",
    "\n",
    "matrix_a = [list(map(int,input().split())) for _ in range(n)]\n",
    "matrix_b = [list(map(int,input().split())) for _ in range(k)]\n",
    "\n",
    "matrix_c = matrix_mul(matrix_a, matrix_b)\n",
    "\n",
    "\n",
    "for i in range(len(matrix_c)):\n",
    "    for j in range(len(matrix_c[i])):\n",
    "        if j < len(matrix_c[i])-1:\n",
    "            print(matrix_c[i][j],end =\" \")\n",
    "        elif j == len(matrix_c[i])-1:\n",
    "            print(matrix_c[i][j],end =\"\")\n",
    "    if i < len(matrix_c)-1:print()"
   ]
  },
  {
   "cell_type": "code",
   "execution_count": 200,
   "metadata": {},
   "outputs": [],
   "source": [
    "n = int(input())\n",
    "m = [int(i) for  i in input().split()]\n"
   ]
  },
  {
   "cell_type": "code",
   "execution_count": 210,
   "metadata": {},
   "outputs": [],
   "source": [
    "cnt = 0\n",
    "value = -1\n",
    "def binary_search(arr, low=None, high=None):\n",
    "    global cnt\n",
    "    cnt +=1\n",
    "    global value\n",
    "    low, high = low or 0, high or len(arr) - 1\n",
    "    while low <= high:\n",
    "        \n",
    "        mid = (low + high) // 2\n",
    "        if arr[mid] > mid:\n",
    "            return binary_search(arr, mid, low, mid)\n",
    "        if arr[mid] == mid:\n",
    "            return mid\n",
    "        if arr[mid] < mid:\n",
    "            return binary_search(arr, mid, mid + 1, high)\n",
    "    return -1"
   ]
  },
  {
   "cell_type": "code",
   "execution_count": 211,
   "metadata": {},
   "outputs": [
    {
     "ename": "TypeError",
     "evalue": "binary_search() takes from 1 to 3 positional arguments but 4 were given",
     "output_type": "error",
     "traceback": [
      "\u001b[1;31m---------------------------------------------------------------------------\u001b[0m",
      "\u001b[1;31mTypeError\u001b[0m                                 Traceback (most recent call last)",
      "\u001b[1;32m~\\AppData\\Local\\Temp/ipykernel_3184/3207527805.py\u001b[0m in \u001b[0;36m<module>\u001b[1;34m\u001b[0m\n\u001b[1;32m----> 1\u001b[1;33m \u001b[0mbinary_search\u001b[0m\u001b[1;33m(\u001b[0m\u001b[0mm\u001b[0m\u001b[1;33m)\u001b[0m\u001b[1;33m\u001b[0m\u001b[1;33m\u001b[0m\u001b[0m\n\u001b[0m",
      "\u001b[1;32m~\\AppData\\Local\\Temp/ipykernel_3184/4258928912.py\u001b[0m in \u001b[0;36mbinary_search\u001b[1;34m(arr, low, high)\u001b[0m\n\u001b[0;32m     10\u001b[0m         \u001b[0mmid\u001b[0m \u001b[1;33m=\u001b[0m \u001b[1;33m(\u001b[0m\u001b[0mlow\u001b[0m \u001b[1;33m+\u001b[0m \u001b[0mhigh\u001b[0m\u001b[1;33m)\u001b[0m \u001b[1;33m//\u001b[0m \u001b[1;36m2\u001b[0m\u001b[1;33m\u001b[0m\u001b[1;33m\u001b[0m\u001b[0m\n\u001b[0;32m     11\u001b[0m         \u001b[1;32mif\u001b[0m \u001b[0marr\u001b[0m\u001b[1;33m[\u001b[0m\u001b[0mmid\u001b[0m\u001b[1;33m]\u001b[0m \u001b[1;33m>\u001b[0m \u001b[0mmid\u001b[0m\u001b[1;33m:\u001b[0m\u001b[1;33m\u001b[0m\u001b[1;33m\u001b[0m\u001b[0m\n\u001b[1;32m---> 12\u001b[1;33m             \u001b[1;32mreturn\u001b[0m \u001b[0mbinary_search\u001b[0m\u001b[1;33m(\u001b[0m\u001b[0marr\u001b[0m\u001b[1;33m,\u001b[0m \u001b[0mmid\u001b[0m\u001b[1;33m,\u001b[0m \u001b[0mlow\u001b[0m\u001b[1;33m,\u001b[0m \u001b[0mmid\u001b[0m\u001b[1;33m)\u001b[0m\u001b[1;33m\u001b[0m\u001b[1;33m\u001b[0m\u001b[0m\n\u001b[0m\u001b[0;32m     13\u001b[0m         \u001b[1;32mif\u001b[0m \u001b[0marr\u001b[0m\u001b[1;33m[\u001b[0m\u001b[0mmid\u001b[0m\u001b[1;33m]\u001b[0m \u001b[1;33m==\u001b[0m \u001b[0mmid\u001b[0m\u001b[1;33m:\u001b[0m\u001b[1;33m\u001b[0m\u001b[1;33m\u001b[0m\u001b[0m\n\u001b[0;32m     14\u001b[0m             \u001b[1;32mreturn\u001b[0m \u001b[0mmid\u001b[0m\u001b[1;33m\u001b[0m\u001b[1;33m\u001b[0m\u001b[0m\n",
      "\u001b[1;31mTypeError\u001b[0m: binary_search() takes from 1 to 3 positional arguments but 4 were given"
     ]
    }
   ],
   "source": [
    "binary_search(m)"
   ]
  },
  {
   "cell_type": "code",
   "execution_count": 221,
   "metadata": {},
   "outputs": [],
   "source": [
    "n = int(input())\n",
    "m = [int(i) for  i in input().split()]"
   ]
  },
  {
   "cell_type": "code",
   "execution_count": 224,
   "metadata": {},
   "outputs": [
    {
     "name": "stdout",
     "output_type": "stream",
     "text": [
      "-1\n",
      "3\n"
     ]
    }
   ],
   "source": [
    "def binary_search(m):\n",
    "    low = 0\n",
    "    high = len(m) - 1\n",
    "    cnt = 0\n",
    "    while low <= high:\n",
    "        cnt += 1\n",
    "        mid = (low + high) // 2\n",
    "\n",
    "        if m[mid] == mid:\n",
    "            return mid,cnt\n",
    "        elif m[mid] < mid:\n",
    "            low = mid + 1\n",
    "        else:\n",
    "            high = mid -1\n",
    "\n",
    "    return -1,cnt\n",
    "n = int(input())\n",
    "m = [int(i) for  i in input().split()]\n",
    "value ,cnt = binary_search(m)\n",
    "print(value)\n",
    "print(cnt)"
   ]
  },
  {
   "cell_type": "code",
   "execution_count": 223,
   "metadata": {},
   "outputs": [
    {
     "data": {
      "text/plain": [
       "(0, 1)"
      ]
     },
     "execution_count": 223,
     "metadata": {},
     "output_type": "execute_result"
    }
   ],
   "source": [
    "binary_search(m)"
   ]
  },
  {
   "cell_type": "code",
   "execution_count": null,
   "metadata": {},
   "outputs": [],
   "source": []
  }
 ],
 "metadata": {
  "interpreter": {
   "hash": "8fac594bfae6525c0c41b4041d2d72effa188cc8ead05f81b1fab2bb098927fb"
  },
  "kernelspec": {
   "display_name": "Python 3.9.7 ('base')",
   "language": "python",
   "name": "python3"
  },
  "language_info": {
   "codemirror_mode": {
    "name": "ipython",
    "version": 3
   },
   "file_extension": ".py",
   "mimetype": "text/x-python",
   "name": "python",
   "nbconvert_exporter": "python",
   "pygments_lexer": "ipython3",
   "version": "3.9.7"
  },
  "orig_nbformat": 4
 },
 "nbformat": 4,
 "nbformat_minor": 2
}
