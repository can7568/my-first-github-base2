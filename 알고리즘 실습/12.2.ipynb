{
 "cells": [
  {
   "cell_type": "code",
   "execution_count": 140,
   "metadata": {},
   "outputs": [
    {
     "name": "stdout",
     "output_type": "stream",
     "text": [
      "21\n",
      "1 3 4 2 1\n",
      "1 7 21\n",
      "2 0 1\n",
      "2 4 10\n",
      "2 6 20\n",
      "3 1 8\n",
      "3 4 14\n",
      "3 5 12\n",
      "4 0 6\n",
      "4 1 4\n"
     ]
    }
   ],
   "source": [
    "def tour(v,A,P):\n",
    "    k = P[v][A]\n",
    "    if(A == 0):\n",
    "        print(\"1\")\n",
    "    else:\n",
    "        print(k, end=\" \")\n",
    "        tour(k,diff(A,k),P)\n",
    "def travel(W):\n",
    "    n = len(W) - 1\n",
    "    j = 1\n",
    "    subset_size = pow(2,n-1)\n",
    "    D = [[0] * subset_size for _ in range(n+1)]\n",
    "    P = [[0] * subset_size for _ in range(n+1)]\n",
    "    for i in range(2,n+1):\n",
    "        D[i][0] = W[i][1]\n",
    "    for k in range(1,n-1):\n",
    "        for A in range(1,subset_size):\n",
    "            if (count(A,n) != k):\n",
    "                pass\n",
    "            else:\n",
    "                for i in range(2,n+1):\n",
    "                    if(isIn(i,A)):\n",
    "                        pass\n",
    "                    else:\n",
    "                        D[i][A],P[i][A] = minimum(n,i,j,A,W,D)\n",
    "        \n",
    "    A = subset_size -1\n",
    "    D[1][A], P[1][A] = minimum(n,1,j,A,W,D)\n",
    "    minlength = D[1][A]\n",
    "    print(minlength)\n",
    "    print(\"1\",end=\" \")\n",
    "    tour(1,pow(2,n-1)-1,P)\n",
    "    return minlength, D,P\n",
    "def count(A,n):\n",
    "    cnt = 0\n",
    "    for i in range(n):  \n",
    "        if((A & (1<<i)) != 0):\n",
    "            cnt +=1\n",
    "    return cnt\n",
    "def isIn(i,A):\n",
    "    if ((A & (1 << (i-2))) != 0) :\n",
    "        return True\n",
    "    else:\n",
    "        return False\n",
    "def minimum(n,i,j,A,W,D):\n",
    "    minV = INF\n",
    "    minJ = 0\n",
    "    for j in range(2,n+1):\n",
    "        if(not isIn(j,A)):\n",
    "            continue\n",
    "        else:\n",
    "            value = W[i][j] + D[j][diff(A,j)]\n",
    "            if minV > value:\n",
    "                minV = value\n",
    "                minJ = j\n",
    "            \n",
    "    return minV,minJ\n",
    "\n",
    "def diff(A,j):\n",
    "    return (A & (~(1 << (j-2))))\n",
    "n,m = map(int, input().split())\n",
    "INF = 9999999\n",
    "G = [[INF]*(n+1) for _ in range(n+1)]\n",
    "#대각선 0으로 만들기\n",
    "for a in range(1, n + 1):\n",
    "    for b in range(1, n + 1):\n",
    "        if a == b:\n",
    "            G[a][b] = 0\n",
    "            \n",
    "for i in range(m):\n",
    "    u, v, w = map(int, input().split())\n",
    "    G[u][v] = w\n",
    "m,D,P = travel(G)\n",
    "for i in range(len(D)):\n",
    "    for j in range(len(D[0])):\n",
    "        if D[i][j] != 0 and D[i][j] != INF:\n",
    "            print( i, j,D[i][j],)"
   ]
  },
  {
   "cell_type": "code",
   "execution_count": 119,
   "metadata": {},
   "outputs": [],
   "source": [
    "def count(A,n):\n",
    "    cnt = 0\n",
    "    for i in range(n):  \n",
    "        if((A & (1<<i)) != 0):\n",
    "            cnt +=1\n",
    "    return cnt"
   ]
  },
  {
   "cell_type": "code",
   "execution_count": 120,
   "metadata": {},
   "outputs": [],
   "source": [
    "def isIn(i,A):\n",
    "    if ((A & (1 << (i-2))) != 0) :\n",
    "        return True\n",
    "    else:\n",
    "        return False"
   ]
  },
  {
   "cell_type": "code",
   "execution_count": 121,
   "metadata": {},
   "outputs": [],
   "source": [
    "def minimum(n,i,j,A,W,D):\n",
    "    minV = INF\n",
    "    minJ = 0\n",
    "    for j in range(2,n+1):\n",
    "        if(not isIn(j,A)):\n",
    "            continue\n",
    "        else:\n",
    "            value = W[i][j] + D[j][diff(A,j)]\n",
    "            if minV > value:\n",
    "                minV = value\n",
    "                minJ = j\n",
    "            \n",
    "    return minV,minJ\n",
    "\n",
    "def diff(A,j):\n",
    "    return (A & (~(1 << (j-2))))"
   ]
  },
  {
   "cell_type": "code",
   "execution_count": 12,
   "metadata": {},
   "outputs": [],
   "source": [
    "n,m = map(int, input().split())\n",
    "INF = 9999999\n",
    "G = [[INF]*(n+1) for _ in range(n+1)]\n",
    "#대각선 0으로 만들기\n",
    "for a in range(1, n + 1):\n",
    "    for b in range(1, n + 1):\n",
    "        if a == b:\n",
    "            G[a][b] = 0\n",
    "            \n",
    "for i in range(m):\n",
    "    u, v, w = map(int, input().split())\n",
    "    G[u][v] = w"
   ]
  },
  {
   "cell_type": "code",
   "execution_count": 122,
   "metadata": {},
   "outputs": [],
   "source": [
    "G = [[-1, -1, -1, -1, -1],\n",
    " [-1, 0, 2, 9, INF],\n",
    " [-1, 1, 0, 6, 4],\n",
    " [-1, INF, 7, 0, 8],\n",
    " [-1, 6, 3, INF, 0]]"
   ]
  },
  {
   "cell_type": "code",
   "execution_count": 137,
   "metadata": {},
   "outputs": [
    {
     "name": "stdout",
     "output_type": "stream",
     "text": [
      "21\n",
      "1 3 4 2 1\n"
     ]
    }
   ],
   "source": [
    "m,D,P = travel(G)"
   ]
  },
  {
   "cell_type": "code",
   "execution_count": 130,
   "metadata": {},
   "outputs": [],
   "source": [
    "def tour(v,A,P):\n",
    "    k = P[v][A]\n",
    "    if(A == 0):\n",
    "        print(\"1\")\n",
    "    else:\n",
    "        print(k, end=\" \")\n",
    "        tour(k,diff(A,k),P)"
   ]
  },
  {
   "cell_type": "code",
   "execution_count": 139,
   "metadata": {},
   "outputs": [
    {
     "name": "stdout",
     "output_type": "stream",
     "text": [
      "1 7 21\n",
      "2 0 1\n",
      "2 4 10\n",
      "2 6 20\n",
      "3 1 8\n",
      "3 4 14\n",
      "3 5 12\n",
      "4 0 6\n",
      "4 1 4\n"
     ]
    }
   ],
   "source": [
    "for i in range(len(D)):\n",
    "    for j in range(len(D[0])):\n",
    "        if D[i][j] != 0 and D[i][j] != INF:\n",
    "            print( i, j,D[i][j],)"
   ]
  },
  {
   "cell_type": "code",
   "execution_count": 113,
   "metadata": {},
   "outputs": [
    {
     "data": {
      "text/plain": [
       "21"
      ]
     },
     "execution_count": 113,
     "metadata": {},
     "output_type": "execute_result"
    }
   ],
   "source": [
    "m"
   ]
  },
  {
   "cell_type": "code",
   "execution_count": 114,
   "metadata": {},
   "outputs": [
    {
     "data": {
      "text/plain": [
       "[[0, 0, 0, 0, 0, 0, 0, 0],\n",
       " [0, 0, 0, 0, 0, 0, 0, 21],\n",
       " [1, 0, 9999999, 0, 10, 0, 20, 0],\n",
       " [9999999, 8, 0, 0, 14, 12, 0, 0],\n",
       " [6, 4, 9999999, 9999999, 0, 0, 0, 0]]"
      ]
     },
     "execution_count": 114,
     "metadata": {},
     "output_type": "execute_result"
    }
   ],
   "source": [
    "D"
   ]
  },
  {
   "cell_type": "code",
   "execution_count": 109,
   "metadata": {},
   "outputs": [
    {
     "data": {
      "text/plain": [
       "[[0, 0, 0, 0, 0, 0, 0, 0],\n",
       " [0, 0, 0, 0, 0, 0, 0, 3],\n",
       " [0, 0, 0, 0, 4, 0, 3, 0],\n",
       " [0, 2, 0, 0, 4, 4, 0, 0],\n",
       " [0, 2, 0, 0, 0, 0, 0, 0]]"
      ]
     },
     "execution_count": 109,
     "metadata": {},
     "output_type": "execute_result"
    }
   ],
   "source": [
    "P"
   ]
  },
  {
   "cell_type": "code",
   "execution_count": null,
   "metadata": {},
   "outputs": [],
   "source": []
  }
 ],
 "metadata": {
  "interpreter": {
   "hash": "f08154012ddadd8e950e6e9e035c7a7b32c136e7647e9b7c77e02eb723a8bedb"
  },
  "kernelspec": {
   "display_name": "Python 3.9.7 ('base')",
   "language": "python",
   "name": "python3"
  },
  "language_info": {
   "codemirror_mode": {
    "name": "ipython",
    "version": 3
   },
   "file_extension": ".py",
   "mimetype": "text/x-python",
   "name": "python",
   "nbconvert_exporter": "python",
   "pygments_lexer": "ipython3",
   "version": "3.9.7"
  },
  "orig_nbformat": 4
 },
 "nbformat": 4,
 "nbformat_minor": 2
}
